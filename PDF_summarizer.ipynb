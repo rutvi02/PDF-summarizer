{
  "nbformat": 4,
  "nbformat_minor": 0,
  "metadata": {
    "colab": {
      "provenance": [],
      "gpuType": "T4"
    },
    "kernelspec": {
      "name": "python3",
      "display_name": "Python 3"
    },
    "language_info": {
      "name": "python"
    },
    "accelerator": "GPU",
    "widgets": {
      "application/vnd.jupyter.widget-state+json": {
        "83e93357781d4fb08e9b6dce74164445": {
          "model_module": "@jupyter-widgets/controls",
          "model_name": "HBoxModel",
          "model_module_version": "1.5.0",
          "state": {
            "_dom_classes": [],
            "_model_module": "@jupyter-widgets/controls",
            "_model_module_version": "1.5.0",
            "_model_name": "HBoxModel",
            "_view_count": null,
            "_view_module": "@jupyter-widgets/controls",
            "_view_module_version": "1.5.0",
            "_view_name": "HBoxView",
            "box_style": "",
            "children": [
              "IPY_MODEL_a7dbdf1d79724d3390180fd8839603ef",
              "IPY_MODEL_bb4e7009ffa040f08d760959f8c64d6d",
              "IPY_MODEL_c9b365ae5cc749b688a67a73900d5ff4"
            ],
            "layout": "IPY_MODEL_c4e3ac676d694addbcbe7fa9ee937c73"
          }
        },
        "a7dbdf1d79724d3390180fd8839603ef": {
          "model_module": "@jupyter-widgets/controls",
          "model_name": "HTMLModel",
          "model_module_version": "1.5.0",
          "state": {
            "_dom_classes": [],
            "_model_module": "@jupyter-widgets/controls",
            "_model_module_version": "1.5.0",
            "_model_name": "HTMLModel",
            "_view_count": null,
            "_view_module": "@jupyter-widgets/controls",
            "_view_module_version": "1.5.0",
            "_view_name": "HTMLView",
            "description": "",
            "description_tooltip": null,
            "layout": "IPY_MODEL_bdd6c971ad67450196dd5d255fac79f6",
            "placeholder": "​",
            "style": "IPY_MODEL_58ed0837c1b845fb928e77aa3883e9a3",
            "value": "tokenizer_config.json: 100%"
          }
        },
        "bb4e7009ffa040f08d760959f8c64d6d": {
          "model_module": "@jupyter-widgets/controls",
          "model_name": "FloatProgressModel",
          "model_module_version": "1.5.0",
          "state": {
            "_dom_classes": [],
            "_model_module": "@jupyter-widgets/controls",
            "_model_module_version": "1.5.0",
            "_model_name": "FloatProgressModel",
            "_view_count": null,
            "_view_module": "@jupyter-widgets/controls",
            "_view_module_version": "1.5.0",
            "_view_name": "ProgressView",
            "bar_style": "success",
            "description": "",
            "description_tooltip": null,
            "layout": "IPY_MODEL_0cd001f869ab49d8a21978ffefb7d426",
            "max": 1618,
            "min": 0,
            "orientation": "horizontal",
            "style": "IPY_MODEL_69bbdcbb787c4c79b71831f6b83974e8",
            "value": 1618
          }
        },
        "c9b365ae5cc749b688a67a73900d5ff4": {
          "model_module": "@jupyter-widgets/controls",
          "model_name": "HTMLModel",
          "model_module_version": "1.5.0",
          "state": {
            "_dom_classes": [],
            "_model_module": "@jupyter-widgets/controls",
            "_model_module_version": "1.5.0",
            "_model_name": "HTMLModel",
            "_view_count": null,
            "_view_module": "@jupyter-widgets/controls",
            "_view_module_version": "1.5.0",
            "_view_name": "HTMLView",
            "description": "",
            "description_tooltip": null,
            "layout": "IPY_MODEL_f3d08324819041bead3bfa817b000b75",
            "placeholder": "​",
            "style": "IPY_MODEL_0eb76e0497b44efdad768cc89ad1c8b9",
            "value": " 1.62k/1.62k [00:00&lt;00:00, 97.0kB/s]"
          }
        },
        "c4e3ac676d694addbcbe7fa9ee937c73": {
          "model_module": "@jupyter-widgets/base",
          "model_name": "LayoutModel",
          "model_module_version": "1.2.0",
          "state": {
            "_model_module": "@jupyter-widgets/base",
            "_model_module_version": "1.2.0",
            "_model_name": "LayoutModel",
            "_view_count": null,
            "_view_module": "@jupyter-widgets/base",
            "_view_module_version": "1.2.0",
            "_view_name": "LayoutView",
            "align_content": null,
            "align_items": null,
            "align_self": null,
            "border": null,
            "bottom": null,
            "display": null,
            "flex": null,
            "flex_flow": null,
            "grid_area": null,
            "grid_auto_columns": null,
            "grid_auto_flow": null,
            "grid_auto_rows": null,
            "grid_column": null,
            "grid_gap": null,
            "grid_row": null,
            "grid_template_areas": null,
            "grid_template_columns": null,
            "grid_template_rows": null,
            "height": null,
            "justify_content": null,
            "justify_items": null,
            "left": null,
            "margin": null,
            "max_height": null,
            "max_width": null,
            "min_height": null,
            "min_width": null,
            "object_fit": null,
            "object_position": null,
            "order": null,
            "overflow": null,
            "overflow_x": null,
            "overflow_y": null,
            "padding": null,
            "right": null,
            "top": null,
            "visibility": null,
            "width": null
          }
        },
        "bdd6c971ad67450196dd5d255fac79f6": {
          "model_module": "@jupyter-widgets/base",
          "model_name": "LayoutModel",
          "model_module_version": "1.2.0",
          "state": {
            "_model_module": "@jupyter-widgets/base",
            "_model_module_version": "1.2.0",
            "_model_name": "LayoutModel",
            "_view_count": null,
            "_view_module": "@jupyter-widgets/base",
            "_view_module_version": "1.2.0",
            "_view_name": "LayoutView",
            "align_content": null,
            "align_items": null,
            "align_self": null,
            "border": null,
            "bottom": null,
            "display": null,
            "flex": null,
            "flex_flow": null,
            "grid_area": null,
            "grid_auto_columns": null,
            "grid_auto_flow": null,
            "grid_auto_rows": null,
            "grid_column": null,
            "grid_gap": null,
            "grid_row": null,
            "grid_template_areas": null,
            "grid_template_columns": null,
            "grid_template_rows": null,
            "height": null,
            "justify_content": null,
            "justify_items": null,
            "left": null,
            "margin": null,
            "max_height": null,
            "max_width": null,
            "min_height": null,
            "min_width": null,
            "object_fit": null,
            "object_position": null,
            "order": null,
            "overflow": null,
            "overflow_x": null,
            "overflow_y": null,
            "padding": null,
            "right": null,
            "top": null,
            "visibility": null,
            "width": null
          }
        },
        "58ed0837c1b845fb928e77aa3883e9a3": {
          "model_module": "@jupyter-widgets/controls",
          "model_name": "DescriptionStyleModel",
          "model_module_version": "1.5.0",
          "state": {
            "_model_module": "@jupyter-widgets/controls",
            "_model_module_version": "1.5.0",
            "_model_name": "DescriptionStyleModel",
            "_view_count": null,
            "_view_module": "@jupyter-widgets/base",
            "_view_module_version": "1.2.0",
            "_view_name": "StyleView",
            "description_width": ""
          }
        },
        "0cd001f869ab49d8a21978ffefb7d426": {
          "model_module": "@jupyter-widgets/base",
          "model_name": "LayoutModel",
          "model_module_version": "1.2.0",
          "state": {
            "_model_module": "@jupyter-widgets/base",
            "_model_module_version": "1.2.0",
            "_model_name": "LayoutModel",
            "_view_count": null,
            "_view_module": "@jupyter-widgets/base",
            "_view_module_version": "1.2.0",
            "_view_name": "LayoutView",
            "align_content": null,
            "align_items": null,
            "align_self": null,
            "border": null,
            "bottom": null,
            "display": null,
            "flex": null,
            "flex_flow": null,
            "grid_area": null,
            "grid_auto_columns": null,
            "grid_auto_flow": null,
            "grid_auto_rows": null,
            "grid_column": null,
            "grid_gap": null,
            "grid_row": null,
            "grid_template_areas": null,
            "grid_template_columns": null,
            "grid_template_rows": null,
            "height": null,
            "justify_content": null,
            "justify_items": null,
            "left": null,
            "margin": null,
            "max_height": null,
            "max_width": null,
            "min_height": null,
            "min_width": null,
            "object_fit": null,
            "object_position": null,
            "order": null,
            "overflow": null,
            "overflow_x": null,
            "overflow_y": null,
            "padding": null,
            "right": null,
            "top": null,
            "visibility": null,
            "width": null
          }
        },
        "69bbdcbb787c4c79b71831f6b83974e8": {
          "model_module": "@jupyter-widgets/controls",
          "model_name": "ProgressStyleModel",
          "model_module_version": "1.5.0",
          "state": {
            "_model_module": "@jupyter-widgets/controls",
            "_model_module_version": "1.5.0",
            "_model_name": "ProgressStyleModel",
            "_view_count": null,
            "_view_module": "@jupyter-widgets/base",
            "_view_module_version": "1.2.0",
            "_view_name": "StyleView",
            "bar_color": null,
            "description_width": ""
          }
        },
        "f3d08324819041bead3bfa817b000b75": {
          "model_module": "@jupyter-widgets/base",
          "model_name": "LayoutModel",
          "model_module_version": "1.2.0",
          "state": {
            "_model_module": "@jupyter-widgets/base",
            "_model_module_version": "1.2.0",
            "_model_name": "LayoutModel",
            "_view_count": null,
            "_view_module": "@jupyter-widgets/base",
            "_view_module_version": "1.2.0",
            "_view_name": "LayoutView",
            "align_content": null,
            "align_items": null,
            "align_self": null,
            "border": null,
            "bottom": null,
            "display": null,
            "flex": null,
            "flex_flow": null,
            "grid_area": null,
            "grid_auto_columns": null,
            "grid_auto_flow": null,
            "grid_auto_rows": null,
            "grid_column": null,
            "grid_gap": null,
            "grid_row": null,
            "grid_template_areas": null,
            "grid_template_columns": null,
            "grid_template_rows": null,
            "height": null,
            "justify_content": null,
            "justify_items": null,
            "left": null,
            "margin": null,
            "max_height": null,
            "max_width": null,
            "min_height": null,
            "min_width": null,
            "object_fit": null,
            "object_position": null,
            "order": null,
            "overflow": null,
            "overflow_x": null,
            "overflow_y": null,
            "padding": null,
            "right": null,
            "top": null,
            "visibility": null,
            "width": null
          }
        },
        "0eb76e0497b44efdad768cc89ad1c8b9": {
          "model_module": "@jupyter-widgets/controls",
          "model_name": "DescriptionStyleModel",
          "model_module_version": "1.5.0",
          "state": {
            "_model_module": "@jupyter-widgets/controls",
            "_model_module_version": "1.5.0",
            "_model_name": "DescriptionStyleModel",
            "_view_count": null,
            "_view_module": "@jupyter-widgets/base",
            "_view_module_version": "1.2.0",
            "_view_name": "StyleView",
            "description_width": ""
          }
        },
        "41eab749489b4223a2721f9f55184413": {
          "model_module": "@jupyter-widgets/controls",
          "model_name": "HBoxModel",
          "model_module_version": "1.5.0",
          "state": {
            "_dom_classes": [],
            "_model_module": "@jupyter-widgets/controls",
            "_model_module_version": "1.5.0",
            "_model_name": "HBoxModel",
            "_view_count": null,
            "_view_module": "@jupyter-widgets/controls",
            "_view_module_version": "1.5.0",
            "_view_name": "HBoxView",
            "box_style": "",
            "children": [
              "IPY_MODEL_988dc15adf454e1e8abd3d8f2bd076b9",
              "IPY_MODEL_0c5fc2d068a94f1aa2caad5faa4c9730",
              "IPY_MODEL_7036585a250a4cbaa6341389699cb0ad"
            ],
            "layout": "IPY_MODEL_cba83321b08a4da8867c723552bd87fb"
          }
        },
        "988dc15adf454e1e8abd3d8f2bd076b9": {
          "model_module": "@jupyter-widgets/controls",
          "model_name": "HTMLModel",
          "model_module_version": "1.5.0",
          "state": {
            "_dom_classes": [],
            "_model_module": "@jupyter-widgets/controls",
            "_model_module_version": "1.5.0",
            "_model_name": "HTMLModel",
            "_view_count": null,
            "_view_module": "@jupyter-widgets/controls",
            "_view_module_version": "1.5.0",
            "_view_name": "HTMLView",
            "description": "",
            "description_tooltip": null,
            "layout": "IPY_MODEL_7df1a0bc4fb04b9380680cdc59283ad4",
            "placeholder": "​",
            "style": "IPY_MODEL_a3d550a27c9a456cb11245f97608083b",
            "value": "tokenizer.model: 100%"
          }
        },
        "0c5fc2d068a94f1aa2caad5faa4c9730": {
          "model_module": "@jupyter-widgets/controls",
          "model_name": "FloatProgressModel",
          "model_module_version": "1.5.0",
          "state": {
            "_dom_classes": [],
            "_model_module": "@jupyter-widgets/controls",
            "_model_module_version": "1.5.0",
            "_model_name": "FloatProgressModel",
            "_view_count": null,
            "_view_module": "@jupyter-widgets/controls",
            "_view_module_version": "1.5.0",
            "_view_name": "ProgressView",
            "bar_style": "success",
            "description": "",
            "description_tooltip": null,
            "layout": "IPY_MODEL_eea27c82c65f47a2a41c4177fc5fcc49",
            "max": 499723,
            "min": 0,
            "orientation": "horizontal",
            "style": "IPY_MODEL_62b43c75f27f49eea7b75e3745fc994a",
            "value": 499723
          }
        },
        "7036585a250a4cbaa6341389699cb0ad": {
          "model_module": "@jupyter-widgets/controls",
          "model_name": "HTMLModel",
          "model_module_version": "1.5.0",
          "state": {
            "_dom_classes": [],
            "_model_module": "@jupyter-widgets/controls",
            "_model_module_version": "1.5.0",
            "_model_name": "HTMLModel",
            "_view_count": null,
            "_view_module": "@jupyter-widgets/controls",
            "_view_module_version": "1.5.0",
            "_view_name": "HTMLView",
            "description": "",
            "description_tooltip": null,
            "layout": "IPY_MODEL_8513460f24c0478d96689ef7a68c6431",
            "placeholder": "​",
            "style": "IPY_MODEL_05c48e5f4dff4b21975a98863aa6f61f",
            "value": " 500k/500k [00:00&lt;00:00, 7.67MB/s]"
          }
        },
        "cba83321b08a4da8867c723552bd87fb": {
          "model_module": "@jupyter-widgets/base",
          "model_name": "LayoutModel",
          "model_module_version": "1.2.0",
          "state": {
            "_model_module": "@jupyter-widgets/base",
            "_model_module_version": "1.2.0",
            "_model_name": "LayoutModel",
            "_view_count": null,
            "_view_module": "@jupyter-widgets/base",
            "_view_module_version": "1.2.0",
            "_view_name": "LayoutView",
            "align_content": null,
            "align_items": null,
            "align_self": null,
            "border": null,
            "bottom": null,
            "display": null,
            "flex": null,
            "flex_flow": null,
            "grid_area": null,
            "grid_auto_columns": null,
            "grid_auto_flow": null,
            "grid_auto_rows": null,
            "grid_column": null,
            "grid_gap": null,
            "grid_row": null,
            "grid_template_areas": null,
            "grid_template_columns": null,
            "grid_template_rows": null,
            "height": null,
            "justify_content": null,
            "justify_items": null,
            "left": null,
            "margin": null,
            "max_height": null,
            "max_width": null,
            "min_height": null,
            "min_width": null,
            "object_fit": null,
            "object_position": null,
            "order": null,
            "overflow": null,
            "overflow_x": null,
            "overflow_y": null,
            "padding": null,
            "right": null,
            "top": null,
            "visibility": null,
            "width": null
          }
        },
        "7df1a0bc4fb04b9380680cdc59283ad4": {
          "model_module": "@jupyter-widgets/base",
          "model_name": "LayoutModel",
          "model_module_version": "1.2.0",
          "state": {
            "_model_module": "@jupyter-widgets/base",
            "_model_module_version": "1.2.0",
            "_model_name": "LayoutModel",
            "_view_count": null,
            "_view_module": "@jupyter-widgets/base",
            "_view_module_version": "1.2.0",
            "_view_name": "LayoutView",
            "align_content": null,
            "align_items": null,
            "align_self": null,
            "border": null,
            "bottom": null,
            "display": null,
            "flex": null,
            "flex_flow": null,
            "grid_area": null,
            "grid_auto_columns": null,
            "grid_auto_flow": null,
            "grid_auto_rows": null,
            "grid_column": null,
            "grid_gap": null,
            "grid_row": null,
            "grid_template_areas": null,
            "grid_template_columns": null,
            "grid_template_rows": null,
            "height": null,
            "justify_content": null,
            "justify_items": null,
            "left": null,
            "margin": null,
            "max_height": null,
            "max_width": null,
            "min_height": null,
            "min_width": null,
            "object_fit": null,
            "object_position": null,
            "order": null,
            "overflow": null,
            "overflow_x": null,
            "overflow_y": null,
            "padding": null,
            "right": null,
            "top": null,
            "visibility": null,
            "width": null
          }
        },
        "a3d550a27c9a456cb11245f97608083b": {
          "model_module": "@jupyter-widgets/controls",
          "model_name": "DescriptionStyleModel",
          "model_module_version": "1.5.0",
          "state": {
            "_model_module": "@jupyter-widgets/controls",
            "_model_module_version": "1.5.0",
            "_model_name": "DescriptionStyleModel",
            "_view_count": null,
            "_view_module": "@jupyter-widgets/base",
            "_view_module_version": "1.2.0",
            "_view_name": "StyleView",
            "description_width": ""
          }
        },
        "eea27c82c65f47a2a41c4177fc5fcc49": {
          "model_module": "@jupyter-widgets/base",
          "model_name": "LayoutModel",
          "model_module_version": "1.2.0",
          "state": {
            "_model_module": "@jupyter-widgets/base",
            "_model_module_version": "1.2.0",
            "_model_name": "LayoutModel",
            "_view_count": null,
            "_view_module": "@jupyter-widgets/base",
            "_view_module_version": "1.2.0",
            "_view_name": "LayoutView",
            "align_content": null,
            "align_items": null,
            "align_self": null,
            "border": null,
            "bottom": null,
            "display": null,
            "flex": null,
            "flex_flow": null,
            "grid_area": null,
            "grid_auto_columns": null,
            "grid_auto_flow": null,
            "grid_auto_rows": null,
            "grid_column": null,
            "grid_gap": null,
            "grid_row": null,
            "grid_template_areas": null,
            "grid_template_columns": null,
            "grid_template_rows": null,
            "height": null,
            "justify_content": null,
            "justify_items": null,
            "left": null,
            "margin": null,
            "max_height": null,
            "max_width": null,
            "min_height": null,
            "min_width": null,
            "object_fit": null,
            "object_position": null,
            "order": null,
            "overflow": null,
            "overflow_x": null,
            "overflow_y": null,
            "padding": null,
            "right": null,
            "top": null,
            "visibility": null,
            "width": null
          }
        },
        "62b43c75f27f49eea7b75e3745fc994a": {
          "model_module": "@jupyter-widgets/controls",
          "model_name": "ProgressStyleModel",
          "model_module_version": "1.5.0",
          "state": {
            "_model_module": "@jupyter-widgets/controls",
            "_model_module_version": "1.5.0",
            "_model_name": "ProgressStyleModel",
            "_view_count": null,
            "_view_module": "@jupyter-widgets/base",
            "_view_module_version": "1.2.0",
            "_view_name": "StyleView",
            "bar_color": null,
            "description_width": ""
          }
        },
        "8513460f24c0478d96689ef7a68c6431": {
          "model_module": "@jupyter-widgets/base",
          "model_name": "LayoutModel",
          "model_module_version": "1.2.0",
          "state": {
            "_model_module": "@jupyter-widgets/base",
            "_model_module_version": "1.2.0",
            "_model_name": "LayoutModel",
            "_view_count": null,
            "_view_module": "@jupyter-widgets/base",
            "_view_module_version": "1.2.0",
            "_view_name": "LayoutView",
            "align_content": null,
            "align_items": null,
            "align_self": null,
            "border": null,
            "bottom": null,
            "display": null,
            "flex": null,
            "flex_flow": null,
            "grid_area": null,
            "grid_auto_columns": null,
            "grid_auto_flow": null,
            "grid_auto_rows": null,
            "grid_column": null,
            "grid_gap": null,
            "grid_row": null,
            "grid_template_areas": null,
            "grid_template_columns": null,
            "grid_template_rows": null,
            "height": null,
            "justify_content": null,
            "justify_items": null,
            "left": null,
            "margin": null,
            "max_height": null,
            "max_width": null,
            "min_height": null,
            "min_width": null,
            "object_fit": null,
            "object_position": null,
            "order": null,
            "overflow": null,
            "overflow_x": null,
            "overflow_y": null,
            "padding": null,
            "right": null,
            "top": null,
            "visibility": null,
            "width": null
          }
        },
        "05c48e5f4dff4b21975a98863aa6f61f": {
          "model_module": "@jupyter-widgets/controls",
          "model_name": "DescriptionStyleModel",
          "model_module_version": "1.5.0",
          "state": {
            "_model_module": "@jupyter-widgets/controls",
            "_model_module_version": "1.5.0",
            "_model_name": "DescriptionStyleModel",
            "_view_count": null,
            "_view_module": "@jupyter-widgets/base",
            "_view_module_version": "1.2.0",
            "_view_name": "StyleView",
            "description_width": ""
          }
        },
        "ae536fd4bbb9488d9f07399f5a8030bb": {
          "model_module": "@jupyter-widgets/controls",
          "model_name": "HBoxModel",
          "model_module_version": "1.5.0",
          "state": {
            "_dom_classes": [],
            "_model_module": "@jupyter-widgets/controls",
            "_model_module_version": "1.5.0",
            "_model_name": "HBoxModel",
            "_view_count": null,
            "_view_module": "@jupyter-widgets/controls",
            "_view_module_version": "1.5.0",
            "_view_name": "HBoxView",
            "box_style": "",
            "children": [
              "IPY_MODEL_69f025dcdde34d8e9c62a1fc33d2676e",
              "IPY_MODEL_e3affe21946544128343dbd2f6287c14",
              "IPY_MODEL_82f18a3b7c334871a06b719bf240a878"
            ],
            "layout": "IPY_MODEL_caa227825ff143ddbdc49b54d5348f25"
          }
        },
        "69f025dcdde34d8e9c62a1fc33d2676e": {
          "model_module": "@jupyter-widgets/controls",
          "model_name": "HTMLModel",
          "model_module_version": "1.5.0",
          "state": {
            "_dom_classes": [],
            "_model_module": "@jupyter-widgets/controls",
            "_model_module_version": "1.5.0",
            "_model_name": "HTMLModel",
            "_view_count": null,
            "_view_module": "@jupyter-widgets/controls",
            "_view_module_version": "1.5.0",
            "_view_name": "HTMLView",
            "description": "",
            "description_tooltip": null,
            "layout": "IPY_MODEL_066e643b85bc4bfe88077967ce0b5875",
            "placeholder": "​",
            "style": "IPY_MODEL_a9f08c10182e49d3b777d55745ef4575",
            "value": "tokenizer.json: 100%"
          }
        },
        "e3affe21946544128343dbd2f6287c14": {
          "model_module": "@jupyter-widgets/controls",
          "model_name": "FloatProgressModel",
          "model_module_version": "1.5.0",
          "state": {
            "_dom_classes": [],
            "_model_module": "@jupyter-widgets/controls",
            "_model_module_version": "1.5.0",
            "_model_name": "FloatProgressModel",
            "_view_count": null,
            "_view_module": "@jupyter-widgets/controls",
            "_view_module_version": "1.5.0",
            "_view_name": "ProgressView",
            "bar_style": "success",
            "description": "",
            "description_tooltip": null,
            "layout": "IPY_MODEL_bc10d020bbed4ddab07afc22bc958aba",
            "max": 1842767,
            "min": 0,
            "orientation": "horizontal",
            "style": "IPY_MODEL_75475d528d8e4ffdaf66df5d96aa4304",
            "value": 1842767
          }
        },
        "82f18a3b7c334871a06b719bf240a878": {
          "model_module": "@jupyter-widgets/controls",
          "model_name": "HTMLModel",
          "model_module_version": "1.5.0",
          "state": {
            "_dom_classes": [],
            "_model_module": "@jupyter-widgets/controls",
            "_model_module_version": "1.5.0",
            "_model_name": "HTMLModel",
            "_view_count": null,
            "_view_module": "@jupyter-widgets/controls",
            "_view_module_version": "1.5.0",
            "_view_name": "HTMLView",
            "description": "",
            "description_tooltip": null,
            "layout": "IPY_MODEL_6bd0e432f3b94f448515c94d1b1d7054",
            "placeholder": "​",
            "style": "IPY_MODEL_abb05ee8b9c14ab6b52abcbe088b26d7",
            "value": " 1.84M/1.84M [00:00&lt;00:00, 17.8MB/s]"
          }
        },
        "caa227825ff143ddbdc49b54d5348f25": {
          "model_module": "@jupyter-widgets/base",
          "model_name": "LayoutModel",
          "model_module_version": "1.2.0",
          "state": {
            "_model_module": "@jupyter-widgets/base",
            "_model_module_version": "1.2.0",
            "_model_name": "LayoutModel",
            "_view_count": null,
            "_view_module": "@jupyter-widgets/base",
            "_view_module_version": "1.2.0",
            "_view_name": "LayoutView",
            "align_content": null,
            "align_items": null,
            "align_self": null,
            "border": null,
            "bottom": null,
            "display": null,
            "flex": null,
            "flex_flow": null,
            "grid_area": null,
            "grid_auto_columns": null,
            "grid_auto_flow": null,
            "grid_auto_rows": null,
            "grid_column": null,
            "grid_gap": null,
            "grid_row": null,
            "grid_template_areas": null,
            "grid_template_columns": null,
            "grid_template_rows": null,
            "height": null,
            "justify_content": null,
            "justify_items": null,
            "left": null,
            "margin": null,
            "max_height": null,
            "max_width": null,
            "min_height": null,
            "min_width": null,
            "object_fit": null,
            "object_position": null,
            "order": null,
            "overflow": null,
            "overflow_x": null,
            "overflow_y": null,
            "padding": null,
            "right": null,
            "top": null,
            "visibility": null,
            "width": null
          }
        },
        "066e643b85bc4bfe88077967ce0b5875": {
          "model_module": "@jupyter-widgets/base",
          "model_name": "LayoutModel",
          "model_module_version": "1.2.0",
          "state": {
            "_model_module": "@jupyter-widgets/base",
            "_model_module_version": "1.2.0",
            "_model_name": "LayoutModel",
            "_view_count": null,
            "_view_module": "@jupyter-widgets/base",
            "_view_module_version": "1.2.0",
            "_view_name": "LayoutView",
            "align_content": null,
            "align_items": null,
            "align_self": null,
            "border": null,
            "bottom": null,
            "display": null,
            "flex": null,
            "flex_flow": null,
            "grid_area": null,
            "grid_auto_columns": null,
            "grid_auto_flow": null,
            "grid_auto_rows": null,
            "grid_column": null,
            "grid_gap": null,
            "grid_row": null,
            "grid_template_areas": null,
            "grid_template_columns": null,
            "grid_template_rows": null,
            "height": null,
            "justify_content": null,
            "justify_items": null,
            "left": null,
            "margin": null,
            "max_height": null,
            "max_width": null,
            "min_height": null,
            "min_width": null,
            "object_fit": null,
            "object_position": null,
            "order": null,
            "overflow": null,
            "overflow_x": null,
            "overflow_y": null,
            "padding": null,
            "right": null,
            "top": null,
            "visibility": null,
            "width": null
          }
        },
        "a9f08c10182e49d3b777d55745ef4575": {
          "model_module": "@jupyter-widgets/controls",
          "model_name": "DescriptionStyleModel",
          "model_module_version": "1.5.0",
          "state": {
            "_model_module": "@jupyter-widgets/controls",
            "_model_module_version": "1.5.0",
            "_model_name": "DescriptionStyleModel",
            "_view_count": null,
            "_view_module": "@jupyter-widgets/base",
            "_view_module_version": "1.2.0",
            "_view_name": "StyleView",
            "description_width": ""
          }
        },
        "bc10d020bbed4ddab07afc22bc958aba": {
          "model_module": "@jupyter-widgets/base",
          "model_name": "LayoutModel",
          "model_module_version": "1.2.0",
          "state": {
            "_model_module": "@jupyter-widgets/base",
            "_model_module_version": "1.2.0",
            "_model_name": "LayoutModel",
            "_view_count": null,
            "_view_module": "@jupyter-widgets/base",
            "_view_module_version": "1.2.0",
            "_view_name": "LayoutView",
            "align_content": null,
            "align_items": null,
            "align_self": null,
            "border": null,
            "bottom": null,
            "display": null,
            "flex": null,
            "flex_flow": null,
            "grid_area": null,
            "grid_auto_columns": null,
            "grid_auto_flow": null,
            "grid_auto_rows": null,
            "grid_column": null,
            "grid_gap": null,
            "grid_row": null,
            "grid_template_areas": null,
            "grid_template_columns": null,
            "grid_template_rows": null,
            "height": null,
            "justify_content": null,
            "justify_items": null,
            "left": null,
            "margin": null,
            "max_height": null,
            "max_width": null,
            "min_height": null,
            "min_width": null,
            "object_fit": null,
            "object_position": null,
            "order": null,
            "overflow": null,
            "overflow_x": null,
            "overflow_y": null,
            "padding": null,
            "right": null,
            "top": null,
            "visibility": null,
            "width": null
          }
        },
        "75475d528d8e4ffdaf66df5d96aa4304": {
          "model_module": "@jupyter-widgets/controls",
          "model_name": "ProgressStyleModel",
          "model_module_version": "1.5.0",
          "state": {
            "_model_module": "@jupyter-widgets/controls",
            "_model_module_version": "1.5.0",
            "_model_name": "ProgressStyleModel",
            "_view_count": null,
            "_view_module": "@jupyter-widgets/base",
            "_view_module_version": "1.2.0",
            "_view_name": "StyleView",
            "bar_color": null,
            "description_width": ""
          }
        },
        "6bd0e432f3b94f448515c94d1b1d7054": {
          "model_module": "@jupyter-widgets/base",
          "model_name": "LayoutModel",
          "model_module_version": "1.2.0",
          "state": {
            "_model_module": "@jupyter-widgets/base",
            "_model_module_version": "1.2.0",
            "_model_name": "LayoutModel",
            "_view_count": null,
            "_view_module": "@jupyter-widgets/base",
            "_view_module_version": "1.2.0",
            "_view_name": "LayoutView",
            "align_content": null,
            "align_items": null,
            "align_self": null,
            "border": null,
            "bottom": null,
            "display": null,
            "flex": null,
            "flex_flow": null,
            "grid_area": null,
            "grid_auto_columns": null,
            "grid_auto_flow": null,
            "grid_auto_rows": null,
            "grid_column": null,
            "grid_gap": null,
            "grid_row": null,
            "grid_template_areas": null,
            "grid_template_columns": null,
            "grid_template_rows": null,
            "height": null,
            "justify_content": null,
            "justify_items": null,
            "left": null,
            "margin": null,
            "max_height": null,
            "max_width": null,
            "min_height": null,
            "min_width": null,
            "object_fit": null,
            "object_position": null,
            "order": null,
            "overflow": null,
            "overflow_x": null,
            "overflow_y": null,
            "padding": null,
            "right": null,
            "top": null,
            "visibility": null,
            "width": null
          }
        },
        "abb05ee8b9c14ab6b52abcbe088b26d7": {
          "model_module": "@jupyter-widgets/controls",
          "model_name": "DescriptionStyleModel",
          "model_module_version": "1.5.0",
          "state": {
            "_model_module": "@jupyter-widgets/controls",
            "_model_module_version": "1.5.0",
            "_model_name": "DescriptionStyleModel",
            "_view_count": null,
            "_view_module": "@jupyter-widgets/base",
            "_view_module_version": "1.2.0",
            "_view_name": "StyleView",
            "description_width": ""
          }
        },
        "3840a5701e66400d93198720459c4fc5": {
          "model_module": "@jupyter-widgets/controls",
          "model_name": "HBoxModel",
          "model_module_version": "1.5.0",
          "state": {
            "_dom_classes": [],
            "_model_module": "@jupyter-widgets/controls",
            "_model_module_version": "1.5.0",
            "_model_name": "HBoxModel",
            "_view_count": null,
            "_view_module": "@jupyter-widgets/controls",
            "_view_module_version": "1.5.0",
            "_view_name": "HBoxView",
            "box_style": "",
            "children": [
              "IPY_MODEL_46c1296b2a344d848778a381aa60187f",
              "IPY_MODEL_7ae3051fc28246b0b42a45c21281a253",
              "IPY_MODEL_c225dff6f03d4ddd899af0ed863888dd"
            ],
            "layout": "IPY_MODEL_26e698a5f44340d0aff42570520bb420"
          }
        },
        "46c1296b2a344d848778a381aa60187f": {
          "model_module": "@jupyter-widgets/controls",
          "model_name": "HTMLModel",
          "model_module_version": "1.5.0",
          "state": {
            "_dom_classes": [],
            "_model_module": "@jupyter-widgets/controls",
            "_model_module_version": "1.5.0",
            "_model_name": "HTMLModel",
            "_view_count": null,
            "_view_module": "@jupyter-widgets/controls",
            "_view_module_version": "1.5.0",
            "_view_name": "HTMLView",
            "description": "",
            "description_tooltip": null,
            "layout": "IPY_MODEL_c4ef37ab965e4c1b88c356bccc55821c",
            "placeholder": "​",
            "style": "IPY_MODEL_9ee3ea2946154a298e1b124832834a40",
            "value": "special_tokens_map.json: 100%"
          }
        },
        "7ae3051fc28246b0b42a45c21281a253": {
          "model_module": "@jupyter-widgets/controls",
          "model_name": "FloatProgressModel",
          "model_module_version": "1.5.0",
          "state": {
            "_dom_classes": [],
            "_model_module": "@jupyter-widgets/controls",
            "_model_module_version": "1.5.0",
            "_model_name": "FloatProgressModel",
            "_view_count": null,
            "_view_module": "@jupyter-widgets/controls",
            "_view_module_version": "1.5.0",
            "_view_name": "ProgressView",
            "bar_style": "success",
            "description": "",
            "description_tooltip": null,
            "layout": "IPY_MODEL_4ac6dc0643ec44e0ae12395bbfefdbd8",
            "max": 414,
            "min": 0,
            "orientation": "horizontal",
            "style": "IPY_MODEL_bb18bd35c23c4775820b9f13b2734f26",
            "value": 414
          }
        },
        "c225dff6f03d4ddd899af0ed863888dd": {
          "model_module": "@jupyter-widgets/controls",
          "model_name": "HTMLModel",
          "model_module_version": "1.5.0",
          "state": {
            "_dom_classes": [],
            "_model_module": "@jupyter-widgets/controls",
            "_model_module_version": "1.5.0",
            "_model_name": "HTMLModel",
            "_view_count": null,
            "_view_module": "@jupyter-widgets/controls",
            "_view_module_version": "1.5.0",
            "_view_name": "HTMLView",
            "description": "",
            "description_tooltip": null,
            "layout": "IPY_MODEL_59cfae9cef8545f6a208cf499b2633ce",
            "placeholder": "​",
            "style": "IPY_MODEL_7b6c1ba42ad44d8eb3f56d09d7441cf9",
            "value": " 414/414 [00:00&lt;00:00, 37.5kB/s]"
          }
        },
        "26e698a5f44340d0aff42570520bb420": {
          "model_module": "@jupyter-widgets/base",
          "model_name": "LayoutModel",
          "model_module_version": "1.2.0",
          "state": {
            "_model_module": "@jupyter-widgets/base",
            "_model_module_version": "1.2.0",
            "_model_name": "LayoutModel",
            "_view_count": null,
            "_view_module": "@jupyter-widgets/base",
            "_view_module_version": "1.2.0",
            "_view_name": "LayoutView",
            "align_content": null,
            "align_items": null,
            "align_self": null,
            "border": null,
            "bottom": null,
            "display": null,
            "flex": null,
            "flex_flow": null,
            "grid_area": null,
            "grid_auto_columns": null,
            "grid_auto_flow": null,
            "grid_auto_rows": null,
            "grid_column": null,
            "grid_gap": null,
            "grid_row": null,
            "grid_template_areas": null,
            "grid_template_columns": null,
            "grid_template_rows": null,
            "height": null,
            "justify_content": null,
            "justify_items": null,
            "left": null,
            "margin": null,
            "max_height": null,
            "max_width": null,
            "min_height": null,
            "min_width": null,
            "object_fit": null,
            "object_position": null,
            "order": null,
            "overflow": null,
            "overflow_x": null,
            "overflow_y": null,
            "padding": null,
            "right": null,
            "top": null,
            "visibility": null,
            "width": null
          }
        },
        "c4ef37ab965e4c1b88c356bccc55821c": {
          "model_module": "@jupyter-widgets/base",
          "model_name": "LayoutModel",
          "model_module_version": "1.2.0",
          "state": {
            "_model_module": "@jupyter-widgets/base",
            "_model_module_version": "1.2.0",
            "_model_name": "LayoutModel",
            "_view_count": null,
            "_view_module": "@jupyter-widgets/base",
            "_view_module_version": "1.2.0",
            "_view_name": "LayoutView",
            "align_content": null,
            "align_items": null,
            "align_self": null,
            "border": null,
            "bottom": null,
            "display": null,
            "flex": null,
            "flex_flow": null,
            "grid_area": null,
            "grid_auto_columns": null,
            "grid_auto_flow": null,
            "grid_auto_rows": null,
            "grid_column": null,
            "grid_gap": null,
            "grid_row": null,
            "grid_template_areas": null,
            "grid_template_columns": null,
            "grid_template_rows": null,
            "height": null,
            "justify_content": null,
            "justify_items": null,
            "left": null,
            "margin": null,
            "max_height": null,
            "max_width": null,
            "min_height": null,
            "min_width": null,
            "object_fit": null,
            "object_position": null,
            "order": null,
            "overflow": null,
            "overflow_x": null,
            "overflow_y": null,
            "padding": null,
            "right": null,
            "top": null,
            "visibility": null,
            "width": null
          }
        },
        "9ee3ea2946154a298e1b124832834a40": {
          "model_module": "@jupyter-widgets/controls",
          "model_name": "DescriptionStyleModel",
          "model_module_version": "1.5.0",
          "state": {
            "_model_module": "@jupyter-widgets/controls",
            "_model_module_version": "1.5.0",
            "_model_name": "DescriptionStyleModel",
            "_view_count": null,
            "_view_module": "@jupyter-widgets/base",
            "_view_module_version": "1.2.0",
            "_view_name": "StyleView",
            "description_width": ""
          }
        },
        "4ac6dc0643ec44e0ae12395bbfefdbd8": {
          "model_module": "@jupyter-widgets/base",
          "model_name": "LayoutModel",
          "model_module_version": "1.2.0",
          "state": {
            "_model_module": "@jupyter-widgets/base",
            "_model_module_version": "1.2.0",
            "_model_name": "LayoutModel",
            "_view_count": null,
            "_view_module": "@jupyter-widgets/base",
            "_view_module_version": "1.2.0",
            "_view_name": "LayoutView",
            "align_content": null,
            "align_items": null,
            "align_self": null,
            "border": null,
            "bottom": null,
            "display": null,
            "flex": null,
            "flex_flow": null,
            "grid_area": null,
            "grid_auto_columns": null,
            "grid_auto_flow": null,
            "grid_auto_rows": null,
            "grid_column": null,
            "grid_gap": null,
            "grid_row": null,
            "grid_template_areas": null,
            "grid_template_columns": null,
            "grid_template_rows": null,
            "height": null,
            "justify_content": null,
            "justify_items": null,
            "left": null,
            "margin": null,
            "max_height": null,
            "max_width": null,
            "min_height": null,
            "min_width": null,
            "object_fit": null,
            "object_position": null,
            "order": null,
            "overflow": null,
            "overflow_x": null,
            "overflow_y": null,
            "padding": null,
            "right": null,
            "top": null,
            "visibility": null,
            "width": null
          }
        },
        "bb18bd35c23c4775820b9f13b2734f26": {
          "model_module": "@jupyter-widgets/controls",
          "model_name": "ProgressStyleModel",
          "model_module_version": "1.5.0",
          "state": {
            "_model_module": "@jupyter-widgets/controls",
            "_model_module_version": "1.5.0",
            "_model_name": "ProgressStyleModel",
            "_view_count": null,
            "_view_module": "@jupyter-widgets/base",
            "_view_module_version": "1.2.0",
            "_view_name": "StyleView",
            "bar_color": null,
            "description_width": ""
          }
        },
        "59cfae9cef8545f6a208cf499b2633ce": {
          "model_module": "@jupyter-widgets/base",
          "model_name": "LayoutModel",
          "model_module_version": "1.2.0",
          "state": {
            "_model_module": "@jupyter-widgets/base",
            "_model_module_version": "1.2.0",
            "_model_name": "LayoutModel",
            "_view_count": null,
            "_view_module": "@jupyter-widgets/base",
            "_view_module_version": "1.2.0",
            "_view_name": "LayoutView",
            "align_content": null,
            "align_items": null,
            "align_self": null,
            "border": null,
            "bottom": null,
            "display": null,
            "flex": null,
            "flex_flow": null,
            "grid_area": null,
            "grid_auto_columns": null,
            "grid_auto_flow": null,
            "grid_auto_rows": null,
            "grid_column": null,
            "grid_gap": null,
            "grid_row": null,
            "grid_template_areas": null,
            "grid_template_columns": null,
            "grid_template_rows": null,
            "height": null,
            "justify_content": null,
            "justify_items": null,
            "left": null,
            "margin": null,
            "max_height": null,
            "max_width": null,
            "min_height": null,
            "min_width": null,
            "object_fit": null,
            "object_position": null,
            "order": null,
            "overflow": null,
            "overflow_x": null,
            "overflow_y": null,
            "padding": null,
            "right": null,
            "top": null,
            "visibility": null,
            "width": null
          }
        },
        "7b6c1ba42ad44d8eb3f56d09d7441cf9": {
          "model_module": "@jupyter-widgets/controls",
          "model_name": "DescriptionStyleModel",
          "model_module_version": "1.5.0",
          "state": {
            "_model_module": "@jupyter-widgets/controls",
            "_model_module_version": "1.5.0",
            "_model_name": "DescriptionStyleModel",
            "_view_count": null,
            "_view_module": "@jupyter-widgets/base",
            "_view_module_version": "1.2.0",
            "_view_name": "StyleView",
            "description_width": ""
          }
        },
        "8a18b92377ab4c5dad69a9242bbccc1f": {
          "model_module": "@jupyter-widgets/controls",
          "model_name": "HBoxModel",
          "model_module_version": "1.5.0",
          "state": {
            "_dom_classes": [],
            "_model_module": "@jupyter-widgets/controls",
            "_model_module_version": "1.5.0",
            "_model_name": "HBoxModel",
            "_view_count": null,
            "_view_module": "@jupyter-widgets/controls",
            "_view_module_version": "1.5.0",
            "_view_name": "HBoxView",
            "box_style": "",
            "children": [
              "IPY_MODEL_156845dc82fe43cda9f723e68edca0bf",
              "IPY_MODEL_a0ea6708f116471889ab747f9d7f0416",
              "IPY_MODEL_a205719d759b4028a99b78d9948ec34d"
            ],
            "layout": "IPY_MODEL_dfc3d1cbc3f8444d890c4a1f1db9d2fc"
          }
        },
        "156845dc82fe43cda9f723e68edca0bf": {
          "model_module": "@jupyter-widgets/controls",
          "model_name": "HTMLModel",
          "model_module_version": "1.5.0",
          "state": {
            "_dom_classes": [],
            "_model_module": "@jupyter-widgets/controls",
            "_model_module_version": "1.5.0",
            "_model_name": "HTMLModel",
            "_view_count": null,
            "_view_module": "@jupyter-widgets/controls",
            "_view_module_version": "1.5.0",
            "_view_name": "HTMLView",
            "description": "",
            "description_tooltip": null,
            "layout": "IPY_MODEL_7348806a4a2c43d3986cb26cd1b5f397",
            "placeholder": "​",
            "style": "IPY_MODEL_daa0e5faf9204106b089bf9c6c7ce592",
            "value": "config.json: 100%"
          }
        },
        "a0ea6708f116471889ab747f9d7f0416": {
          "model_module": "@jupyter-widgets/controls",
          "model_name": "FloatProgressModel",
          "model_module_version": "1.5.0",
          "state": {
            "_dom_classes": [],
            "_model_module": "@jupyter-widgets/controls",
            "_model_module_version": "1.5.0",
            "_model_name": "FloatProgressModel",
            "_view_count": null,
            "_view_module": "@jupyter-widgets/controls",
            "_view_module_version": "1.5.0",
            "_view_name": "ProgressView",
            "bar_style": "success",
            "description": "",
            "description_tooltip": null,
            "layout": "IPY_MODEL_02eea0dfc968421a928d5cfcc888fc43",
            "max": 614,
            "min": 0,
            "orientation": "horizontal",
            "style": "IPY_MODEL_564ae1ece8b54eb0ae6b066380f6d220",
            "value": 614
          }
        },
        "a205719d759b4028a99b78d9948ec34d": {
          "model_module": "@jupyter-widgets/controls",
          "model_name": "HTMLModel",
          "model_module_version": "1.5.0",
          "state": {
            "_dom_classes": [],
            "_model_module": "@jupyter-widgets/controls",
            "_model_module_version": "1.5.0",
            "_model_name": "HTMLModel",
            "_view_count": null,
            "_view_module": "@jupyter-widgets/controls",
            "_view_module_version": "1.5.0",
            "_view_name": "HTMLView",
            "description": "",
            "description_tooltip": null,
            "layout": "IPY_MODEL_fda7b7c4e95b4ca1a04245e842eb1008",
            "placeholder": "​",
            "style": "IPY_MODEL_b6455d8773094f40bd6aa17b78261736",
            "value": " 614/614 [00:00&lt;00:00, 32.5kB/s]"
          }
        },
        "dfc3d1cbc3f8444d890c4a1f1db9d2fc": {
          "model_module": "@jupyter-widgets/base",
          "model_name": "LayoutModel",
          "model_module_version": "1.2.0",
          "state": {
            "_model_module": "@jupyter-widgets/base",
            "_model_module_version": "1.2.0",
            "_model_name": "LayoutModel",
            "_view_count": null,
            "_view_module": "@jupyter-widgets/base",
            "_view_module_version": "1.2.0",
            "_view_name": "LayoutView",
            "align_content": null,
            "align_items": null,
            "align_self": null,
            "border": null,
            "bottom": null,
            "display": null,
            "flex": null,
            "flex_flow": null,
            "grid_area": null,
            "grid_auto_columns": null,
            "grid_auto_flow": null,
            "grid_auto_rows": null,
            "grid_column": null,
            "grid_gap": null,
            "grid_row": null,
            "grid_template_areas": null,
            "grid_template_columns": null,
            "grid_template_rows": null,
            "height": null,
            "justify_content": null,
            "justify_items": null,
            "left": null,
            "margin": null,
            "max_height": null,
            "max_width": null,
            "min_height": null,
            "min_width": null,
            "object_fit": null,
            "object_position": null,
            "order": null,
            "overflow": null,
            "overflow_x": null,
            "overflow_y": null,
            "padding": null,
            "right": null,
            "top": null,
            "visibility": null,
            "width": null
          }
        },
        "7348806a4a2c43d3986cb26cd1b5f397": {
          "model_module": "@jupyter-widgets/base",
          "model_name": "LayoutModel",
          "model_module_version": "1.2.0",
          "state": {
            "_model_module": "@jupyter-widgets/base",
            "_model_module_version": "1.2.0",
            "_model_name": "LayoutModel",
            "_view_count": null,
            "_view_module": "@jupyter-widgets/base",
            "_view_module_version": "1.2.0",
            "_view_name": "LayoutView",
            "align_content": null,
            "align_items": null,
            "align_self": null,
            "border": null,
            "bottom": null,
            "display": null,
            "flex": null,
            "flex_flow": null,
            "grid_area": null,
            "grid_auto_columns": null,
            "grid_auto_flow": null,
            "grid_auto_rows": null,
            "grid_column": null,
            "grid_gap": null,
            "grid_row": null,
            "grid_template_areas": null,
            "grid_template_columns": null,
            "grid_template_rows": null,
            "height": null,
            "justify_content": null,
            "justify_items": null,
            "left": null,
            "margin": null,
            "max_height": null,
            "max_width": null,
            "min_height": null,
            "min_width": null,
            "object_fit": null,
            "object_position": null,
            "order": null,
            "overflow": null,
            "overflow_x": null,
            "overflow_y": null,
            "padding": null,
            "right": null,
            "top": null,
            "visibility": null,
            "width": null
          }
        },
        "daa0e5faf9204106b089bf9c6c7ce592": {
          "model_module": "@jupyter-widgets/controls",
          "model_name": "DescriptionStyleModel",
          "model_module_version": "1.5.0",
          "state": {
            "_model_module": "@jupyter-widgets/controls",
            "_model_module_version": "1.5.0",
            "_model_name": "DescriptionStyleModel",
            "_view_count": null,
            "_view_module": "@jupyter-widgets/base",
            "_view_module_version": "1.2.0",
            "_view_name": "StyleView",
            "description_width": ""
          }
        },
        "02eea0dfc968421a928d5cfcc888fc43": {
          "model_module": "@jupyter-widgets/base",
          "model_name": "LayoutModel",
          "model_module_version": "1.2.0",
          "state": {
            "_model_module": "@jupyter-widgets/base",
            "_model_module_version": "1.2.0",
            "_model_name": "LayoutModel",
            "_view_count": null,
            "_view_module": "@jupyter-widgets/base",
            "_view_module_version": "1.2.0",
            "_view_name": "LayoutView",
            "align_content": null,
            "align_items": null,
            "align_self": null,
            "border": null,
            "bottom": null,
            "display": null,
            "flex": null,
            "flex_flow": null,
            "grid_area": null,
            "grid_auto_columns": null,
            "grid_auto_flow": null,
            "grid_auto_rows": null,
            "grid_column": null,
            "grid_gap": null,
            "grid_row": null,
            "grid_template_areas": null,
            "grid_template_columns": null,
            "grid_template_rows": null,
            "height": null,
            "justify_content": null,
            "justify_items": null,
            "left": null,
            "margin": null,
            "max_height": null,
            "max_width": null,
            "min_height": null,
            "min_width": null,
            "object_fit": null,
            "object_position": null,
            "order": null,
            "overflow": null,
            "overflow_x": null,
            "overflow_y": null,
            "padding": null,
            "right": null,
            "top": null,
            "visibility": null,
            "width": null
          }
        },
        "564ae1ece8b54eb0ae6b066380f6d220": {
          "model_module": "@jupyter-widgets/controls",
          "model_name": "ProgressStyleModel",
          "model_module_version": "1.5.0",
          "state": {
            "_model_module": "@jupyter-widgets/controls",
            "_model_module_version": "1.5.0",
            "_model_name": "ProgressStyleModel",
            "_view_count": null,
            "_view_module": "@jupyter-widgets/base",
            "_view_module_version": "1.2.0",
            "_view_name": "StyleView",
            "bar_color": null,
            "description_width": ""
          }
        },
        "fda7b7c4e95b4ca1a04245e842eb1008": {
          "model_module": "@jupyter-widgets/base",
          "model_name": "LayoutModel",
          "model_module_version": "1.2.0",
          "state": {
            "_model_module": "@jupyter-widgets/base",
            "_model_module_version": "1.2.0",
            "_model_name": "LayoutModel",
            "_view_count": null,
            "_view_module": "@jupyter-widgets/base",
            "_view_module_version": "1.2.0",
            "_view_name": "LayoutView",
            "align_content": null,
            "align_items": null,
            "align_self": null,
            "border": null,
            "bottom": null,
            "display": null,
            "flex": null,
            "flex_flow": null,
            "grid_area": null,
            "grid_auto_columns": null,
            "grid_auto_flow": null,
            "grid_auto_rows": null,
            "grid_column": null,
            "grid_gap": null,
            "grid_row": null,
            "grid_template_areas": null,
            "grid_template_columns": null,
            "grid_template_rows": null,
            "height": null,
            "justify_content": null,
            "justify_items": null,
            "left": null,
            "margin": null,
            "max_height": null,
            "max_width": null,
            "min_height": null,
            "min_width": null,
            "object_fit": null,
            "object_position": null,
            "order": null,
            "overflow": null,
            "overflow_x": null,
            "overflow_y": null,
            "padding": null,
            "right": null,
            "top": null,
            "visibility": null,
            "width": null
          }
        },
        "b6455d8773094f40bd6aa17b78261736": {
          "model_module": "@jupyter-widgets/controls",
          "model_name": "DescriptionStyleModel",
          "model_module_version": "1.5.0",
          "state": {
            "_model_module": "@jupyter-widgets/controls",
            "_model_module_version": "1.5.0",
            "_model_name": "DescriptionStyleModel",
            "_view_count": null,
            "_view_module": "@jupyter-widgets/base",
            "_view_module_version": "1.2.0",
            "_view_name": "StyleView",
            "description_width": ""
          }
        },
        "daea0c3d09ed4ab28542858ba08f0008": {
          "model_module": "@jupyter-widgets/controls",
          "model_name": "HBoxModel",
          "model_module_version": "1.5.0",
          "state": {
            "_dom_classes": [],
            "_model_module": "@jupyter-widgets/controls",
            "_model_module_version": "1.5.0",
            "_model_name": "HBoxModel",
            "_view_count": null,
            "_view_module": "@jupyter-widgets/controls",
            "_view_module_version": "1.5.0",
            "_view_name": "HBoxView",
            "box_style": "",
            "children": [
              "IPY_MODEL_6f17eabec1d14f5e89f642a35dcdcc9d",
              "IPY_MODEL_85b1024e65e04adab5ebb4a2b9bd5137",
              "IPY_MODEL_5c7e7091d39b4ffdb5f6ae8b6dc25dae"
            ],
            "layout": "IPY_MODEL_a6a7dd428ed34e9a8905d1d0f88ccfb6"
          }
        },
        "6f17eabec1d14f5e89f642a35dcdcc9d": {
          "model_module": "@jupyter-widgets/controls",
          "model_name": "HTMLModel",
          "model_module_version": "1.5.0",
          "state": {
            "_dom_classes": [],
            "_model_module": "@jupyter-widgets/controls",
            "_model_module_version": "1.5.0",
            "_model_name": "HTMLModel",
            "_view_count": null,
            "_view_module": "@jupyter-widgets/controls",
            "_view_module_version": "1.5.0",
            "_view_name": "HTMLView",
            "description": "",
            "description_tooltip": null,
            "layout": "IPY_MODEL_81ea6a4668974f1cb772fcdd187ab302",
            "placeholder": "​",
            "style": "IPY_MODEL_e7b6e93ac4f8463abaab512a22e5b764",
            "value": "model.safetensors.index.json: 100%"
          }
        },
        "85b1024e65e04adab5ebb4a2b9bd5137": {
          "model_module": "@jupyter-widgets/controls",
          "model_name": "FloatProgressModel",
          "model_module_version": "1.5.0",
          "state": {
            "_dom_classes": [],
            "_model_module": "@jupyter-widgets/controls",
            "_model_module_version": "1.5.0",
            "_model_name": "FloatProgressModel",
            "_view_count": null,
            "_view_module": "@jupyter-widgets/controls",
            "_view_module_version": "1.5.0",
            "_view_name": "ProgressView",
            "bar_style": "success",
            "description": "",
            "description_tooltip": null,
            "layout": "IPY_MODEL_0de6e7535cc1439db87bb1c6cdc8244c",
            "max": 26788,
            "min": 0,
            "orientation": "horizontal",
            "style": "IPY_MODEL_2d70150e2abb4bc0a6cb9208e8685238",
            "value": 26788
          }
        },
        "5c7e7091d39b4ffdb5f6ae8b6dc25dae": {
          "model_module": "@jupyter-widgets/controls",
          "model_name": "HTMLModel",
          "model_module_version": "1.5.0",
          "state": {
            "_dom_classes": [],
            "_model_module": "@jupyter-widgets/controls",
            "_model_module_version": "1.5.0",
            "_model_name": "HTMLModel",
            "_view_count": null,
            "_view_module": "@jupyter-widgets/controls",
            "_view_module_version": "1.5.0",
            "_view_name": "HTMLView",
            "description": "",
            "description_tooltip": null,
            "layout": "IPY_MODEL_627ca490f21a42b38e528674c015a0b4",
            "placeholder": "​",
            "style": "IPY_MODEL_224d8d14708f4d8aad0681e80249ee98",
            "value": " 26.8k/26.8k [00:00&lt;00:00, 1.52MB/s]"
          }
        },
        "a6a7dd428ed34e9a8905d1d0f88ccfb6": {
          "model_module": "@jupyter-widgets/base",
          "model_name": "LayoutModel",
          "model_module_version": "1.2.0",
          "state": {
            "_model_module": "@jupyter-widgets/base",
            "_model_module_version": "1.2.0",
            "_model_name": "LayoutModel",
            "_view_count": null,
            "_view_module": "@jupyter-widgets/base",
            "_view_module_version": "1.2.0",
            "_view_name": "LayoutView",
            "align_content": null,
            "align_items": null,
            "align_self": null,
            "border": null,
            "bottom": null,
            "display": null,
            "flex": null,
            "flex_flow": null,
            "grid_area": null,
            "grid_auto_columns": null,
            "grid_auto_flow": null,
            "grid_auto_rows": null,
            "grid_column": null,
            "grid_gap": null,
            "grid_row": null,
            "grid_template_areas": null,
            "grid_template_columns": null,
            "grid_template_rows": null,
            "height": null,
            "justify_content": null,
            "justify_items": null,
            "left": null,
            "margin": null,
            "max_height": null,
            "max_width": null,
            "min_height": null,
            "min_width": null,
            "object_fit": null,
            "object_position": null,
            "order": null,
            "overflow": null,
            "overflow_x": null,
            "overflow_y": null,
            "padding": null,
            "right": null,
            "top": null,
            "visibility": null,
            "width": null
          }
        },
        "81ea6a4668974f1cb772fcdd187ab302": {
          "model_module": "@jupyter-widgets/base",
          "model_name": "LayoutModel",
          "model_module_version": "1.2.0",
          "state": {
            "_model_module": "@jupyter-widgets/base",
            "_model_module_version": "1.2.0",
            "_model_name": "LayoutModel",
            "_view_count": null,
            "_view_module": "@jupyter-widgets/base",
            "_view_module_version": "1.2.0",
            "_view_name": "LayoutView",
            "align_content": null,
            "align_items": null,
            "align_self": null,
            "border": null,
            "bottom": null,
            "display": null,
            "flex": null,
            "flex_flow": null,
            "grid_area": null,
            "grid_auto_columns": null,
            "grid_auto_flow": null,
            "grid_auto_rows": null,
            "grid_column": null,
            "grid_gap": null,
            "grid_row": null,
            "grid_template_areas": null,
            "grid_template_columns": null,
            "grid_template_rows": null,
            "height": null,
            "justify_content": null,
            "justify_items": null,
            "left": null,
            "margin": null,
            "max_height": null,
            "max_width": null,
            "min_height": null,
            "min_width": null,
            "object_fit": null,
            "object_position": null,
            "order": null,
            "overflow": null,
            "overflow_x": null,
            "overflow_y": null,
            "padding": null,
            "right": null,
            "top": null,
            "visibility": null,
            "width": null
          }
        },
        "e7b6e93ac4f8463abaab512a22e5b764": {
          "model_module": "@jupyter-widgets/controls",
          "model_name": "DescriptionStyleModel",
          "model_module_version": "1.5.0",
          "state": {
            "_model_module": "@jupyter-widgets/controls",
            "_model_module_version": "1.5.0",
            "_model_name": "DescriptionStyleModel",
            "_view_count": null,
            "_view_module": "@jupyter-widgets/base",
            "_view_module_version": "1.2.0",
            "_view_name": "StyleView",
            "description_width": ""
          }
        },
        "0de6e7535cc1439db87bb1c6cdc8244c": {
          "model_module": "@jupyter-widgets/base",
          "model_name": "LayoutModel",
          "model_module_version": "1.2.0",
          "state": {
            "_model_module": "@jupyter-widgets/base",
            "_model_module_version": "1.2.0",
            "_model_name": "LayoutModel",
            "_view_count": null,
            "_view_module": "@jupyter-widgets/base",
            "_view_module_version": "1.2.0",
            "_view_name": "LayoutView",
            "align_content": null,
            "align_items": null,
            "align_self": null,
            "border": null,
            "bottom": null,
            "display": null,
            "flex": null,
            "flex_flow": null,
            "grid_area": null,
            "grid_auto_columns": null,
            "grid_auto_flow": null,
            "grid_auto_rows": null,
            "grid_column": null,
            "grid_gap": null,
            "grid_row": null,
            "grid_template_areas": null,
            "grid_template_columns": null,
            "grid_template_rows": null,
            "height": null,
            "justify_content": null,
            "justify_items": null,
            "left": null,
            "margin": null,
            "max_height": null,
            "max_width": null,
            "min_height": null,
            "min_width": null,
            "object_fit": null,
            "object_position": null,
            "order": null,
            "overflow": null,
            "overflow_x": null,
            "overflow_y": null,
            "padding": null,
            "right": null,
            "top": null,
            "visibility": null,
            "width": null
          }
        },
        "2d70150e2abb4bc0a6cb9208e8685238": {
          "model_module": "@jupyter-widgets/controls",
          "model_name": "ProgressStyleModel",
          "model_module_version": "1.5.0",
          "state": {
            "_model_module": "@jupyter-widgets/controls",
            "_model_module_version": "1.5.0",
            "_model_name": "ProgressStyleModel",
            "_view_count": null,
            "_view_module": "@jupyter-widgets/base",
            "_view_module_version": "1.2.0",
            "_view_name": "StyleView",
            "bar_color": null,
            "description_width": ""
          }
        },
        "627ca490f21a42b38e528674c015a0b4": {
          "model_module": "@jupyter-widgets/base",
          "model_name": "LayoutModel",
          "model_module_version": "1.2.0",
          "state": {
            "_model_module": "@jupyter-widgets/base",
            "_model_module_version": "1.2.0",
            "_model_name": "LayoutModel",
            "_view_count": null,
            "_view_module": "@jupyter-widgets/base",
            "_view_module_version": "1.2.0",
            "_view_name": "LayoutView",
            "align_content": null,
            "align_items": null,
            "align_self": null,
            "border": null,
            "bottom": null,
            "display": null,
            "flex": null,
            "flex_flow": null,
            "grid_area": null,
            "grid_auto_columns": null,
            "grid_auto_flow": null,
            "grid_auto_rows": null,
            "grid_column": null,
            "grid_gap": null,
            "grid_row": null,
            "grid_template_areas": null,
            "grid_template_columns": null,
            "grid_template_rows": null,
            "height": null,
            "justify_content": null,
            "justify_items": null,
            "left": null,
            "margin": null,
            "max_height": null,
            "max_width": null,
            "min_height": null,
            "min_width": null,
            "object_fit": null,
            "object_position": null,
            "order": null,
            "overflow": null,
            "overflow_x": null,
            "overflow_y": null,
            "padding": null,
            "right": null,
            "top": null,
            "visibility": null,
            "width": null
          }
        },
        "224d8d14708f4d8aad0681e80249ee98": {
          "model_module": "@jupyter-widgets/controls",
          "model_name": "DescriptionStyleModel",
          "model_module_version": "1.5.0",
          "state": {
            "_model_module": "@jupyter-widgets/controls",
            "_model_module_version": "1.5.0",
            "_model_name": "DescriptionStyleModel",
            "_view_count": null,
            "_view_module": "@jupyter-widgets/base",
            "_view_module_version": "1.2.0",
            "_view_name": "StyleView",
            "description_width": ""
          }
        },
        "e45d5992c1ee44079188fe151ba923df": {
          "model_module": "@jupyter-widgets/controls",
          "model_name": "HBoxModel",
          "model_module_version": "1.5.0",
          "state": {
            "_dom_classes": [],
            "_model_module": "@jupyter-widgets/controls",
            "_model_module_version": "1.5.0",
            "_model_name": "HBoxModel",
            "_view_count": null,
            "_view_module": "@jupyter-widgets/controls",
            "_view_module_version": "1.5.0",
            "_view_name": "HBoxView",
            "box_style": "",
            "children": [
              "IPY_MODEL_5ad43b01e7bb40fca812d7564250dee7",
              "IPY_MODEL_c7c10e9cf2a04f2bb39fdbae1ccdf2f0",
              "IPY_MODEL_7eedb7e478b94b00a0566375715a9153"
            ],
            "layout": "IPY_MODEL_b10e18dfc69b4ec9818e8920c3ee0e56"
          }
        },
        "5ad43b01e7bb40fca812d7564250dee7": {
          "model_module": "@jupyter-widgets/controls",
          "model_name": "HTMLModel",
          "model_module_version": "1.5.0",
          "state": {
            "_dom_classes": [],
            "_model_module": "@jupyter-widgets/controls",
            "_model_module_version": "1.5.0",
            "_model_name": "HTMLModel",
            "_view_count": null,
            "_view_module": "@jupyter-widgets/controls",
            "_view_module_version": "1.5.0",
            "_view_name": "HTMLView",
            "description": "",
            "description_tooltip": null,
            "layout": "IPY_MODEL_17409a5b9aca40c88b64a50f5e286966",
            "placeholder": "​",
            "style": "IPY_MODEL_7b5767694c5048fea926bde1d3a2ee70",
            "value": "Downloading shards: 100%"
          }
        },
        "c7c10e9cf2a04f2bb39fdbae1ccdf2f0": {
          "model_module": "@jupyter-widgets/controls",
          "model_name": "FloatProgressModel",
          "model_module_version": "1.5.0",
          "state": {
            "_dom_classes": [],
            "_model_module": "@jupyter-widgets/controls",
            "_model_module_version": "1.5.0",
            "_model_name": "FloatProgressModel",
            "_view_count": null,
            "_view_module": "@jupyter-widgets/controls",
            "_view_module_version": "1.5.0",
            "_view_name": "ProgressView",
            "bar_style": "success",
            "description": "",
            "description_tooltip": null,
            "layout": "IPY_MODEL_4d28cfb5190344babf6a5e55fff3ac34",
            "max": 2,
            "min": 0,
            "orientation": "horizontal",
            "style": "IPY_MODEL_63f019de746f4759a370986023bcd384",
            "value": 2
          }
        },
        "7eedb7e478b94b00a0566375715a9153": {
          "model_module": "@jupyter-widgets/controls",
          "model_name": "HTMLModel",
          "model_module_version": "1.5.0",
          "state": {
            "_dom_classes": [],
            "_model_module": "@jupyter-widgets/controls",
            "_model_module_version": "1.5.0",
            "_model_name": "HTMLModel",
            "_view_count": null,
            "_view_module": "@jupyter-widgets/controls",
            "_view_module_version": "1.5.0",
            "_view_name": "HTMLView",
            "description": "",
            "description_tooltip": null,
            "layout": "IPY_MODEL_1b442f19e825455195ef043e42bf920f",
            "placeholder": "​",
            "style": "IPY_MODEL_8f0a3d8fd9364e6f938d7d3015b5189a",
            "value": " 2/2 [02:01&lt;00:00, 55.89s/it]"
          }
        },
        "b10e18dfc69b4ec9818e8920c3ee0e56": {
          "model_module": "@jupyter-widgets/base",
          "model_name": "LayoutModel",
          "model_module_version": "1.2.0",
          "state": {
            "_model_module": "@jupyter-widgets/base",
            "_model_module_version": "1.2.0",
            "_model_name": "LayoutModel",
            "_view_count": null,
            "_view_module": "@jupyter-widgets/base",
            "_view_module_version": "1.2.0",
            "_view_name": "LayoutView",
            "align_content": null,
            "align_items": null,
            "align_self": null,
            "border": null,
            "bottom": null,
            "display": null,
            "flex": null,
            "flex_flow": null,
            "grid_area": null,
            "grid_auto_columns": null,
            "grid_auto_flow": null,
            "grid_auto_rows": null,
            "grid_column": null,
            "grid_gap": null,
            "grid_row": null,
            "grid_template_areas": null,
            "grid_template_columns": null,
            "grid_template_rows": null,
            "height": null,
            "justify_content": null,
            "justify_items": null,
            "left": null,
            "margin": null,
            "max_height": null,
            "max_width": null,
            "min_height": null,
            "min_width": null,
            "object_fit": null,
            "object_position": null,
            "order": null,
            "overflow": null,
            "overflow_x": null,
            "overflow_y": null,
            "padding": null,
            "right": null,
            "top": null,
            "visibility": null,
            "width": null
          }
        },
        "17409a5b9aca40c88b64a50f5e286966": {
          "model_module": "@jupyter-widgets/base",
          "model_name": "LayoutModel",
          "model_module_version": "1.2.0",
          "state": {
            "_model_module": "@jupyter-widgets/base",
            "_model_module_version": "1.2.0",
            "_model_name": "LayoutModel",
            "_view_count": null,
            "_view_module": "@jupyter-widgets/base",
            "_view_module_version": "1.2.0",
            "_view_name": "LayoutView",
            "align_content": null,
            "align_items": null,
            "align_self": null,
            "border": null,
            "bottom": null,
            "display": null,
            "flex": null,
            "flex_flow": null,
            "grid_area": null,
            "grid_auto_columns": null,
            "grid_auto_flow": null,
            "grid_auto_rows": null,
            "grid_column": null,
            "grid_gap": null,
            "grid_row": null,
            "grid_template_areas": null,
            "grid_template_columns": null,
            "grid_template_rows": null,
            "height": null,
            "justify_content": null,
            "justify_items": null,
            "left": null,
            "margin": null,
            "max_height": null,
            "max_width": null,
            "min_height": null,
            "min_width": null,
            "object_fit": null,
            "object_position": null,
            "order": null,
            "overflow": null,
            "overflow_x": null,
            "overflow_y": null,
            "padding": null,
            "right": null,
            "top": null,
            "visibility": null,
            "width": null
          }
        },
        "7b5767694c5048fea926bde1d3a2ee70": {
          "model_module": "@jupyter-widgets/controls",
          "model_name": "DescriptionStyleModel",
          "model_module_version": "1.5.0",
          "state": {
            "_model_module": "@jupyter-widgets/controls",
            "_model_module_version": "1.5.0",
            "_model_name": "DescriptionStyleModel",
            "_view_count": null,
            "_view_module": "@jupyter-widgets/base",
            "_view_module_version": "1.2.0",
            "_view_name": "StyleView",
            "description_width": ""
          }
        },
        "4d28cfb5190344babf6a5e55fff3ac34": {
          "model_module": "@jupyter-widgets/base",
          "model_name": "LayoutModel",
          "model_module_version": "1.2.0",
          "state": {
            "_model_module": "@jupyter-widgets/base",
            "_model_module_version": "1.2.0",
            "_model_name": "LayoutModel",
            "_view_count": null,
            "_view_module": "@jupyter-widgets/base",
            "_view_module_version": "1.2.0",
            "_view_name": "LayoutView",
            "align_content": null,
            "align_items": null,
            "align_self": null,
            "border": null,
            "bottom": null,
            "display": null,
            "flex": null,
            "flex_flow": null,
            "grid_area": null,
            "grid_auto_columns": null,
            "grid_auto_flow": null,
            "grid_auto_rows": null,
            "grid_column": null,
            "grid_gap": null,
            "grid_row": null,
            "grid_template_areas": null,
            "grid_template_columns": null,
            "grid_template_rows": null,
            "height": null,
            "justify_content": null,
            "justify_items": null,
            "left": null,
            "margin": null,
            "max_height": null,
            "max_width": null,
            "min_height": null,
            "min_width": null,
            "object_fit": null,
            "object_position": null,
            "order": null,
            "overflow": null,
            "overflow_x": null,
            "overflow_y": null,
            "padding": null,
            "right": null,
            "top": null,
            "visibility": null,
            "width": null
          }
        },
        "63f019de746f4759a370986023bcd384": {
          "model_module": "@jupyter-widgets/controls",
          "model_name": "ProgressStyleModel",
          "model_module_version": "1.5.0",
          "state": {
            "_model_module": "@jupyter-widgets/controls",
            "_model_module_version": "1.5.0",
            "_model_name": "ProgressStyleModel",
            "_view_count": null,
            "_view_module": "@jupyter-widgets/base",
            "_view_module_version": "1.2.0",
            "_view_name": "StyleView",
            "bar_color": null,
            "description_width": ""
          }
        },
        "1b442f19e825455195ef043e42bf920f": {
          "model_module": "@jupyter-widgets/base",
          "model_name": "LayoutModel",
          "model_module_version": "1.2.0",
          "state": {
            "_model_module": "@jupyter-widgets/base",
            "_model_module_version": "1.2.0",
            "_model_name": "LayoutModel",
            "_view_count": null,
            "_view_module": "@jupyter-widgets/base",
            "_view_module_version": "1.2.0",
            "_view_name": "LayoutView",
            "align_content": null,
            "align_items": null,
            "align_self": null,
            "border": null,
            "bottom": null,
            "display": null,
            "flex": null,
            "flex_flow": null,
            "grid_area": null,
            "grid_auto_columns": null,
            "grid_auto_flow": null,
            "grid_auto_rows": null,
            "grid_column": null,
            "grid_gap": null,
            "grid_row": null,
            "grid_template_areas": null,
            "grid_template_columns": null,
            "grid_template_rows": null,
            "height": null,
            "justify_content": null,
            "justify_items": null,
            "left": null,
            "margin": null,
            "max_height": null,
            "max_width": null,
            "min_height": null,
            "min_width": null,
            "object_fit": null,
            "object_position": null,
            "order": null,
            "overflow": null,
            "overflow_x": null,
            "overflow_y": null,
            "padding": null,
            "right": null,
            "top": null,
            "visibility": null,
            "width": null
          }
        },
        "8f0a3d8fd9364e6f938d7d3015b5189a": {
          "model_module": "@jupyter-widgets/controls",
          "model_name": "DescriptionStyleModel",
          "model_module_version": "1.5.0",
          "state": {
            "_model_module": "@jupyter-widgets/controls",
            "_model_module_version": "1.5.0",
            "_model_name": "DescriptionStyleModel",
            "_view_count": null,
            "_view_module": "@jupyter-widgets/base",
            "_view_module_version": "1.2.0",
            "_view_name": "StyleView",
            "description_width": ""
          }
        },
        "c60d810c56fc4c048beb56172b586749": {
          "model_module": "@jupyter-widgets/controls",
          "model_name": "HBoxModel",
          "model_module_version": "1.5.0",
          "state": {
            "_dom_classes": [],
            "_model_module": "@jupyter-widgets/controls",
            "_model_module_version": "1.5.0",
            "_model_name": "HBoxModel",
            "_view_count": null,
            "_view_module": "@jupyter-widgets/controls",
            "_view_module_version": "1.5.0",
            "_view_name": "HBoxView",
            "box_style": "",
            "children": [
              "IPY_MODEL_d18cdfb2b68e44d392c806b55befeca2",
              "IPY_MODEL_5cfb7fe22d5745fea51aef9a8740f192",
              "IPY_MODEL_7aba88f2d01e485895e51aba3066ac6e"
            ],
            "layout": "IPY_MODEL_d3caed9e0ad24c2e976cdfe909439c7e"
          }
        },
        "d18cdfb2b68e44d392c806b55befeca2": {
          "model_module": "@jupyter-widgets/controls",
          "model_name": "HTMLModel",
          "model_module_version": "1.5.0",
          "state": {
            "_dom_classes": [],
            "_model_module": "@jupyter-widgets/controls",
            "_model_module_version": "1.5.0",
            "_model_name": "HTMLModel",
            "_view_count": null,
            "_view_module": "@jupyter-widgets/controls",
            "_view_module_version": "1.5.0",
            "_view_name": "HTMLView",
            "description": "",
            "description_tooltip": null,
            "layout": "IPY_MODEL_4392281cb3bd4f268c83176bd1b2c6ac",
            "placeholder": "​",
            "style": "IPY_MODEL_b2e23a43ad7a4dc0af8568adc762886f",
            "value": "model-00001-of-00002.safetensors: 100%"
          }
        },
        "5cfb7fe22d5745fea51aef9a8740f192": {
          "model_module": "@jupyter-widgets/controls",
          "model_name": "FloatProgressModel",
          "model_module_version": "1.5.0",
          "state": {
            "_dom_classes": [],
            "_model_module": "@jupyter-widgets/controls",
            "_model_module_version": "1.5.0",
            "_model_name": "FloatProgressModel",
            "_view_count": null,
            "_view_module": "@jupyter-widgets/controls",
            "_view_module_version": "1.5.0",
            "_view_name": "ProgressView",
            "bar_style": "success",
            "description": "",
            "description_tooltip": null,
            "layout": "IPY_MODEL_45f9f32686564977b5cb2539abb3b2e4",
            "max": 9976576152,
            "min": 0,
            "orientation": "horizontal",
            "style": "IPY_MODEL_52f016c1a18e424cb133f8085fd0a5c4",
            "value": 9976576152
          }
        },
        "7aba88f2d01e485895e51aba3066ac6e": {
          "model_module": "@jupyter-widgets/controls",
          "model_name": "HTMLModel",
          "model_module_version": "1.5.0",
          "state": {
            "_dom_classes": [],
            "_model_module": "@jupyter-widgets/controls",
            "_model_module_version": "1.5.0",
            "_model_name": "HTMLModel",
            "_view_count": null,
            "_view_module": "@jupyter-widgets/controls",
            "_view_module_version": "1.5.0",
            "_view_name": "HTMLView",
            "description": "",
            "description_tooltip": null,
            "layout": "IPY_MODEL_b0cc731506d24231aad32ff837872413",
            "placeholder": "​",
            "style": "IPY_MODEL_a46843edce9a467bac0e0faf69c7efcb",
            "value": " 9.98G/9.98G [01:27&lt;00:00, 166MB/s]"
          }
        },
        "d3caed9e0ad24c2e976cdfe909439c7e": {
          "model_module": "@jupyter-widgets/base",
          "model_name": "LayoutModel",
          "model_module_version": "1.2.0",
          "state": {
            "_model_module": "@jupyter-widgets/base",
            "_model_module_version": "1.2.0",
            "_model_name": "LayoutModel",
            "_view_count": null,
            "_view_module": "@jupyter-widgets/base",
            "_view_module_version": "1.2.0",
            "_view_name": "LayoutView",
            "align_content": null,
            "align_items": null,
            "align_self": null,
            "border": null,
            "bottom": null,
            "display": null,
            "flex": null,
            "flex_flow": null,
            "grid_area": null,
            "grid_auto_columns": null,
            "grid_auto_flow": null,
            "grid_auto_rows": null,
            "grid_column": null,
            "grid_gap": null,
            "grid_row": null,
            "grid_template_areas": null,
            "grid_template_columns": null,
            "grid_template_rows": null,
            "height": null,
            "justify_content": null,
            "justify_items": null,
            "left": null,
            "margin": null,
            "max_height": null,
            "max_width": null,
            "min_height": null,
            "min_width": null,
            "object_fit": null,
            "object_position": null,
            "order": null,
            "overflow": null,
            "overflow_x": null,
            "overflow_y": null,
            "padding": null,
            "right": null,
            "top": null,
            "visibility": null,
            "width": null
          }
        },
        "4392281cb3bd4f268c83176bd1b2c6ac": {
          "model_module": "@jupyter-widgets/base",
          "model_name": "LayoutModel",
          "model_module_version": "1.2.0",
          "state": {
            "_model_module": "@jupyter-widgets/base",
            "_model_module_version": "1.2.0",
            "_model_name": "LayoutModel",
            "_view_count": null,
            "_view_module": "@jupyter-widgets/base",
            "_view_module_version": "1.2.0",
            "_view_name": "LayoutView",
            "align_content": null,
            "align_items": null,
            "align_self": null,
            "border": null,
            "bottom": null,
            "display": null,
            "flex": null,
            "flex_flow": null,
            "grid_area": null,
            "grid_auto_columns": null,
            "grid_auto_flow": null,
            "grid_auto_rows": null,
            "grid_column": null,
            "grid_gap": null,
            "grid_row": null,
            "grid_template_areas": null,
            "grid_template_columns": null,
            "grid_template_rows": null,
            "height": null,
            "justify_content": null,
            "justify_items": null,
            "left": null,
            "margin": null,
            "max_height": null,
            "max_width": null,
            "min_height": null,
            "min_width": null,
            "object_fit": null,
            "object_position": null,
            "order": null,
            "overflow": null,
            "overflow_x": null,
            "overflow_y": null,
            "padding": null,
            "right": null,
            "top": null,
            "visibility": null,
            "width": null
          }
        },
        "b2e23a43ad7a4dc0af8568adc762886f": {
          "model_module": "@jupyter-widgets/controls",
          "model_name": "DescriptionStyleModel",
          "model_module_version": "1.5.0",
          "state": {
            "_model_module": "@jupyter-widgets/controls",
            "_model_module_version": "1.5.0",
            "_model_name": "DescriptionStyleModel",
            "_view_count": null,
            "_view_module": "@jupyter-widgets/base",
            "_view_module_version": "1.2.0",
            "_view_name": "StyleView",
            "description_width": ""
          }
        },
        "45f9f32686564977b5cb2539abb3b2e4": {
          "model_module": "@jupyter-widgets/base",
          "model_name": "LayoutModel",
          "model_module_version": "1.2.0",
          "state": {
            "_model_module": "@jupyter-widgets/base",
            "_model_module_version": "1.2.0",
            "_model_name": "LayoutModel",
            "_view_count": null,
            "_view_module": "@jupyter-widgets/base",
            "_view_module_version": "1.2.0",
            "_view_name": "LayoutView",
            "align_content": null,
            "align_items": null,
            "align_self": null,
            "border": null,
            "bottom": null,
            "display": null,
            "flex": null,
            "flex_flow": null,
            "grid_area": null,
            "grid_auto_columns": null,
            "grid_auto_flow": null,
            "grid_auto_rows": null,
            "grid_column": null,
            "grid_gap": null,
            "grid_row": null,
            "grid_template_areas": null,
            "grid_template_columns": null,
            "grid_template_rows": null,
            "height": null,
            "justify_content": null,
            "justify_items": null,
            "left": null,
            "margin": null,
            "max_height": null,
            "max_width": null,
            "min_height": null,
            "min_width": null,
            "object_fit": null,
            "object_position": null,
            "order": null,
            "overflow": null,
            "overflow_x": null,
            "overflow_y": null,
            "padding": null,
            "right": null,
            "top": null,
            "visibility": null,
            "width": null
          }
        },
        "52f016c1a18e424cb133f8085fd0a5c4": {
          "model_module": "@jupyter-widgets/controls",
          "model_name": "ProgressStyleModel",
          "model_module_version": "1.5.0",
          "state": {
            "_model_module": "@jupyter-widgets/controls",
            "_model_module_version": "1.5.0",
            "_model_name": "ProgressStyleModel",
            "_view_count": null,
            "_view_module": "@jupyter-widgets/base",
            "_view_module_version": "1.2.0",
            "_view_name": "StyleView",
            "bar_color": null,
            "description_width": ""
          }
        },
        "b0cc731506d24231aad32ff837872413": {
          "model_module": "@jupyter-widgets/base",
          "model_name": "LayoutModel",
          "model_module_version": "1.2.0",
          "state": {
            "_model_module": "@jupyter-widgets/base",
            "_model_module_version": "1.2.0",
            "_model_name": "LayoutModel",
            "_view_count": null,
            "_view_module": "@jupyter-widgets/base",
            "_view_module_version": "1.2.0",
            "_view_name": "LayoutView",
            "align_content": null,
            "align_items": null,
            "align_self": null,
            "border": null,
            "bottom": null,
            "display": null,
            "flex": null,
            "flex_flow": null,
            "grid_area": null,
            "grid_auto_columns": null,
            "grid_auto_flow": null,
            "grid_auto_rows": null,
            "grid_column": null,
            "grid_gap": null,
            "grid_row": null,
            "grid_template_areas": null,
            "grid_template_columns": null,
            "grid_template_rows": null,
            "height": null,
            "justify_content": null,
            "justify_items": null,
            "left": null,
            "margin": null,
            "max_height": null,
            "max_width": null,
            "min_height": null,
            "min_width": null,
            "object_fit": null,
            "object_position": null,
            "order": null,
            "overflow": null,
            "overflow_x": null,
            "overflow_y": null,
            "padding": null,
            "right": null,
            "top": null,
            "visibility": null,
            "width": null
          }
        },
        "a46843edce9a467bac0e0faf69c7efcb": {
          "model_module": "@jupyter-widgets/controls",
          "model_name": "DescriptionStyleModel",
          "model_module_version": "1.5.0",
          "state": {
            "_model_module": "@jupyter-widgets/controls",
            "_model_module_version": "1.5.0",
            "_model_name": "DescriptionStyleModel",
            "_view_count": null,
            "_view_module": "@jupyter-widgets/base",
            "_view_module_version": "1.2.0",
            "_view_name": "StyleView",
            "description_width": ""
          }
        },
        "bbbfcea4e19e4b7fb449588cea42f6a0": {
          "model_module": "@jupyter-widgets/controls",
          "model_name": "HBoxModel",
          "model_module_version": "1.5.0",
          "state": {
            "_dom_classes": [],
            "_model_module": "@jupyter-widgets/controls",
            "_model_module_version": "1.5.0",
            "_model_name": "HBoxModel",
            "_view_count": null,
            "_view_module": "@jupyter-widgets/controls",
            "_view_module_version": "1.5.0",
            "_view_name": "HBoxView",
            "box_style": "",
            "children": [
              "IPY_MODEL_9aa536e9128b4994bca271c268c8c0a0",
              "IPY_MODEL_570b90b88bbe45188b630affb0bb1229",
              "IPY_MODEL_6cfeaa636d4246738ac2ab6b893a0ba8"
            ],
            "layout": "IPY_MODEL_193c8042136a4cb481ee414ca50a46c1"
          }
        },
        "9aa536e9128b4994bca271c268c8c0a0": {
          "model_module": "@jupyter-widgets/controls",
          "model_name": "HTMLModel",
          "model_module_version": "1.5.0",
          "state": {
            "_dom_classes": [],
            "_model_module": "@jupyter-widgets/controls",
            "_model_module_version": "1.5.0",
            "_model_name": "HTMLModel",
            "_view_count": null,
            "_view_module": "@jupyter-widgets/controls",
            "_view_module_version": "1.5.0",
            "_view_name": "HTMLView",
            "description": "",
            "description_tooltip": null,
            "layout": "IPY_MODEL_ad25a1e857cc446ba86f26c62aa90b54",
            "placeholder": "​",
            "style": "IPY_MODEL_db36b98f35e34a0ab6ebdf87aa330bdb",
            "value": "model-00002-of-00002.safetensors: 100%"
          }
        },
        "570b90b88bbe45188b630affb0bb1229": {
          "model_module": "@jupyter-widgets/controls",
          "model_name": "FloatProgressModel",
          "model_module_version": "1.5.0",
          "state": {
            "_dom_classes": [],
            "_model_module": "@jupyter-widgets/controls",
            "_model_module_version": "1.5.0",
            "_model_name": "FloatProgressModel",
            "_view_count": null,
            "_view_module": "@jupyter-widgets/controls",
            "_view_module_version": "1.5.0",
            "_view_name": "ProgressView",
            "bar_style": "success",
            "description": "",
            "description_tooltip": null,
            "layout": "IPY_MODEL_c0f73613bb6f49618a401d5c64b51de6",
            "max": 3500296424,
            "min": 0,
            "orientation": "horizontal",
            "style": "IPY_MODEL_17fa43f231254e05b76b14af43d4bbf4",
            "value": 3500296424
          }
        },
        "6cfeaa636d4246738ac2ab6b893a0ba8": {
          "model_module": "@jupyter-widgets/controls",
          "model_name": "HTMLModel",
          "model_module_version": "1.5.0",
          "state": {
            "_dom_classes": [],
            "_model_module": "@jupyter-widgets/controls",
            "_model_module_version": "1.5.0",
            "_model_name": "HTMLModel",
            "_view_count": null,
            "_view_module": "@jupyter-widgets/controls",
            "_view_module_version": "1.5.0",
            "_view_name": "HTMLView",
            "description": "",
            "description_tooltip": null,
            "layout": "IPY_MODEL_4b825e106c9f4a5d8aa8fb2d63a1ad33",
            "placeholder": "​",
            "style": "IPY_MODEL_747df212a20f4c5893e08e2a1d717bce",
            "value": " 3.50G/3.50G [00:33&lt;00:00, 104MB/s]"
          }
        },
        "193c8042136a4cb481ee414ca50a46c1": {
          "model_module": "@jupyter-widgets/base",
          "model_name": "LayoutModel",
          "model_module_version": "1.2.0",
          "state": {
            "_model_module": "@jupyter-widgets/base",
            "_model_module_version": "1.2.0",
            "_model_name": "LayoutModel",
            "_view_count": null,
            "_view_module": "@jupyter-widgets/base",
            "_view_module_version": "1.2.0",
            "_view_name": "LayoutView",
            "align_content": null,
            "align_items": null,
            "align_self": null,
            "border": null,
            "bottom": null,
            "display": null,
            "flex": null,
            "flex_flow": null,
            "grid_area": null,
            "grid_auto_columns": null,
            "grid_auto_flow": null,
            "grid_auto_rows": null,
            "grid_column": null,
            "grid_gap": null,
            "grid_row": null,
            "grid_template_areas": null,
            "grid_template_columns": null,
            "grid_template_rows": null,
            "height": null,
            "justify_content": null,
            "justify_items": null,
            "left": null,
            "margin": null,
            "max_height": null,
            "max_width": null,
            "min_height": null,
            "min_width": null,
            "object_fit": null,
            "object_position": null,
            "order": null,
            "overflow": null,
            "overflow_x": null,
            "overflow_y": null,
            "padding": null,
            "right": null,
            "top": null,
            "visibility": null,
            "width": null
          }
        },
        "ad25a1e857cc446ba86f26c62aa90b54": {
          "model_module": "@jupyter-widgets/base",
          "model_name": "LayoutModel",
          "model_module_version": "1.2.0",
          "state": {
            "_model_module": "@jupyter-widgets/base",
            "_model_module_version": "1.2.0",
            "_model_name": "LayoutModel",
            "_view_count": null,
            "_view_module": "@jupyter-widgets/base",
            "_view_module_version": "1.2.0",
            "_view_name": "LayoutView",
            "align_content": null,
            "align_items": null,
            "align_self": null,
            "border": null,
            "bottom": null,
            "display": null,
            "flex": null,
            "flex_flow": null,
            "grid_area": null,
            "grid_auto_columns": null,
            "grid_auto_flow": null,
            "grid_auto_rows": null,
            "grid_column": null,
            "grid_gap": null,
            "grid_row": null,
            "grid_template_areas": null,
            "grid_template_columns": null,
            "grid_template_rows": null,
            "height": null,
            "justify_content": null,
            "justify_items": null,
            "left": null,
            "margin": null,
            "max_height": null,
            "max_width": null,
            "min_height": null,
            "min_width": null,
            "object_fit": null,
            "object_position": null,
            "order": null,
            "overflow": null,
            "overflow_x": null,
            "overflow_y": null,
            "padding": null,
            "right": null,
            "top": null,
            "visibility": null,
            "width": null
          }
        },
        "db36b98f35e34a0ab6ebdf87aa330bdb": {
          "model_module": "@jupyter-widgets/controls",
          "model_name": "DescriptionStyleModel",
          "model_module_version": "1.5.0",
          "state": {
            "_model_module": "@jupyter-widgets/controls",
            "_model_module_version": "1.5.0",
            "_model_name": "DescriptionStyleModel",
            "_view_count": null,
            "_view_module": "@jupyter-widgets/base",
            "_view_module_version": "1.2.0",
            "_view_name": "StyleView",
            "description_width": ""
          }
        },
        "c0f73613bb6f49618a401d5c64b51de6": {
          "model_module": "@jupyter-widgets/base",
          "model_name": "LayoutModel",
          "model_module_version": "1.2.0",
          "state": {
            "_model_module": "@jupyter-widgets/base",
            "_model_module_version": "1.2.0",
            "_model_name": "LayoutModel",
            "_view_count": null,
            "_view_module": "@jupyter-widgets/base",
            "_view_module_version": "1.2.0",
            "_view_name": "LayoutView",
            "align_content": null,
            "align_items": null,
            "align_self": null,
            "border": null,
            "bottom": null,
            "display": null,
            "flex": null,
            "flex_flow": null,
            "grid_area": null,
            "grid_auto_columns": null,
            "grid_auto_flow": null,
            "grid_auto_rows": null,
            "grid_column": null,
            "grid_gap": null,
            "grid_row": null,
            "grid_template_areas": null,
            "grid_template_columns": null,
            "grid_template_rows": null,
            "height": null,
            "justify_content": null,
            "justify_items": null,
            "left": null,
            "margin": null,
            "max_height": null,
            "max_width": null,
            "min_height": null,
            "min_width": null,
            "object_fit": null,
            "object_position": null,
            "order": null,
            "overflow": null,
            "overflow_x": null,
            "overflow_y": null,
            "padding": null,
            "right": null,
            "top": null,
            "visibility": null,
            "width": null
          }
        },
        "17fa43f231254e05b76b14af43d4bbf4": {
          "model_module": "@jupyter-widgets/controls",
          "model_name": "ProgressStyleModel",
          "model_module_version": "1.5.0",
          "state": {
            "_model_module": "@jupyter-widgets/controls",
            "_model_module_version": "1.5.0",
            "_model_name": "ProgressStyleModel",
            "_view_count": null,
            "_view_module": "@jupyter-widgets/base",
            "_view_module_version": "1.2.0",
            "_view_name": "StyleView",
            "bar_color": null,
            "description_width": ""
          }
        },
        "4b825e106c9f4a5d8aa8fb2d63a1ad33": {
          "model_module": "@jupyter-widgets/base",
          "model_name": "LayoutModel",
          "model_module_version": "1.2.0",
          "state": {
            "_model_module": "@jupyter-widgets/base",
            "_model_module_version": "1.2.0",
            "_model_name": "LayoutModel",
            "_view_count": null,
            "_view_module": "@jupyter-widgets/base",
            "_view_module_version": "1.2.0",
            "_view_name": "LayoutView",
            "align_content": null,
            "align_items": null,
            "align_self": null,
            "border": null,
            "bottom": null,
            "display": null,
            "flex": null,
            "flex_flow": null,
            "grid_area": null,
            "grid_auto_columns": null,
            "grid_auto_flow": null,
            "grid_auto_rows": null,
            "grid_column": null,
            "grid_gap": null,
            "grid_row": null,
            "grid_template_areas": null,
            "grid_template_columns": null,
            "grid_template_rows": null,
            "height": null,
            "justify_content": null,
            "justify_items": null,
            "left": null,
            "margin": null,
            "max_height": null,
            "max_width": null,
            "min_height": null,
            "min_width": null,
            "object_fit": null,
            "object_position": null,
            "order": null,
            "overflow": null,
            "overflow_x": null,
            "overflow_y": null,
            "padding": null,
            "right": null,
            "top": null,
            "visibility": null,
            "width": null
          }
        },
        "747df212a20f4c5893e08e2a1d717bce": {
          "model_module": "@jupyter-widgets/controls",
          "model_name": "DescriptionStyleModel",
          "model_module_version": "1.5.0",
          "state": {
            "_model_module": "@jupyter-widgets/controls",
            "_model_module_version": "1.5.0",
            "_model_name": "DescriptionStyleModel",
            "_view_count": null,
            "_view_module": "@jupyter-widgets/base",
            "_view_module_version": "1.2.0",
            "_view_name": "StyleView",
            "description_width": ""
          }
        },
        "0fe8f97cc464402c9bb2d17201d741ab": {
          "model_module": "@jupyter-widgets/controls",
          "model_name": "HBoxModel",
          "model_module_version": "1.5.0",
          "state": {
            "_dom_classes": [],
            "_model_module": "@jupyter-widgets/controls",
            "_model_module_version": "1.5.0",
            "_model_name": "HBoxModel",
            "_view_count": null,
            "_view_module": "@jupyter-widgets/controls",
            "_view_module_version": "1.5.0",
            "_view_name": "HBoxView",
            "box_style": "",
            "children": [
              "IPY_MODEL_8f9c7165ee8b44c1b8b70d852da53ac0",
              "IPY_MODEL_261ca1baa27e42ad8c350debb14b45e2",
              "IPY_MODEL_18ee9a668fb245799c1ab8b61424d1eb"
            ],
            "layout": "IPY_MODEL_42e3791b646b4b398bfb76ca656060d3"
          }
        },
        "8f9c7165ee8b44c1b8b70d852da53ac0": {
          "model_module": "@jupyter-widgets/controls",
          "model_name": "HTMLModel",
          "model_module_version": "1.5.0",
          "state": {
            "_dom_classes": [],
            "_model_module": "@jupyter-widgets/controls",
            "_model_module_version": "1.5.0",
            "_model_name": "HTMLModel",
            "_view_count": null,
            "_view_module": "@jupyter-widgets/controls",
            "_view_module_version": "1.5.0",
            "_view_name": "HTMLView",
            "description": "",
            "description_tooltip": null,
            "layout": "IPY_MODEL_4177eeb1a71147de89f2b94de578b8c1",
            "placeholder": "​",
            "style": "IPY_MODEL_6e3039193b5349f3bd9ebddc65d43315",
            "value": "Loading checkpoint shards: 100%"
          }
        },
        "261ca1baa27e42ad8c350debb14b45e2": {
          "model_module": "@jupyter-widgets/controls",
          "model_name": "FloatProgressModel",
          "model_module_version": "1.5.0",
          "state": {
            "_dom_classes": [],
            "_model_module": "@jupyter-widgets/controls",
            "_model_module_version": "1.5.0",
            "_model_name": "FloatProgressModel",
            "_view_count": null,
            "_view_module": "@jupyter-widgets/controls",
            "_view_module_version": "1.5.0",
            "_view_name": "ProgressView",
            "bar_style": "success",
            "description": "",
            "description_tooltip": null,
            "layout": "IPY_MODEL_8d2e73ea4ae04d3bb631e66847ea3a94",
            "max": 2,
            "min": 0,
            "orientation": "horizontal",
            "style": "IPY_MODEL_10cc36aa88e7462c849a67a1ea64bc2b",
            "value": 2
          }
        },
        "18ee9a668fb245799c1ab8b61424d1eb": {
          "model_module": "@jupyter-widgets/controls",
          "model_name": "HTMLModel",
          "model_module_version": "1.5.0",
          "state": {
            "_dom_classes": [],
            "_model_module": "@jupyter-widgets/controls",
            "_model_module_version": "1.5.0",
            "_model_name": "HTMLModel",
            "_view_count": null,
            "_view_module": "@jupyter-widgets/controls",
            "_view_module_version": "1.5.0",
            "_view_name": "HTMLView",
            "description": "",
            "description_tooltip": null,
            "layout": "IPY_MODEL_479cf0ca630b4b4d9716f0b3763e4d12",
            "placeholder": "​",
            "style": "IPY_MODEL_0ffc4c4f9cce4a59bae878dca09ed9ad",
            "value": " 2/2 [01:08&lt;00:00, 31.35s/it]"
          }
        },
        "42e3791b646b4b398bfb76ca656060d3": {
          "model_module": "@jupyter-widgets/base",
          "model_name": "LayoutModel",
          "model_module_version": "1.2.0",
          "state": {
            "_model_module": "@jupyter-widgets/base",
            "_model_module_version": "1.2.0",
            "_model_name": "LayoutModel",
            "_view_count": null,
            "_view_module": "@jupyter-widgets/base",
            "_view_module_version": "1.2.0",
            "_view_name": "LayoutView",
            "align_content": null,
            "align_items": null,
            "align_self": null,
            "border": null,
            "bottom": null,
            "display": null,
            "flex": null,
            "flex_flow": null,
            "grid_area": null,
            "grid_auto_columns": null,
            "grid_auto_flow": null,
            "grid_auto_rows": null,
            "grid_column": null,
            "grid_gap": null,
            "grid_row": null,
            "grid_template_areas": null,
            "grid_template_columns": null,
            "grid_template_rows": null,
            "height": null,
            "justify_content": null,
            "justify_items": null,
            "left": null,
            "margin": null,
            "max_height": null,
            "max_width": null,
            "min_height": null,
            "min_width": null,
            "object_fit": null,
            "object_position": null,
            "order": null,
            "overflow": null,
            "overflow_x": null,
            "overflow_y": null,
            "padding": null,
            "right": null,
            "top": null,
            "visibility": null,
            "width": null
          }
        },
        "4177eeb1a71147de89f2b94de578b8c1": {
          "model_module": "@jupyter-widgets/base",
          "model_name": "LayoutModel",
          "model_module_version": "1.2.0",
          "state": {
            "_model_module": "@jupyter-widgets/base",
            "_model_module_version": "1.2.0",
            "_model_name": "LayoutModel",
            "_view_count": null,
            "_view_module": "@jupyter-widgets/base",
            "_view_module_version": "1.2.0",
            "_view_name": "LayoutView",
            "align_content": null,
            "align_items": null,
            "align_self": null,
            "border": null,
            "bottom": null,
            "display": null,
            "flex": null,
            "flex_flow": null,
            "grid_area": null,
            "grid_auto_columns": null,
            "grid_auto_flow": null,
            "grid_auto_rows": null,
            "grid_column": null,
            "grid_gap": null,
            "grid_row": null,
            "grid_template_areas": null,
            "grid_template_columns": null,
            "grid_template_rows": null,
            "height": null,
            "justify_content": null,
            "justify_items": null,
            "left": null,
            "margin": null,
            "max_height": null,
            "max_width": null,
            "min_height": null,
            "min_width": null,
            "object_fit": null,
            "object_position": null,
            "order": null,
            "overflow": null,
            "overflow_x": null,
            "overflow_y": null,
            "padding": null,
            "right": null,
            "top": null,
            "visibility": null,
            "width": null
          }
        },
        "6e3039193b5349f3bd9ebddc65d43315": {
          "model_module": "@jupyter-widgets/controls",
          "model_name": "DescriptionStyleModel",
          "model_module_version": "1.5.0",
          "state": {
            "_model_module": "@jupyter-widgets/controls",
            "_model_module_version": "1.5.0",
            "_model_name": "DescriptionStyleModel",
            "_view_count": null,
            "_view_module": "@jupyter-widgets/base",
            "_view_module_version": "1.2.0",
            "_view_name": "StyleView",
            "description_width": ""
          }
        },
        "8d2e73ea4ae04d3bb631e66847ea3a94": {
          "model_module": "@jupyter-widgets/base",
          "model_name": "LayoutModel",
          "model_module_version": "1.2.0",
          "state": {
            "_model_module": "@jupyter-widgets/base",
            "_model_module_version": "1.2.0",
            "_model_name": "LayoutModel",
            "_view_count": null,
            "_view_module": "@jupyter-widgets/base",
            "_view_module_version": "1.2.0",
            "_view_name": "LayoutView",
            "align_content": null,
            "align_items": null,
            "align_self": null,
            "border": null,
            "bottom": null,
            "display": null,
            "flex": null,
            "flex_flow": null,
            "grid_area": null,
            "grid_auto_columns": null,
            "grid_auto_flow": null,
            "grid_auto_rows": null,
            "grid_column": null,
            "grid_gap": null,
            "grid_row": null,
            "grid_template_areas": null,
            "grid_template_columns": null,
            "grid_template_rows": null,
            "height": null,
            "justify_content": null,
            "justify_items": null,
            "left": null,
            "margin": null,
            "max_height": null,
            "max_width": null,
            "min_height": null,
            "min_width": null,
            "object_fit": null,
            "object_position": null,
            "order": null,
            "overflow": null,
            "overflow_x": null,
            "overflow_y": null,
            "padding": null,
            "right": null,
            "top": null,
            "visibility": null,
            "width": null
          }
        },
        "10cc36aa88e7462c849a67a1ea64bc2b": {
          "model_module": "@jupyter-widgets/controls",
          "model_name": "ProgressStyleModel",
          "model_module_version": "1.5.0",
          "state": {
            "_model_module": "@jupyter-widgets/controls",
            "_model_module_version": "1.5.0",
            "_model_name": "ProgressStyleModel",
            "_view_count": null,
            "_view_module": "@jupyter-widgets/base",
            "_view_module_version": "1.2.0",
            "_view_name": "StyleView",
            "bar_color": null,
            "description_width": ""
          }
        },
        "479cf0ca630b4b4d9716f0b3763e4d12": {
          "model_module": "@jupyter-widgets/base",
          "model_name": "LayoutModel",
          "model_module_version": "1.2.0",
          "state": {
            "_model_module": "@jupyter-widgets/base",
            "_model_module_version": "1.2.0",
            "_model_name": "LayoutModel",
            "_view_count": null,
            "_view_module": "@jupyter-widgets/base",
            "_view_module_version": "1.2.0",
            "_view_name": "LayoutView",
            "align_content": null,
            "align_items": null,
            "align_self": null,
            "border": null,
            "bottom": null,
            "display": null,
            "flex": null,
            "flex_flow": null,
            "grid_area": null,
            "grid_auto_columns": null,
            "grid_auto_flow": null,
            "grid_auto_rows": null,
            "grid_column": null,
            "grid_gap": null,
            "grid_row": null,
            "grid_template_areas": null,
            "grid_template_columns": null,
            "grid_template_rows": null,
            "height": null,
            "justify_content": null,
            "justify_items": null,
            "left": null,
            "margin": null,
            "max_height": null,
            "max_width": null,
            "min_height": null,
            "min_width": null,
            "object_fit": null,
            "object_position": null,
            "order": null,
            "overflow": null,
            "overflow_x": null,
            "overflow_y": null,
            "padding": null,
            "right": null,
            "top": null,
            "visibility": null,
            "width": null
          }
        },
        "0ffc4c4f9cce4a59bae878dca09ed9ad": {
          "model_module": "@jupyter-widgets/controls",
          "model_name": "DescriptionStyleModel",
          "model_module_version": "1.5.0",
          "state": {
            "_model_module": "@jupyter-widgets/controls",
            "_model_module_version": "1.5.0",
            "_model_name": "DescriptionStyleModel",
            "_view_count": null,
            "_view_module": "@jupyter-widgets/base",
            "_view_module_version": "1.2.0",
            "_view_name": "StyleView",
            "description_width": ""
          }
        },
        "5157399347204e8499e3cf3bdd258d2b": {
          "model_module": "@jupyter-widgets/controls",
          "model_name": "HBoxModel",
          "model_module_version": "1.5.0",
          "state": {
            "_dom_classes": [],
            "_model_module": "@jupyter-widgets/controls",
            "_model_module_version": "1.5.0",
            "_model_name": "HBoxModel",
            "_view_count": null,
            "_view_module": "@jupyter-widgets/controls",
            "_view_module_version": "1.5.0",
            "_view_name": "HBoxView",
            "box_style": "",
            "children": [
              "IPY_MODEL_313283f7854c44ecb8efc7ecd0d55b38",
              "IPY_MODEL_85bdf0a758a84ffcacb255db15360309",
              "IPY_MODEL_65a75669888e42ce85aeb35d080b54bc"
            ],
            "layout": "IPY_MODEL_48a7e139d52d439dbf839b08ab1ca5a7"
          }
        },
        "313283f7854c44ecb8efc7ecd0d55b38": {
          "model_module": "@jupyter-widgets/controls",
          "model_name": "HTMLModel",
          "model_module_version": "1.5.0",
          "state": {
            "_dom_classes": [],
            "_model_module": "@jupyter-widgets/controls",
            "_model_module_version": "1.5.0",
            "_model_name": "HTMLModel",
            "_view_count": null,
            "_view_module": "@jupyter-widgets/controls",
            "_view_module_version": "1.5.0",
            "_view_name": "HTMLView",
            "description": "",
            "description_tooltip": null,
            "layout": "IPY_MODEL_aebf66b8b2fc4682929b75595b662264",
            "placeholder": "​",
            "style": "IPY_MODEL_7dc2d4129ace4cf882cb3fda541fad22",
            "value": "generation_config.json: 100%"
          }
        },
        "85bdf0a758a84ffcacb255db15360309": {
          "model_module": "@jupyter-widgets/controls",
          "model_name": "FloatProgressModel",
          "model_module_version": "1.5.0",
          "state": {
            "_dom_classes": [],
            "_model_module": "@jupyter-widgets/controls",
            "_model_module_version": "1.5.0",
            "_model_name": "FloatProgressModel",
            "_view_count": null,
            "_view_module": "@jupyter-widgets/controls",
            "_view_module_version": "1.5.0",
            "_view_name": "ProgressView",
            "bar_style": "success",
            "description": "",
            "description_tooltip": null,
            "layout": "IPY_MODEL_486efc3ebe614ec09050a996c9d31e54",
            "max": 188,
            "min": 0,
            "orientation": "horizontal",
            "style": "IPY_MODEL_0656a1cf52d94c3b9f727e4790028171",
            "value": 188
          }
        },
        "65a75669888e42ce85aeb35d080b54bc": {
          "model_module": "@jupyter-widgets/controls",
          "model_name": "HTMLModel",
          "model_module_version": "1.5.0",
          "state": {
            "_dom_classes": [],
            "_model_module": "@jupyter-widgets/controls",
            "_model_module_version": "1.5.0",
            "_model_name": "HTMLModel",
            "_view_count": null,
            "_view_module": "@jupyter-widgets/controls",
            "_view_module_version": "1.5.0",
            "_view_name": "HTMLView",
            "description": "",
            "description_tooltip": null,
            "layout": "IPY_MODEL_c08597c03dcd47aab0395fec8c6af154",
            "placeholder": "​",
            "style": "IPY_MODEL_e84e278bf13f4363818bfb8661cc9873",
            "value": " 188/188 [00:00&lt;00:00, 13.1kB/s]"
          }
        },
        "48a7e139d52d439dbf839b08ab1ca5a7": {
          "model_module": "@jupyter-widgets/base",
          "model_name": "LayoutModel",
          "model_module_version": "1.2.0",
          "state": {
            "_model_module": "@jupyter-widgets/base",
            "_model_module_version": "1.2.0",
            "_model_name": "LayoutModel",
            "_view_count": null,
            "_view_module": "@jupyter-widgets/base",
            "_view_module_version": "1.2.0",
            "_view_name": "LayoutView",
            "align_content": null,
            "align_items": null,
            "align_self": null,
            "border": null,
            "bottom": null,
            "display": null,
            "flex": null,
            "flex_flow": null,
            "grid_area": null,
            "grid_auto_columns": null,
            "grid_auto_flow": null,
            "grid_auto_rows": null,
            "grid_column": null,
            "grid_gap": null,
            "grid_row": null,
            "grid_template_areas": null,
            "grid_template_columns": null,
            "grid_template_rows": null,
            "height": null,
            "justify_content": null,
            "justify_items": null,
            "left": null,
            "margin": null,
            "max_height": null,
            "max_width": null,
            "min_height": null,
            "min_width": null,
            "object_fit": null,
            "object_position": null,
            "order": null,
            "overflow": null,
            "overflow_x": null,
            "overflow_y": null,
            "padding": null,
            "right": null,
            "top": null,
            "visibility": null,
            "width": null
          }
        },
        "aebf66b8b2fc4682929b75595b662264": {
          "model_module": "@jupyter-widgets/base",
          "model_name": "LayoutModel",
          "model_module_version": "1.2.0",
          "state": {
            "_model_module": "@jupyter-widgets/base",
            "_model_module_version": "1.2.0",
            "_model_name": "LayoutModel",
            "_view_count": null,
            "_view_module": "@jupyter-widgets/base",
            "_view_module_version": "1.2.0",
            "_view_name": "LayoutView",
            "align_content": null,
            "align_items": null,
            "align_self": null,
            "border": null,
            "bottom": null,
            "display": null,
            "flex": null,
            "flex_flow": null,
            "grid_area": null,
            "grid_auto_columns": null,
            "grid_auto_flow": null,
            "grid_auto_rows": null,
            "grid_column": null,
            "grid_gap": null,
            "grid_row": null,
            "grid_template_areas": null,
            "grid_template_columns": null,
            "grid_template_rows": null,
            "height": null,
            "justify_content": null,
            "justify_items": null,
            "left": null,
            "margin": null,
            "max_height": null,
            "max_width": null,
            "min_height": null,
            "min_width": null,
            "object_fit": null,
            "object_position": null,
            "order": null,
            "overflow": null,
            "overflow_x": null,
            "overflow_y": null,
            "padding": null,
            "right": null,
            "top": null,
            "visibility": null,
            "width": null
          }
        },
        "7dc2d4129ace4cf882cb3fda541fad22": {
          "model_module": "@jupyter-widgets/controls",
          "model_name": "DescriptionStyleModel",
          "model_module_version": "1.5.0",
          "state": {
            "_model_module": "@jupyter-widgets/controls",
            "_model_module_version": "1.5.0",
            "_model_name": "DescriptionStyleModel",
            "_view_count": null,
            "_view_module": "@jupyter-widgets/base",
            "_view_module_version": "1.2.0",
            "_view_name": "StyleView",
            "description_width": ""
          }
        },
        "486efc3ebe614ec09050a996c9d31e54": {
          "model_module": "@jupyter-widgets/base",
          "model_name": "LayoutModel",
          "model_module_version": "1.2.0",
          "state": {
            "_model_module": "@jupyter-widgets/base",
            "_model_module_version": "1.2.0",
            "_model_name": "LayoutModel",
            "_view_count": null,
            "_view_module": "@jupyter-widgets/base",
            "_view_module_version": "1.2.0",
            "_view_name": "LayoutView",
            "align_content": null,
            "align_items": null,
            "align_self": null,
            "border": null,
            "bottom": null,
            "display": null,
            "flex": null,
            "flex_flow": null,
            "grid_area": null,
            "grid_auto_columns": null,
            "grid_auto_flow": null,
            "grid_auto_rows": null,
            "grid_column": null,
            "grid_gap": null,
            "grid_row": null,
            "grid_template_areas": null,
            "grid_template_columns": null,
            "grid_template_rows": null,
            "height": null,
            "justify_content": null,
            "justify_items": null,
            "left": null,
            "margin": null,
            "max_height": null,
            "max_width": null,
            "min_height": null,
            "min_width": null,
            "object_fit": null,
            "object_position": null,
            "order": null,
            "overflow": null,
            "overflow_x": null,
            "overflow_y": null,
            "padding": null,
            "right": null,
            "top": null,
            "visibility": null,
            "width": null
          }
        },
        "0656a1cf52d94c3b9f727e4790028171": {
          "model_module": "@jupyter-widgets/controls",
          "model_name": "ProgressStyleModel",
          "model_module_version": "1.5.0",
          "state": {
            "_model_module": "@jupyter-widgets/controls",
            "_model_module_version": "1.5.0",
            "_model_name": "ProgressStyleModel",
            "_view_count": null,
            "_view_module": "@jupyter-widgets/base",
            "_view_module_version": "1.2.0",
            "_view_name": "StyleView",
            "bar_color": null,
            "description_width": ""
          }
        },
        "c08597c03dcd47aab0395fec8c6af154": {
          "model_module": "@jupyter-widgets/base",
          "model_name": "LayoutModel",
          "model_module_version": "1.2.0",
          "state": {
            "_model_module": "@jupyter-widgets/base",
            "_model_module_version": "1.2.0",
            "_model_name": "LayoutModel",
            "_view_count": null,
            "_view_module": "@jupyter-widgets/base",
            "_view_module_version": "1.2.0",
            "_view_name": "LayoutView",
            "align_content": null,
            "align_items": null,
            "align_self": null,
            "border": null,
            "bottom": null,
            "display": null,
            "flex": null,
            "flex_flow": null,
            "grid_area": null,
            "grid_auto_columns": null,
            "grid_auto_flow": null,
            "grid_auto_rows": null,
            "grid_column": null,
            "grid_gap": null,
            "grid_row": null,
            "grid_template_areas": null,
            "grid_template_columns": null,
            "grid_template_rows": null,
            "height": null,
            "justify_content": null,
            "justify_items": null,
            "left": null,
            "margin": null,
            "max_height": null,
            "max_width": null,
            "min_height": null,
            "min_width": null,
            "object_fit": null,
            "object_position": null,
            "order": null,
            "overflow": null,
            "overflow_x": null,
            "overflow_y": null,
            "padding": null,
            "right": null,
            "top": null,
            "visibility": null,
            "width": null
          }
        },
        "e84e278bf13f4363818bfb8661cc9873": {
          "model_module": "@jupyter-widgets/controls",
          "model_name": "DescriptionStyleModel",
          "model_module_version": "1.5.0",
          "state": {
            "_model_module": "@jupyter-widgets/controls",
            "_model_module_version": "1.5.0",
            "_model_name": "DescriptionStyleModel",
            "_view_count": null,
            "_view_module": "@jupyter-widgets/base",
            "_view_module_version": "1.2.0",
            "_view_name": "StyleView",
            "description_width": ""
          }
        }
      }
    }
  },
  "cells": [
    {
      "cell_type": "markdown",
      "source": [
        "Installing transformer's langchain\n"
      ],
      "metadata": {
        "id": "1nG1kyP7b8tQ"
      }
    },
    {
      "cell_type": "code",
      "execution_count": 6,
      "metadata": {
        "id": "7H8lfb0LD3ZX",
        "colab": {
          "base_uri": "https://localhost:8080/"
        },
        "outputId": "460a8784-c984-4bdf-9ac1-e53b5218547b"
      },
      "outputs": [
        {
          "output_type": "stream",
          "name": "stdout",
          "text": [
            "\u001b[2K     \u001b[90m━━━━━━━━━━━━━━━━━━━━━━━━━━━━━━━━━━━━━━━━\u001b[0m \u001b[32m817.7/817.7 kB\u001b[0m \u001b[31m4.8 MB/s\u001b[0m eta \u001b[36m0:00:00\u001b[0m\n",
            "\u001b[2K     \u001b[90m━━━━━━━━━━━━━━━━━━━━━━━━━━━━━━━━━━━━━━━━\u001b[0m \u001b[32m297.6/297.6 kB\u001b[0m \u001b[31m28.7 MB/s\u001b[0m eta \u001b[36m0:00:00\u001b[0m\n",
            "\u001b[2K     \u001b[90m━━━━━━━━━━━━━━━━━━━━━━━━━━━━━━━━━━━━━━━━\u001b[0m \u001b[32m1.9/1.9 MB\u001b[0m \u001b[31m30.8 MB/s\u001b[0m eta \u001b[36m0:00:00\u001b[0m\n",
            "\u001b[2K     \u001b[90m━━━━━━━━━━━━━━━━━━━━━━━━━━━━━━━━━━━━━━━━\u001b[0m \u001b[32m299.3/299.3 kB\u001b[0m \u001b[31m37.2 MB/s\u001b[0m eta \u001b[36m0:00:00\u001b[0m\n",
            "\u001b[2K     \u001b[90m━━━━━━━━━━━━━━━━━━━━━━━━━━━━━━━━━━━━━━━━\u001b[0m \u001b[32m116.0/116.0 kB\u001b[0m \u001b[31m14.2 MB/s\u001b[0m eta \u001b[36m0:00:00\u001b[0m\n",
            "\u001b[2K     \u001b[90m━━━━━━━━━━━━━━━━━━━━━━━━━━━━━━━━━━━━━━━━\u001b[0m \u001b[32m49.4/49.4 kB\u001b[0m \u001b[31m6.4 MB/s\u001b[0m eta \u001b[36m0:00:00\u001b[0m\n",
            "\u001b[2K     \u001b[90m━━━━━━━━━━━━━━━━━━━━━━━━━━━━━━━━━━━━━━━━\u001b[0m \u001b[32m53.0/53.0 kB\u001b[0m \u001b[31m6.8 MB/s\u001b[0m eta \u001b[36m0:00:00\u001b[0m\n",
            "\u001b[2K     \u001b[90m━━━━━━━━━━━━━━━━━━━━━━━━━━━━━━━━━━━━━━━━\u001b[0m \u001b[32m141.1/141.1 kB\u001b[0m \u001b[31m16.2 MB/s\u001b[0m eta \u001b[36m0:00:00\u001b[0m\n",
            "\u001b[?25h"
          ]
        }
      ],
      "source": [
        "!pip install -q transformers langchain accelerate"
      ]
    },
    {
      "cell_type": "markdown",
      "source": [
        "Logging in for using its libraries and models. This needs a hugging face token that is assosciated with the Hugging face account"
      ],
      "metadata": {
        "id": "EOxkp0WCbkT1"
      }
    },
    {
      "cell_type": "code",
      "source": [
        "!huggingface-cli login"
      ],
      "metadata": {
        "colab": {
          "base_uri": "https://localhost:8080/"
        },
        "id": "PAkzFlsXELri",
        "outputId": "06a11b4e-8d50-469c-c94b-61be96feab1e"
      },
      "execution_count": 7,
      "outputs": [
        {
          "output_type": "stream",
          "name": "stdout",
          "text": [
            "\n",
            "    _|    _|  _|    _|    _|_|_|    _|_|_|  _|_|_|  _|      _|    _|_|_|      _|_|_|_|    _|_|      _|_|_|  _|_|_|_|\n",
            "    _|    _|  _|    _|  _|        _|          _|    _|_|    _|  _|            _|        _|    _|  _|        _|\n",
            "    _|_|_|_|  _|    _|  _|  _|_|  _|  _|_|    _|    _|  _|  _|  _|  _|_|      _|_|_|    _|_|_|_|  _|        _|_|_|\n",
            "    _|    _|  _|    _|  _|    _|  _|    _|    _|    _|    _|_|  _|    _|      _|        _|    _|  _|        _|\n",
            "    _|    _|    _|_|      _|_|_|    _|_|_|  _|_|_|  _|      _|    _|_|_|      _|        _|    _|    _|_|_|  _|_|_|_|\n",
            "\n",
            "    To login, `huggingface_hub` requires a token generated from https://huggingface.co/settings/tokens .\n",
            "Token: \n",
            "Add token as git credential? (Y/n) Y\n",
            "Token is valid (permission: write).\n",
            "\u001b[1m\u001b[31mCannot authenticate through git-credential as no helper is defined on your machine.\n",
            "You might have to re-authenticate when pushing to the Hugging Face Hub.\n",
            "Run the following command in your terminal in case you want to set the 'store' credential helper as default.\n",
            "\n",
            "git config --global credential.helper store\n",
            "\n",
            "Read https://git-scm.com/book/en/v2/Git-Tools-Credential-Storage for more details.\u001b[0m\n",
            "Token has not been saved to git credential helper.\n",
            "Your token has been saved to /root/.cache/huggingface/token\n",
            "Login successful\n"
          ]
        }
      ]
    },
    {
      "cell_type": "markdown",
      "source": [
        "Importing all the necessary libraries"
      ],
      "metadata": {
        "id": "wJ3rcPohSakF"
      }
    },
    {
      "cell_type": "code",
      "source": [
        "import torch\n",
        "import transformers\n",
        "from transformers import AutoTokenizer\n",
        "from  langchain import LLMChain, HuggingFacePipeline, PromptTemplate"
      ],
      "metadata": {
        "id": "J7kQSU7oE2ce"
      },
      "execution_count": 8,
      "outputs": []
    },
    {
      "cell_type": "markdown",
      "source": [
        "We use Llama 2 as our base model and then get the tokenizer needed to tranform the text for the model we are using.\n",
        "An analogy: Think of it like translating the text into a language that Llama 2 speaks well.\n"
      ],
      "metadata": {
        "id": "gzyqU1-pROl_"
      }
    },
    {
      "cell_type": "code",
      "source": [
        "model = \"meta-llama/Llama-2-7b-chat-hf\"\n",
        "tokenizer = AutoTokenizer.from_pretrained(model)"
      ],
      "metadata": {
        "id": "5IkqttBZE3Ho",
        "colab": {
          "base_uri": "https://localhost:8080/",
          "height": 269,
          "referenced_widgets": [
            "83e93357781d4fb08e9b6dce74164445",
            "a7dbdf1d79724d3390180fd8839603ef",
            "bb4e7009ffa040f08d760959f8c64d6d",
            "c9b365ae5cc749b688a67a73900d5ff4",
            "c4e3ac676d694addbcbe7fa9ee937c73",
            "bdd6c971ad67450196dd5d255fac79f6",
            "58ed0837c1b845fb928e77aa3883e9a3",
            "0cd001f869ab49d8a21978ffefb7d426",
            "69bbdcbb787c4c79b71831f6b83974e8",
            "f3d08324819041bead3bfa817b000b75",
            "0eb76e0497b44efdad768cc89ad1c8b9",
            "41eab749489b4223a2721f9f55184413",
            "988dc15adf454e1e8abd3d8f2bd076b9",
            "0c5fc2d068a94f1aa2caad5faa4c9730",
            "7036585a250a4cbaa6341389699cb0ad",
            "cba83321b08a4da8867c723552bd87fb",
            "7df1a0bc4fb04b9380680cdc59283ad4",
            "a3d550a27c9a456cb11245f97608083b",
            "eea27c82c65f47a2a41c4177fc5fcc49",
            "62b43c75f27f49eea7b75e3745fc994a",
            "8513460f24c0478d96689ef7a68c6431",
            "05c48e5f4dff4b21975a98863aa6f61f",
            "ae536fd4bbb9488d9f07399f5a8030bb",
            "69f025dcdde34d8e9c62a1fc33d2676e",
            "e3affe21946544128343dbd2f6287c14",
            "82f18a3b7c334871a06b719bf240a878",
            "caa227825ff143ddbdc49b54d5348f25",
            "066e643b85bc4bfe88077967ce0b5875",
            "a9f08c10182e49d3b777d55745ef4575",
            "bc10d020bbed4ddab07afc22bc958aba",
            "75475d528d8e4ffdaf66df5d96aa4304",
            "6bd0e432f3b94f448515c94d1b1d7054",
            "abb05ee8b9c14ab6b52abcbe088b26d7",
            "3840a5701e66400d93198720459c4fc5",
            "46c1296b2a344d848778a381aa60187f",
            "7ae3051fc28246b0b42a45c21281a253",
            "c225dff6f03d4ddd899af0ed863888dd",
            "26e698a5f44340d0aff42570520bb420",
            "c4ef37ab965e4c1b88c356bccc55821c",
            "9ee3ea2946154a298e1b124832834a40",
            "4ac6dc0643ec44e0ae12395bbfefdbd8",
            "bb18bd35c23c4775820b9f13b2734f26",
            "59cfae9cef8545f6a208cf499b2633ce",
            "7b6c1ba42ad44d8eb3f56d09d7441cf9"
          ]
        },
        "outputId": "1018190e-c02d-4ba2-bcbd-b7dcff068c4d"
      },
      "execution_count": 9,
      "outputs": [
        {
          "output_type": "stream",
          "name": "stderr",
          "text": [
            "/usr/local/lib/python3.10/dist-packages/huggingface_hub/utils/_token.py:88: UserWarning: \n",
            "The secret `HF_TOKEN` does not exist in your Colab secrets.\n",
            "To authenticate with the Hugging Face Hub, create a token in your settings tab (https://huggingface.co/settings/tokens), set it as secret in your Google Colab and restart your session.\n",
            "You will be able to reuse this secret in all of your notebooks.\n",
            "Please note that authentication is recommended but still optional to access public models or datasets.\n",
            "  warnings.warn(\n"
          ]
        },
        {
          "output_type": "display_data",
          "data": {
            "text/plain": [
              "tokenizer_config.json:   0%|          | 0.00/1.62k [00:00<?, ?B/s]"
            ],
            "application/vnd.jupyter.widget-view+json": {
              "version_major": 2,
              "version_minor": 0,
              "model_id": "83e93357781d4fb08e9b6dce74164445"
            }
          },
          "metadata": {}
        },
        {
          "output_type": "display_data",
          "data": {
            "text/plain": [
              "tokenizer.model:   0%|          | 0.00/500k [00:00<?, ?B/s]"
            ],
            "application/vnd.jupyter.widget-view+json": {
              "version_major": 2,
              "version_minor": 0,
              "model_id": "41eab749489b4223a2721f9f55184413"
            }
          },
          "metadata": {}
        },
        {
          "output_type": "display_data",
          "data": {
            "text/plain": [
              "tokenizer.json:   0%|          | 0.00/1.84M [00:00<?, ?B/s]"
            ],
            "application/vnd.jupyter.widget-view+json": {
              "version_major": 2,
              "version_minor": 0,
              "model_id": "ae536fd4bbb9488d9f07399f5a8030bb"
            }
          },
          "metadata": {}
        },
        {
          "output_type": "display_data",
          "data": {
            "text/plain": [
              "special_tokens_map.json:   0%|          | 0.00/414 [00:00<?, ?B/s]"
            ],
            "application/vnd.jupyter.widget-view+json": {
              "version_major": 2,
              "version_minor": 0,
              "model_id": "3840a5701e66400d93198720459c4fc5"
            }
          },
          "metadata": {}
        }
      ]
    },
    {
      "cell_type": "markdown",
      "source": [
        "Using the 'tranformer.pipeline' function for creating a pipeline for text generation and setting all the parameters. (Taking max length as 10000 to handle large texts)"
      ],
      "metadata": {
        "id": "nUcxDSYhTHJ9"
      }
    },
    {
      "cell_type": "code",
      "source": [
        "pipeline = transformers.pipeline(\n",
        "    \"text-generation\",\n",
        "    model=model,\n",
        "    tokenizer=tokenizer,\n",
        "    torch_dtype=torch.bfloat16,\n",
        "    trust_remote_code=True,\n",
        "    max_length=10000,\n",
        "    device_map = 'auto',\n",
        "    do_sample=True,\n",
        "    top_k=10,\n",
        "    num_return_sequences=1,\n",
        "    eos_token_id=tokenizer.eos_token_id\n",
        ")"
      ],
      "metadata": {
        "id": "4BVNGhncE8MN",
        "colab": {
          "base_uri": "https://localhost:8080/",
          "height": 241,
          "referenced_widgets": [
            "8a18b92377ab4c5dad69a9242bbccc1f",
            "156845dc82fe43cda9f723e68edca0bf",
            "a0ea6708f116471889ab747f9d7f0416",
            "a205719d759b4028a99b78d9948ec34d",
            "dfc3d1cbc3f8444d890c4a1f1db9d2fc",
            "7348806a4a2c43d3986cb26cd1b5f397",
            "daa0e5faf9204106b089bf9c6c7ce592",
            "02eea0dfc968421a928d5cfcc888fc43",
            "564ae1ece8b54eb0ae6b066380f6d220",
            "fda7b7c4e95b4ca1a04245e842eb1008",
            "b6455d8773094f40bd6aa17b78261736",
            "daea0c3d09ed4ab28542858ba08f0008",
            "6f17eabec1d14f5e89f642a35dcdcc9d",
            "85b1024e65e04adab5ebb4a2b9bd5137",
            "5c7e7091d39b4ffdb5f6ae8b6dc25dae",
            "a6a7dd428ed34e9a8905d1d0f88ccfb6",
            "81ea6a4668974f1cb772fcdd187ab302",
            "e7b6e93ac4f8463abaab512a22e5b764",
            "0de6e7535cc1439db87bb1c6cdc8244c",
            "2d70150e2abb4bc0a6cb9208e8685238",
            "627ca490f21a42b38e528674c015a0b4",
            "224d8d14708f4d8aad0681e80249ee98",
            "e45d5992c1ee44079188fe151ba923df",
            "5ad43b01e7bb40fca812d7564250dee7",
            "c7c10e9cf2a04f2bb39fdbae1ccdf2f0",
            "7eedb7e478b94b00a0566375715a9153",
            "b10e18dfc69b4ec9818e8920c3ee0e56",
            "17409a5b9aca40c88b64a50f5e286966",
            "7b5767694c5048fea926bde1d3a2ee70",
            "4d28cfb5190344babf6a5e55fff3ac34",
            "63f019de746f4759a370986023bcd384",
            "1b442f19e825455195ef043e42bf920f",
            "8f0a3d8fd9364e6f938d7d3015b5189a",
            "c60d810c56fc4c048beb56172b586749",
            "d18cdfb2b68e44d392c806b55befeca2",
            "5cfb7fe22d5745fea51aef9a8740f192",
            "7aba88f2d01e485895e51aba3066ac6e",
            "d3caed9e0ad24c2e976cdfe909439c7e",
            "4392281cb3bd4f268c83176bd1b2c6ac",
            "b2e23a43ad7a4dc0af8568adc762886f",
            "45f9f32686564977b5cb2539abb3b2e4",
            "52f016c1a18e424cb133f8085fd0a5c4",
            "b0cc731506d24231aad32ff837872413",
            "a46843edce9a467bac0e0faf69c7efcb",
            "bbbfcea4e19e4b7fb449588cea42f6a0",
            "9aa536e9128b4994bca271c268c8c0a0",
            "570b90b88bbe45188b630affb0bb1229",
            "6cfeaa636d4246738ac2ab6b893a0ba8",
            "193c8042136a4cb481ee414ca50a46c1",
            "ad25a1e857cc446ba86f26c62aa90b54",
            "db36b98f35e34a0ab6ebdf87aa330bdb",
            "c0f73613bb6f49618a401d5c64b51de6",
            "17fa43f231254e05b76b14af43d4bbf4",
            "4b825e106c9f4a5d8aa8fb2d63a1ad33",
            "747df212a20f4c5893e08e2a1d717bce",
            "0fe8f97cc464402c9bb2d17201d741ab",
            "8f9c7165ee8b44c1b8b70d852da53ac0",
            "261ca1baa27e42ad8c350debb14b45e2",
            "18ee9a668fb245799c1ab8b61424d1eb",
            "42e3791b646b4b398bfb76ca656060d3",
            "4177eeb1a71147de89f2b94de578b8c1",
            "6e3039193b5349f3bd9ebddc65d43315",
            "8d2e73ea4ae04d3bb631e66847ea3a94",
            "10cc36aa88e7462c849a67a1ea64bc2b",
            "479cf0ca630b4b4d9716f0b3763e4d12",
            "0ffc4c4f9cce4a59bae878dca09ed9ad",
            "5157399347204e8499e3cf3bdd258d2b",
            "313283f7854c44ecb8efc7ecd0d55b38",
            "85bdf0a758a84ffcacb255db15360309",
            "65a75669888e42ce85aeb35d080b54bc",
            "48a7e139d52d439dbf839b08ab1ca5a7",
            "aebf66b8b2fc4682929b75595b662264",
            "7dc2d4129ace4cf882cb3fda541fad22",
            "486efc3ebe614ec09050a996c9d31e54",
            "0656a1cf52d94c3b9f727e4790028171",
            "c08597c03dcd47aab0395fec8c6af154",
            "e84e278bf13f4363818bfb8661cc9873"
          ]
        },
        "outputId": "d7693666-c9da-48fa-8a8c-c0448c052ed2"
      },
      "execution_count": 10,
      "outputs": [
        {
          "output_type": "display_data",
          "data": {
            "text/plain": [
              "config.json:   0%|          | 0.00/614 [00:00<?, ?B/s]"
            ],
            "application/vnd.jupyter.widget-view+json": {
              "version_major": 2,
              "version_minor": 0,
              "model_id": "8a18b92377ab4c5dad69a9242bbccc1f"
            }
          },
          "metadata": {}
        },
        {
          "output_type": "display_data",
          "data": {
            "text/plain": [
              "model.safetensors.index.json:   0%|          | 0.00/26.8k [00:00<?, ?B/s]"
            ],
            "application/vnd.jupyter.widget-view+json": {
              "version_major": 2,
              "version_minor": 0,
              "model_id": "daea0c3d09ed4ab28542858ba08f0008"
            }
          },
          "metadata": {}
        },
        {
          "output_type": "display_data",
          "data": {
            "text/plain": [
              "Downloading shards:   0%|          | 0/2 [00:00<?, ?it/s]"
            ],
            "application/vnd.jupyter.widget-view+json": {
              "version_major": 2,
              "version_minor": 0,
              "model_id": "e45d5992c1ee44079188fe151ba923df"
            }
          },
          "metadata": {}
        },
        {
          "output_type": "display_data",
          "data": {
            "text/plain": [
              "model-00001-of-00002.safetensors:   0%|          | 0.00/9.98G [00:00<?, ?B/s]"
            ],
            "application/vnd.jupyter.widget-view+json": {
              "version_major": 2,
              "version_minor": 0,
              "model_id": "c60d810c56fc4c048beb56172b586749"
            }
          },
          "metadata": {}
        },
        {
          "output_type": "display_data",
          "data": {
            "text/plain": [
              "model-00002-of-00002.safetensors:   0%|          | 0.00/3.50G [00:00<?, ?B/s]"
            ],
            "application/vnd.jupyter.widget-view+json": {
              "version_major": 2,
              "version_minor": 0,
              "model_id": "bbbfcea4e19e4b7fb449588cea42f6a0"
            }
          },
          "metadata": {}
        },
        {
          "output_type": "display_data",
          "data": {
            "text/plain": [
              "Loading checkpoint shards:   0%|          | 0/2 [00:00<?, ?it/s]"
            ],
            "application/vnd.jupyter.widget-view+json": {
              "version_major": 2,
              "version_minor": 0,
              "model_id": "0fe8f97cc464402c9bb2d17201d741ab"
            }
          },
          "metadata": {}
        },
        {
          "output_type": "display_data",
          "data": {
            "text/plain": [
              "generation_config.json:   0%|          | 0.00/188 [00:00<?, ?B/s]"
            ],
            "application/vnd.jupyter.widget-view+json": {
              "version_major": 2,
              "version_minor": 0,
              "model_id": "5157399347204e8499e3cf3bdd258d2b"
            }
          },
          "metadata": {}
        }
      ]
    },
    {
      "cell_type": "markdown",
      "source": [
        "Creating a HuggingFacePipeline by passing in the pipeline variable as its parameter created in the previous step. We need to create a hugging face pipeline in order to use models from HuggingFace's transformer library.\n",
        "\n",
        "Temperature is a parameter that controls the randomness of the sampling process in text generation. A value of 0 means that the model will always choose the most probable token at each step, resulting in deterministic text generation."
      ],
      "metadata": {
        "id": "iFUJIiqqU9D9"
      }
    },
    {
      "cell_type": "code",
      "source": [
        "llm = HuggingFacePipeline(pipeline = pipeline, model_kwargs = {'temperature':0})"
      ],
      "metadata": {
        "id": "AN-0dFLuIHwG"
      },
      "execution_count": 11,
      "outputs": []
    },
    {
      "cell_type": "markdown",
      "source": [
        "Defining the prompt template for the model"
      ],
      "metadata": {
        "id": "Yug4aSrbYJaO"
      }
    },
    {
      "cell_type": "code",
      "source": [
        "template = \"\"\"\n",
        "              Write a detailed summary of the following text delimited by triple backticks,\n",
        "              please ensure that the summary captures the main ideas, arguments, and findings presented in the text. As the text is lengthy and will be processed in batches, the summary should seamlessly integrate information from all batches to provide a cohesive summary of the entire content.\n",
        "              ```{text}```\n",
        "              SUMMARY:\n",
        "           \"\"\""
      ],
      "metadata": {
        "id": "nqOyw22-IMC5"
      },
      "execution_count": 12,
      "outputs": []
    },
    {
      "cell_type": "markdown",
      "source": [
        "creating a prompt using the 'PromptTemplate' that is used used to create a template for prompting the language model.\n",
        "\n",
        "LLMChain : Chain to run queries against LLMs, which takes promt and the the pipileine we created for text generation using Llama2 as input"
      ],
      "metadata": {
        "id": "2z3p4pNPZZvW"
      }
    },
    {
      "cell_type": "code",
      "source": [
        "prompt = PromptTemplate(template=template, input_variables=[\"text\"])\n",
        "llm_chain = LLMChain(prompt=prompt, llm=llm)"
      ],
      "metadata": {
        "id": "GLSNKD-TIMz_"
      },
      "execution_count": 13,
      "outputs": []
    },
    {
      "cell_type": "code",
      "source": [
        "pip install pypdf"
      ],
      "metadata": {
        "colab": {
          "base_uri": "https://localhost:8080/"
        },
        "id": "RE6UWqZyIy7R",
        "outputId": "e9b72e74-3986-4b48-e6e4-fa0cdf59ec73"
      },
      "execution_count": 14,
      "outputs": [
        {
          "output_type": "stream",
          "name": "stdout",
          "text": [
            "Collecting pypdf\n",
            "  Downloading pypdf-4.2.0-py3-none-any.whl (290 kB)\n",
            "\u001b[2K     \u001b[90m━━━━━━━━━━━━━━━━━━━━━━━━━━━━━━━━━━━━━━━━\u001b[0m \u001b[32m290.4/290.4 kB\u001b[0m \u001b[31m1.9 MB/s\u001b[0m eta \u001b[36m0:00:00\u001b[0m\n",
            "\u001b[?25hRequirement already satisfied: typing_extensions>=4.0 in /usr/local/lib/python3.10/dist-packages (from pypdf) (4.11.0)\n",
            "Installing collected packages: pypdf\n",
            "Successfully installed pypdf-4.2.0\n"
          ]
        }
      ]
    },
    {
      "cell_type": "code",
      "source": [
        "# importing required modules\n",
        "from pypdf import PdfReader\n",
        "\n",
        "# creating a pdf reader object\n",
        "reader = PdfReader('flairs-36-140.pdf')"
      ],
      "metadata": {
        "id": "MEajFpg_I5Ky"
      },
      "execution_count": 15,
      "outputs": []
    },
    {
      "cell_type": "markdown",
      "source": [
        "Extracting the text from the pdf"
      ],
      "metadata": {
        "id": "skey9PnjdNt1"
      }
    },
    {
      "cell_type": "code",
      "source": [
        "text = ''\n",
        "for i in range(len(reader.pages)):\n",
        "    page = reader.pages[i]\n",
        "    text_temp = page.extract_text()\n",
        "    text = text + \"\\n\" + text_temp"
      ],
      "metadata": {
        "id": "r4hB-cN0JBkV"
      },
      "execution_count": 95,
      "outputs": []
    },
    {
      "cell_type": "code",
      "source": [
        "len(text)"
      ],
      "metadata": {
        "colab": {
          "base_uri": "https://localhost:8080/"
        },
        "id": "3UGOZ_og7vw3",
        "outputId": "aab674b5-4161-4c78-e974-dd709dd19e54"
      },
      "execution_count": 96,
      "outputs": [
        {
          "output_type": "execute_result",
          "data": {
            "text/plain": [
              "13768"
            ]
          },
          "metadata": {},
          "execution_count": 96
        }
      ]
    },
    {
      "cell_type": "markdown",
      "source": [
        "Removing the reference section from the text"
      ],
      "metadata": {
        "id": "j_naqojZdZ_Z"
      }
    },
    {
      "cell_type": "code",
      "source": [
        "def remove_references(text):\n",
        "    common_patterns = [\"References\"]\n",
        "\n",
        "    # Find the index of the earliest occurrence of the common pattern\n",
        "    start_index = len(text)\n",
        "    for pattern in common_patterns:\n",
        "        index = text.find(pattern)\n",
        "        if index != -1 and index < start_index:\n",
        "            start_index = index\n",
        "\n",
        "    # Remove everything after the start of the references section\n",
        "    if start_index < len(text):\n",
        "        text = text[:start_index]\n",
        "\n",
        "    return text\n",
        "\n",
        "# Remove the references section\n",
        "cleaned_text = remove_references(text)\n",
        "print(cleaned_text)\n"
      ],
      "metadata": {
        "colab": {
          "base_uri": "https://localhost:8080/"
        },
        "id": "NlMKJwhVcrhO",
        "outputId": "a2b38b6f-6574-4085-8f0a-29307bf87080"
      },
      "execution_count": 17,
      "outputs": [
        {
          "output_type": "stream",
          "name": "stdout",
          "text": [
            "\n",
            "A Survey on Sentiment Classification Methods and Challenges\n",
            "Neda Keivandarian, Marco Carvalho\n",
            "Dept. of Engineering and Sciences Florida Institute of Technology\n",
            "Melbourne, USA\n",
            "nkeivandaria2020@my.fit.edu, mcarvalho@fit.edu\n",
            "Abstract\n",
            "Sentiment classification (SC) is an important natural\n",
            "language processing (NLP) task that aims to determine\n",
            "the sentiment or emotional tone in a given text. With\n",
            "the increasing pervasiveness of internet-based applica-\n",
            "tions and social media, massive amounts of unstructured\n",
            "data are generated daily, elevating the opportunity and\n",
            "challenges associated with automated sentiment extrac-\n",
            "tion for tasks such as customer feedback analysis, social\n",
            "media monitoring, and opinion mining. In this review\n",
            "paper, we provide an update on the state of the art in\n",
            "sentiment analysis, including an overview of and classi-\n",
            "fication methods leveraging machine learning and deep\n",
            "learning methods.\n",
            "Keywords —Sentiment classification, Machine learn-\n",
            "ing, Survey, Text pre-processing\n",
            "Introduction\n",
            "The number of users actively involved in social media has\n",
            "increased rapidly and millions of people express their sen-\n",
            "timents regarding any fields that affect companies, gov-\n",
            "ernments, and organizations. Therefore, SC is necessary to\n",
            "quantify the opinion of texts such as reviews, feedback, and\n",
            "news articles by involving statistical, machine learning, and\n",
            "deep learning techniques to classify the sentiments of the\n",
            "text. Most of the surveys have concentrated specific areas\n",
            "in SC like Deep learning-based SC (Bhatia, Ji, and Eisen-\n",
            "stein 2015), Gated recurrent Neural Networks (Yang et al.\n",
            "2016), different languages and genres in sentiment analysis\n",
            "(Yang and Cardie 2014), and emotion detection from text\n",
            "(Behdenna, Barigou, and Belalem 2018a). Different from\n",
            "these surveys, the point of this paper is to cover substan-\n",
            "tial and widespread approaches that are presented recently\n",
            "in the field of SC.\n",
            "Sentiment Analysis Levels\n",
            "Document Level sentiment classification\n",
            "Document-level SC is assigned a sentiment label such as\n",
            "positive, negative, or neutral on a whole document. It can be\n",
            "used to classify the words and phrases of pages or chapters\n",
            "of a book by considering both supervised and unsupervised\n",
            "Copyright © 2023 by the authors. All rights reserved.learning approaches to classify the document (Bhatia, Ji, and\n",
            "Eisenstein 2015). TOPICDOC2VEC a new topic-document\n",
            "embedding outperforms the DOC2VEC embedding to gain\n",
            "the polarity of a document by using CBOW, SkipGram,\n",
            "Word2Vec, GloVe and FastText(Mitroi et al. 2020).\n",
            "Sentence Level sentiment classification\n",
            "When a document has a wide range of sentiments associated\n",
            "with it, the document-level classification is complicated,so,\n",
            "sentence-level will be considered independently (Rao et al.\n",
            "2018). Hence at this level, sentences are classified into ob-\n",
            "jective and subjective sentences. (Behdenna, Barigou, and\n",
            "Belalem 2018b).\n",
            "Aspect-Level sentiment classification\n",
            "Aspect-level SC is performed fine-grained analysis and it\n",
            "is called feature-entity-based sentiment classification. This\n",
            "task includes the relation of features or aspects in a sentence,\n",
            "then categorizing the features by 3-way decision model (Yao\n",
            "2009) as positive, negative, or neutral (Chen et al. 2022).\n",
            "Data Collection and Feature Extraction\n",
            "The process of sentiment classification involves multiple\n",
            "tasks in Fig1, including data collection, pre-processing, fea-\n",
            "ture selection and extraction, model development, and eval-\n",
            "uation. In the data collection stage, text data can be collected\n",
            "and combined with other types of data. The raw form of\n",
            "text data needs to be pre-processed to remove noise, clean,\n",
            "and reduce dimensionality to improve the accuracy and ef-\n",
            "ficiency of the classification model (Zhang and Liu 2012).\n",
            "There are several tools and libraries available for NLP tasks,\n",
            "including tokenization, normalization, removing stop words,\n",
            "part of speech tagging, and stemming and lemmatization.\n",
            "Feature selection involves selecting the most appropriate in-\n",
            "put variables to increase the accuracy of sentiment classi-\n",
            "fication models, and there are three supervised feature se-\n",
            "lection models: filter methods, wrapper methods, and in-\n",
            "trinsic methods. Feature extraction involves converting raw\n",
            "text data into numerical representations, and common tech-\n",
            "niques for feature extraction in NLP include Bag of Words\n",
            "(BoW)(Bandhakavi et al. 2017), N-gram, TF-IDF (Ahuja et\n",
            "al. 2019), and neural network-based word embedding meth-\n",
            "ods like Word2Vec, GloVe, and BERT.\n",
            "Figure 1: Step-by-step sentiment classification process\n",
            "Methodology\n",
            "Machine Learning-based Approach\n",
            "Sentiment classification in machine learning involves divid-\n",
            "ing a text dataset into training and testing sets, training a\n",
            "model on a labeled dataset, and predicting labels for new in-\n",
            "stances. Naive Bayes is a commonly used algorithm for sen-\n",
            "timent classification that assumes feature independence. It\n",
            "is suitable for high-dimensional inputs and has been shown\n",
            "to improve accuracy on the FakeNews dataset in (Adiba\n",
            "et al. 2020). Support Vector Machine (SVM) is a non-\n",
            "probabilistic supervised learning algorithm used for classifi-\n",
            "cation and regression to find the best decision boundary that\n",
            "separates data points into different classes. In (KESHTKAR\n",
            "and INKPEN 2012) the method described in this source is a\n",
            "hierarchy-based mood classification for blogs that uses sen-\n",
            "timent orientation features. The classification is based on the\n",
            "number of positive and negative words in blog posts, and a\n",
            "support vector machine (SVM) is used for classification. The\n",
            "approach outperforms flat classification. Decision Tree(DT)\n",
            "recursively divides text data based on their features until all\n",
            "data is classified to the same class. Random Forest improves\n",
            "accuracy by combining multiple DTs. Logistic Regression\n",
            "predicts one of two classes by multiplying input value with\n",
            "a weight value and achieved highest accuracy in (Shah et al.\n",
            "2020) with considering TF-IDF vectorizer. Maximum En-\n",
            "tropy(ME) is a probabilistic exponential classifier that se-\n",
            "lects the most likely label for a feature set and, combined\n",
            "with PLSA, extracts emotion words for input into the model.\n",
            "K-fold is used to divide the training and test sets (Xie et al.\n",
            "2019).\n",
            "Deep Learning-Based Approach\n",
            "Deep learning methods are popular for SC due to their\n",
            "high performance and automated feature extraction. CNNs,\n",
            "RNNs (including GRU and LSTM), Recursive Neural Net-\n",
            "works, Transformer Networks, and Language Models are\n",
            "commonly used in NLP tasks. CNNs are used for one-\n",
            "dimensional convolution by converting text to vectors.\n",
            "RNNs process sequential data and overcome the vanishing\n",
            "gradient problem faced by traditional RNNs with GRU and\n",
            "LSTM architectures (Sherstinsky 2020). Recursive Neural\n",
            "Networks are designed to learn tree structures. A Bidirec-\n",
            "tional Gated Temporal Convolution Attention model was\n",
            "presented in (Ren et al. 2021) to improve temporal feature\n",
            "extraction.Aspect Based Sentiment Analysis\n",
            "Aspect-based sentiment analysis (ABSA) aims to identify\n",
            "the sentiment expressed towards a particular aspect in a text.\n",
            "Aspect extraction is a crucial stage in ABSA, which can be\n",
            "explicit or implicit, depending on whether the aspect term is\n",
            "explicitly mentioned or inferred from the context (Maitama\n",
            "et al. 2020). Pre-trained models like GPT-2 and BERT can\n",
            "be used to classify the corresponding sentiment in ABSA,\n",
            "given the challenges of aspect extraction.\n",
            "Transfer Learning\n",
            "The challenge of extracting valuable information from text\n",
            "data can be solved by transfer learning, which applies\n",
            "knowledge from a source task to a similar target task. Pre-\n",
            "trained models like Open AI GPT (Radford et al. 2018),\n",
            "BERT (Devlin et al. 2018), and ELMo (Peters et al. 2018)\n",
            "are popular choices for transfer learning, providing accurate\n",
            "results with less training time (Alyafeai, AlShaibani, and\n",
            "Ahmad 2020). ELMo creates context-dependent word em-\n",
            "beddings from a bidirectional language model, while GPT\n",
            "uses a multi-layer transformer decoder and fine-tuning, and\n",
            "BERT jointly conditions left and right context in all lay-\n",
            "ers. ELMo is semi-bidirectional, GPT is unidirectional, and\n",
            "BERT is bi-directional.\n",
            "Challenges\n",
            "The increasing amount of text data in the internet era poses\n",
            "challenges for SC, including irony, sarcasm, slang, and sub-\n",
            "jective emotional intensity. Unstructured data from social\n",
            "media posts, reviews, and emails also contain noise and ir-\n",
            "relevant information. (Khalid et al. 2020) A voting classifier\n",
            "gradient boosted SVM has been proposed to tackle this chal-\n",
            "lenge by considering different datasets with term frequency\n",
            "and TF-IDF. Adversarial attacks is another challenge in SC\n",
            "that can manipulate the output of the classifier.\n",
            "Conclusion\n",
            "This review paper discusses different techniques for SC, data\n",
            "preparation, and classification methods. Machine learning\n",
            "methods such as SVM, RF and Naive Bayes are effective\n",
            "for SC, but deep learning approaches like LSTM and Bert\n",
            "are preferred due to their ability to handle complex prob-\n",
            "lems with large datasets. SC is still an unexplored area of\n",
            "study and we will expanding the comparison of deep learn-\n",
            "ing methods in future work.\n",
            "\n"
          ]
        }
      ]
    },
    {
      "cell_type": "code",
      "source": [
        "import gc\n",
        "gc.collect()\n",
        "torch.cuda.empty_cache()"
      ],
      "metadata": {
        "id": "I_srMd4OLSZs"
      },
      "execution_count": 18,
      "outputs": []
    },
    {
      "cell_type": "code",
      "source": [
        "import os\n",
        "os.environ['CUDA_VISIBLE_DEVICES'] = '2, 3'"
      ],
      "metadata": {
        "id": "jfXJBFh5LmYG"
      },
      "execution_count": 19,
      "outputs": []
    },
    {
      "cell_type": "code",
      "source": [
        "import nltk\n",
        "nltk.download('punkt')\n",
        "\n",
        "def get_segments(text):\n",
        "  sentences = nltk.sent_tokenize(text)\n",
        "  return sentences\n"
      ],
      "metadata": {
        "colab": {
          "base_uri": "https://localhost:8080/"
        },
        "id": "4idg9nvCL-PU",
        "outputId": "6e200129-92fb-4e3b-d1f2-ab034fa90e0c"
      },
      "execution_count": 20,
      "outputs": [
        {
          "output_type": "stream",
          "name": "stderr",
          "text": [
            "[nltk_data] Downloading package punkt to /root/nltk_data...\n",
            "[nltk_data]   Package punkt is already up-to-date!\n"
          ]
        }
      ]
    },
    {
      "cell_type": "markdown",
      "source": [
        "Dividing the text into batches, due to memory errors."
      ],
      "metadata": {
        "id": "XjhUv1-d0BmI"
      }
    },
    {
      "cell_type": "code",
      "source": [
        "def divide_into_batches(text,batch_size):\n",
        "  segments = get_segments(text)\n",
        "\n",
        "  batches = []\n",
        "  current_batch = []\n",
        "\n",
        "  for segment in segments:\n",
        "\n",
        "    if len(\" \".join(current_batch)) + len(segment) > batch_size:\n",
        "      batches.append(current_batch)\n",
        "      current_batch = []\n",
        "\n",
        "    current_batch.append(segment)\n",
        "\n",
        "\n",
        "  if current_batch:\n",
        "    batches.append(current_batch)\n",
        "\n",
        "  return batches\n",
        "\n",
        "def summarize_batches(batches):\n",
        "  summaries = []\n",
        "\n",
        "  for batch in batches:\n",
        "    batch_text = \" \".join(batch)\n",
        "\n",
        "    summary = llm_chain.run(batch_text)\n",
        "\n",
        "    summaries.append(summary)\n",
        "\n",
        "  return summaries\n"
      ],
      "metadata": {
        "id": "FGZsyrpaOHfI"
      },
      "execution_count": 21,
      "outputs": []
    },
    {
      "cell_type": "code",
      "source": [
        "batch_size = 3500\n",
        "batches = divide_into_batches(cleaned_text, batch_size) # cleaned text - without references\n",
        "summaries = summarize_batches(batches)"
      ],
      "metadata": {
        "id": "VA7CsgqHQZhX",
        "colab": {
          "base_uri": "https://localhost:8080/"
        },
        "outputId": "23fcaedf-facf-4934-89f5-02162014c79a"
      },
      "execution_count": 22,
      "outputs": [
        {
          "output_type": "stream",
          "name": "stderr",
          "text": [
            "/usr/local/lib/python3.10/dist-packages/langchain_core/_api/deprecation.py:119: LangChainDeprecationWarning: The method `Chain.run` was deprecated in langchain 0.1.0 and will be removed in 0.2.0. Use invoke instead.\n",
            "  warn_deprecated(\n"
          ]
        }
      ]
    },
    {
      "cell_type": "code",
      "source": [
        "len(summaries)"
      ],
      "metadata": {
        "colab": {
          "base_uri": "https://localhost:8080/"
        },
        "id": "ccWgJ02cRfUj",
        "outputId": "62cc3546-b230-4153-a2fd-90b19917d0ec"
      },
      "execution_count": 23,
      "outputs": [
        {
          "output_type": "execute_result",
          "data": {
            "text/plain": [
              "3"
            ]
          },
          "metadata": {},
          "execution_count": 23
        }
      ]
    },
    {
      "cell_type": "code",
      "source": [
        "# import re\n",
        "\n",
        "# # Given string\n",
        "# text = '''\\n              Write a detailed summary of the following text delimited by triple backticks.\\n              Return your response which covers the key points of the text.\\n              ```\\nA Survey on Sentiment Classification Methods and Challenges\\nNeda Keivandarian, Marco Carvalho\\nDept. of Engineering and Sciences Florida Institute of Technology\\nMelbourne, USA\\nnkeivandaria2020@my.fit.edu, mcarvalho@fit.edu\\nAbstract\\nSentiment classification (SC) is an important natural\\nlanguage processing (NLP) task that aims to determine\\nthe sentiment or emotional tone in a given text. With\\nthe increasing pervasiveness of internet-based applica-\\ntions and social media, massive amounts of unstructured\\ndata are generated daily, elevating the opportunity and\\nchallenges associated with automated sentiment extrac-\\ntion for tasks such as customer feedback analysis, social\\nmedia monitoring, and opinion mining. In this review\\npaper, we provide an update on the state of the art in\\nsentiment analysis, including an overview of and classi-\\nfication methods leveraging machine learning and deep\\nlearning methods.```\\n              SUMMARY:\\n            This paper provides an overview of the current state of sentiment classification (SC) in natural language processing (NLP). The authors discuss the increasing pervasiveness of internet-based applications and social media, which has led to a massive amount of unstructured data being generated daily. They highlight the opportunities and challenges associated with automated sentiment extraction, including customer feedback analysis, social media monitoring, and opinion mining. The authors then provide an overview of and classification methods leveraging machine learning and deep learning methods. They also discuss the challenges associated with sentiment classification, including the lack of annotated datasets, the complexity of natural language, and the need for better interpretability of machine learning models. The authors conclude by highlighting the need for further research in this area to improve the accuracy and interpretability of sentiment classification models.'''\n",
        "\n",
        "# # Regular expression pattern to match text after \"SUMMARY:\"\n",
        "# pattern = r'SUMMARY:(.*)'\n",
        "\n",
        "# # Extract text after \"SUMMARY:\"\n",
        "# match = re.search(pattern, text, re.DOTALL)\n",
        "# if match:\n",
        "#     summary = match.group(1).strip()\n",
        "#     print(summary)\n",
        "# else:\n",
        "#     print(\"No summary found\")\n"
      ],
      "metadata": {
        "id": "YqhGCCwTSh4w"
      },
      "execution_count": 24,
      "outputs": []
    },
    {
      "cell_type": "code",
      "source": [
        "import re\n",
        "\n",
        "def extract_summary(text):\n",
        "\n",
        "    # Regular expression pattern to match text after \"SUMMARY:\"\n",
        "  pattern = r'SUMMARY:(.*)'\n",
        "\n",
        "    # Extract text after \"SUMMARY:\"\n",
        "  match = re.search(pattern, text, re.DOTALL)\n",
        "  if match:\n",
        "      return match.group(1).strip()\n",
        "  else:\n",
        "      return \"No summary found\"\n",
        "\n",
        "\n",
        "final_summary = []\n",
        "# Apply function to each string in the list\n",
        "for text in summaries:\n",
        "  # print(text)\n",
        "  summary = extract_summary(text)\n",
        "  final_summary.append(summary)\n"
      ],
      "metadata": {
        "id": "r8aRCBimSx1w"
      },
      "execution_count": 25,
      "outputs": []
    },
    {
      "cell_type": "code",
      "source": [
        "final_summary"
      ],
      "metadata": {
        "colab": {
          "base_uri": "https://localhost:8080/"
        },
        "id": "FqISVEONrzRS",
        "outputId": "a407feb9-12a2-448a-be2a-9d7d4e620ada"
      },
      "execution_count": 26,
      "outputs": [
        {
          "output_type": "execute_result",
          "data": {
            "text/plain": [
              "['The article \"A Survey on Sentiment Classification Methods and Challenges\" discusses the current state of sentiment classification, including machine learning and deep learning approaches. The authors provide an overview of various methods for sentiment classification at different levels, including document, sentence, and aspect levels. They also highlight the challenges associated with sentiment classification, such as dealing with imbalanced datasets and handling sarcasm and irony. The authors emphasize the need for further research in this field to improve the accuracy of sentiment classification models.',\n",
              " 'The article discusses various approaches to sentiment classification, including machine learning and deep learning methods. The authors highlight the importance of pre-processing raw text data to remove noise and improve accuracy. They also discuss various techniques for feature extraction, including tokenization, normalization, stop word removal, part of speech tagging, and stemming/lemmatization. The article also provides an overview of various supervised feature selection models, including filter methods, wrapper methods, and intrinsic methods. Additionally, the authors discuss the use of deep learning methods, such as Convolutional Neural Networks (CNNs), Recurrent Neural Networks (RNNs), and Transformer Networks, for sentiment classification. The article concludes by highlighting the importance of selecting the most appropriate input variables and using appropriate feature extraction techniques to improve accuracy.',\n",
              " 'The article discusses the challenges and solutions for sentiment analysis, specifically aspect-based sentiment analysis (ABSA). The authors highlight the importance of aspect extraction in ABSA and propose transfer learning as a solution to improve the accuracy of sentiment classification. They also address the challenges of dealing with unstructured data, including irony, sarcasm, slang, and subjective emotional intensity, and propose a voting classifier gradient boosted SVM as a solution. Additionally, the authors mention the potential for adversarial attacks to manipulate the output of the classifier. The article concludes by discussing the effectiveness of machine learning methods, including support vector machines (SVM), random forests (RF), and naive Bayes, but also highlights the preference for deep learning approaches, such as long short-term memory (LSTM) and BERT, due to their ability to handle complex problems with large datasets.']"
            ]
          },
          "metadata": {},
          "execution_count": 26
        }
      ]
    },
    {
      "cell_type": "code",
      "source": [
        "combined_summary = \" \".join(final_summary)"
      ],
      "metadata": {
        "id": "6abSfggosRwv"
      },
      "execution_count": 27,
      "outputs": []
    },
    {
      "cell_type": "code",
      "source": [
        "combined_summary"
      ],
      "metadata": {
        "colab": {
          "base_uri": "https://localhost:8080/",
          "height": 313
        },
        "id": "xr67Ri3IsY6N",
        "outputId": "0564c538-bece-406e-c5c5-e4bd7b27546b"
      },
      "execution_count": 28,
      "outputs": [
        {
          "output_type": "execute_result",
          "data": {
            "text/plain": [
              "'The article \"A Survey on Sentiment Classification Methods and Challenges\" discusses the current state of sentiment classification, including machine learning and deep learning approaches. The authors provide an overview of various methods for sentiment classification at different levels, including document, sentence, and aspect levels. They also highlight the challenges associated with sentiment classification, such as dealing with imbalanced datasets and handling sarcasm and irony. The authors emphasize the need for further research in this field to improve the accuracy of sentiment classification models. The article discusses various approaches to sentiment classification, including machine learning and deep learning methods. The authors highlight the importance of pre-processing raw text data to remove noise and improve accuracy. They also discuss various techniques for feature extraction, including tokenization, normalization, stop word removal, part of speech tagging, and stemming/lemmatization. The article also provides an overview of various supervised feature selection models, including filter methods, wrapper methods, and intrinsic methods. Additionally, the authors discuss the use of deep learning methods, such as Convolutional Neural Networks (CNNs), Recurrent Neural Networks (RNNs), and Transformer Networks, for sentiment classification. The article concludes by highlighting the importance of selecting the most appropriate input variables and using appropriate feature extraction techniques to improve accuracy. The article discusses the challenges and solutions for sentiment analysis, specifically aspect-based sentiment analysis (ABSA). The authors highlight the importance of aspect extraction in ABSA and propose transfer learning as a solution to improve the accuracy of sentiment classification. They also address the challenges of dealing with unstructured data, including irony, sarcasm, slang, and subjective emotional intensity, and propose a voting classifier gradient boosted SVM as a solution. Additionally, the authors mention the potential for adversarial attacks to manipulate the output of the classifier. The article concludes by discussing the effectiveness of machine learning methods, including support vector machines (SVM), random forests (RF), and naive Bayes, but also highlights the preference for deep learning approaches, such as long short-term memory (LSTM) and BERT, due to their ability to handle complex problems with large datasets.'"
            ],
            "application/vnd.google.colaboratory.intrinsic+json": {
              "type": "string"
            }
          },
          "metadata": {},
          "execution_count": 28
        }
      ]
    },
    {
      "cell_type": "code",
      "source": [
        "!pip install evaluate"
      ],
      "metadata": {
        "id": "fPtKmiueg_vZ",
        "colab": {
          "base_uri": "https://localhost:8080/",
          "height": 1000
        },
        "outputId": "623ccaf5-e49c-44b4-a125-ca165a7033b9"
      },
      "execution_count": 29,
      "outputs": [
        {
          "output_type": "stream",
          "name": "stdout",
          "text": [
            "Collecting evaluate\n",
            "  Downloading evaluate-0.4.1-py3-none-any.whl (84 kB)\n",
            "\u001b[2K     \u001b[90m━━━━━━━━━━━━━━━━━━━━━━━━━━━━━━━━━━━━━━━━\u001b[0m \u001b[32m84.1/84.1 kB\u001b[0m \u001b[31m1.2 MB/s\u001b[0m eta \u001b[36m0:00:00\u001b[0m\n",
            "\u001b[?25hCollecting datasets>=2.0.0 (from evaluate)\n",
            "  Downloading datasets-2.19.0-py3-none-any.whl (542 kB)\n",
            "\u001b[2K     \u001b[90m━━━━━━━━━━━━━━━━━━━━━━━━━━━━━━━━━━━━━━━━\u001b[0m \u001b[32m542.0/542.0 kB\u001b[0m \u001b[31m6.3 MB/s\u001b[0m eta \u001b[36m0:00:00\u001b[0m\n",
            "\u001b[?25hRequirement already satisfied: numpy>=1.17 in /usr/local/lib/python3.10/dist-packages (from evaluate) (1.25.2)\n",
            "Collecting dill (from evaluate)\n",
            "  Downloading dill-0.3.8-py3-none-any.whl (116 kB)\n",
            "\u001b[2K     \u001b[90m━━━━━━━━━━━━━━━━━━━━━━━━━━━━━━━━━━━━━━━━\u001b[0m \u001b[32m116.3/116.3 kB\u001b[0m \u001b[31m15.5 MB/s\u001b[0m eta \u001b[36m0:00:00\u001b[0m\n",
            "\u001b[?25hRequirement already satisfied: pandas in /usr/local/lib/python3.10/dist-packages (from evaluate) (2.0.3)\n",
            "Requirement already satisfied: requests>=2.19.0 in /usr/local/lib/python3.10/dist-packages (from evaluate) (2.31.0)\n",
            "Requirement already satisfied: tqdm>=4.62.1 in /usr/local/lib/python3.10/dist-packages (from evaluate) (4.66.2)\n",
            "Collecting xxhash (from evaluate)\n",
            "  Downloading xxhash-3.4.1-cp310-cp310-manylinux_2_17_x86_64.manylinux2014_x86_64.whl (194 kB)\n",
            "\u001b[2K     \u001b[90m━━━━━━━━━━━━━━━━━━━━━━━━━━━━━━━━━━━━━━━━\u001b[0m \u001b[32m194.1/194.1 kB\u001b[0m \u001b[31m4.8 MB/s\u001b[0m eta \u001b[36m0:00:00\u001b[0m\n",
            "\u001b[?25hCollecting multiprocess (from evaluate)\n",
            "  Downloading multiprocess-0.70.16-py310-none-any.whl (134 kB)\n",
            "\u001b[2K     \u001b[90m━━━━━━━━━━━━━━━━━━━━━━━━━━━━━━━━━━━━━━━━\u001b[0m \u001b[32m134.8/134.8 kB\u001b[0m \u001b[31m12.0 MB/s\u001b[0m eta \u001b[36m0:00:00\u001b[0m\n",
            "\u001b[?25hRequirement already satisfied: fsspec[http]>=2021.05.0 in /usr/local/lib/python3.10/dist-packages (from evaluate) (2023.6.0)\n",
            "Requirement already satisfied: huggingface-hub>=0.7.0 in /usr/local/lib/python3.10/dist-packages (from evaluate) (0.20.3)\n",
            "Requirement already satisfied: packaging in /usr/local/lib/python3.10/dist-packages (from evaluate) (23.2)\n",
            "Collecting responses<0.19 (from evaluate)\n",
            "  Downloading responses-0.18.0-py3-none-any.whl (38 kB)\n",
            "Requirement already satisfied: filelock in /usr/local/lib/python3.10/dist-packages (from datasets>=2.0.0->evaluate) (3.13.4)\n",
            "Requirement already satisfied: pyarrow>=12.0.0 in /usr/local/lib/python3.10/dist-packages (from datasets>=2.0.0->evaluate) (14.0.2)\n",
            "Requirement already satisfied: pyarrow-hotfix in /usr/local/lib/python3.10/dist-packages (from datasets>=2.0.0->evaluate) (0.6)\n",
            "Requirement already satisfied: aiohttp in /usr/local/lib/python3.10/dist-packages (from datasets>=2.0.0->evaluate) (3.9.5)\n",
            "Collecting huggingface-hub>=0.7.0 (from evaluate)\n",
            "  Downloading huggingface_hub-0.22.2-py3-none-any.whl (388 kB)\n",
            "\u001b[2K     \u001b[90m━━━━━━━━━━━━━━━━━━━━━━━━━━━━━━━━━━━━━━━━\u001b[0m \u001b[32m388.9/388.9 kB\u001b[0m \u001b[31m13.7 MB/s\u001b[0m eta \u001b[36m0:00:00\u001b[0m\n",
            "\u001b[?25hRequirement already satisfied: pyyaml>=5.1 in /usr/local/lib/python3.10/dist-packages (from datasets>=2.0.0->evaluate) (6.0.1)\n",
            "Requirement already satisfied: typing-extensions>=3.7.4.3 in /usr/local/lib/python3.10/dist-packages (from huggingface-hub>=0.7.0->evaluate) (4.11.0)\n",
            "Requirement already satisfied: charset-normalizer<4,>=2 in /usr/local/lib/python3.10/dist-packages (from requests>=2.19.0->evaluate) (3.3.2)\n",
            "Requirement already satisfied: idna<4,>=2.5 in /usr/local/lib/python3.10/dist-packages (from requests>=2.19.0->evaluate) (3.7)\n",
            "Requirement already satisfied: urllib3<3,>=1.21.1 in /usr/local/lib/python3.10/dist-packages (from requests>=2.19.0->evaluate) (2.0.7)\n",
            "Requirement already satisfied: certifi>=2017.4.17 in /usr/local/lib/python3.10/dist-packages (from requests>=2.19.0->evaluate) (2024.2.2)\n",
            "Requirement already satisfied: python-dateutil>=2.8.2 in /usr/local/lib/python3.10/dist-packages (from pandas->evaluate) (2.8.2)\n",
            "Requirement already satisfied: pytz>=2020.1 in /usr/local/lib/python3.10/dist-packages (from pandas->evaluate) (2023.4)\n",
            "Requirement already satisfied: tzdata>=2022.1 in /usr/local/lib/python3.10/dist-packages (from pandas->evaluate) (2024.1)\n",
            "Requirement already satisfied: aiosignal>=1.1.2 in /usr/local/lib/python3.10/dist-packages (from aiohttp->datasets>=2.0.0->evaluate) (1.3.1)\n",
            "Requirement already satisfied: attrs>=17.3.0 in /usr/local/lib/python3.10/dist-packages (from aiohttp->datasets>=2.0.0->evaluate) (23.2.0)\n",
            "Requirement already satisfied: frozenlist>=1.1.1 in /usr/local/lib/python3.10/dist-packages (from aiohttp->datasets>=2.0.0->evaluate) (1.4.1)\n",
            "Requirement already satisfied: multidict<7.0,>=4.5 in /usr/local/lib/python3.10/dist-packages (from aiohttp->datasets>=2.0.0->evaluate) (6.0.5)\n",
            "Requirement already satisfied: yarl<2.0,>=1.0 in /usr/local/lib/python3.10/dist-packages (from aiohttp->datasets>=2.0.0->evaluate) (1.9.4)\n",
            "Requirement already satisfied: async-timeout<5.0,>=4.0 in /usr/local/lib/python3.10/dist-packages (from aiohttp->datasets>=2.0.0->evaluate) (4.0.3)\n",
            "Requirement already satisfied: six>=1.5 in /usr/local/lib/python3.10/dist-packages (from python-dateutil>=2.8.2->pandas->evaluate) (1.16.0)\n",
            "Installing collected packages: xxhash, dill, responses, multiprocess, huggingface-hub, datasets, evaluate\n",
            "  Attempting uninstall: huggingface-hub\n",
            "    Found existing installation: huggingface-hub 0.20.3\n",
            "    Uninstalling huggingface-hub-0.20.3:\n",
            "      Successfully uninstalled huggingface-hub-0.20.3\n",
            "Successfully installed datasets-2.19.0 dill-0.3.8 evaluate-0.4.1 huggingface-hub-0.22.2 multiprocess-0.70.16 responses-0.18.0 xxhash-3.4.1\n"
          ]
        },
        {
          "output_type": "display_data",
          "data": {
            "application/vnd.colab-display-data+json": {
              "pip_warning": {
                "packages": [
                  "huggingface_hub"
                ]
              },
              "id": "fe4855dbc7d4439e8c7bb8c19687180a"
            }
          },
          "metadata": {}
        }
      ]
    },
    {
      "cell_type": "code",
      "source": [
        "!pip install rouge-score\n"
      ],
      "metadata": {
        "id": "mRjtQ7-BhRDY",
        "colab": {
          "base_uri": "https://localhost:8080/"
        },
        "outputId": "543ada24-036b-4b49-cfdb-4625c09330f6"
      },
      "execution_count": 30,
      "outputs": [
        {
          "output_type": "stream",
          "name": "stdout",
          "text": [
            "Collecting rouge-score\n",
            "  Downloading rouge_score-0.1.2.tar.gz (17 kB)\n",
            "  Preparing metadata (setup.py) ... \u001b[?25l\u001b[?25hdone\n",
            "Requirement already satisfied: absl-py in /usr/local/lib/python3.10/dist-packages (from rouge-score) (1.4.0)\n",
            "Requirement already satisfied: nltk in /usr/local/lib/python3.10/dist-packages (from rouge-score) (3.8.1)\n",
            "Requirement already satisfied: numpy in /usr/local/lib/python3.10/dist-packages (from rouge-score) (1.25.2)\n",
            "Requirement already satisfied: six>=1.14.0 in /usr/local/lib/python3.10/dist-packages (from rouge-score) (1.16.0)\n",
            "Requirement already satisfied: click in /usr/local/lib/python3.10/dist-packages (from nltk->rouge-score) (8.1.7)\n",
            "Requirement already satisfied: joblib in /usr/local/lib/python3.10/dist-packages (from nltk->rouge-score) (1.4.0)\n",
            "Requirement already satisfied: regex>=2021.8.3 in /usr/local/lib/python3.10/dist-packages (from nltk->rouge-score) (2023.12.25)\n",
            "Requirement already satisfied: tqdm in /usr/local/lib/python3.10/dist-packages (from nltk->rouge-score) (4.66.2)\n",
            "Building wheels for collected packages: rouge-score\n",
            "  Building wheel for rouge-score (setup.py) ... \u001b[?25l\u001b[?25hdone\n",
            "  Created wheel for rouge-score: filename=rouge_score-0.1.2-py3-none-any.whl size=24933 sha256=447ecffa1d6c45115eede7595e0aa5f8870d49889345970590abd4ef5192c8fe\n",
            "  Stored in directory: /root/.cache/pip/wheels/5f/dd/89/461065a73be61a532ff8599a28e9beef17985c9e9c31e541b4\n",
            "Successfully built rouge-score\n",
            "Installing collected packages: rouge-score\n",
            "Successfully installed rouge-score-0.1.2\n"
          ]
        }
      ]
    },
    {
      "cell_type": "code",
      "source": [
        "human_written_summary = 'The survey paper delves into the rapidly increasing challenges and opportunities presented by the exponential growth of internet-based applications and social media, leading to the generation of vast unstructured data. This growth leads to the generation of vast unstructured data. The paper aims to provide a comprehensive overview of recent state-of-the-art approaches in sentiment classification (SC), encompassing various techniques and methodologies. It categorizes sentiment levels into document, sentence, and aspect levels, providing an overview of related work within each. The approach section outlines the entire process of sentiment classification, from data collection and pre-processing to feature extraction and model development. It provides insights into the best practices for each stage in the process. The paper outlines three model development approaches: machine learning, deep learning, and transfer learning, providing insights into algorithms and related work for each approach. Challenges in sentiment classification, such as irony, sarcasm, and noise in unstructured data, are discussed. Proposed solutions like a voting classifier gradient boosted SVM and considerations for adversarial attacks are also mentioned. In conclusion, the paper emphasizes the effectiveness of machine learning methods like SVM and Naive Bayes. However, it highlights the preference for deep learning approaches such as LSTM and BERT due to their adeptness in handling complex problems with large datasets. The paper notes that sentiment classification remains an evolving area of study. It suggests future research avenues for expanding the comparison of deep learning methods. The authors advocate for further exploration of these methods to advance the field. The study concludes by underscoring the need for ongoing research and development in sentiment classification.'"
      ],
      "metadata": {
        "id": "IZ2GnB9Gs8nh"
      },
      "execution_count": 44,
      "outputs": []
    },
    {
      "cell_type": "code",
      "source": [
        "ref = get_segments(human_written_summary)"
      ],
      "metadata": {
        "id": "BStuzU0sr78m"
      },
      "execution_count": 45,
      "outputs": []
    },
    {
      "cell_type": "code",
      "source": [
        "ref"
      ],
      "metadata": {
        "colab": {
          "base_uri": "https://localhost:8080/"
        },
        "id": "LYdA2GCMsGkt",
        "outputId": "83e632c9-8a46-4b4c-fce7-e25395698f15"
      },
      "execution_count": 46,
      "outputs": [
        {
          "output_type": "execute_result",
          "data": {
            "text/plain": [
              "['The survey paper delves into the rapidly increasing challenges and opportunities presented by the exponential growth of internet-based applications and social media, leading to the generation of vast unstructured data.',\n",
              " 'This growth leads to the generation of vast unstructured data.',\n",
              " 'The paper aims to provide a comprehensive overview of recent state-of-the-art approaches in sentiment classification (SC), encompassing various techniques and methodologies.',\n",
              " 'It categorizes sentiment levels into document, sentence, and aspect levels, providing an overview of related work within each.',\n",
              " 'The approach section outlines the entire process of sentiment classification, from data collection and pre-processing to feature extraction and model development.',\n",
              " 'It provides insights into the best practices for each stage in the process.',\n",
              " 'The paper outlines three model development approaches: machine learning, deep learning, and transfer learning, providing insights into algorithms and related work for each approach.',\n",
              " 'Challenges in sentiment classification, such as irony, sarcasm, and noise in unstructured data, are discussed.',\n",
              " 'Proposed solutions like a voting classifier gradient boosted SVM and considerations for adversarial attacks are also mentioned.',\n",
              " 'In conclusion, the paper emphasizes the effectiveness of machine learning methods like SVM and Naive Bayes.',\n",
              " 'However, it highlights the preference for deep learning approaches such as LSTM and BERT due to their adeptness in handling complex problems with large datasets.',\n",
              " 'The paper notes that sentiment classification remains an evolving area of study.',\n",
              " 'It suggests future research avenues for expanding the comparison of deep learning methods.',\n",
              " 'The authors advocate for further exploration of these methods to advance the field.',\n",
              " 'The study concludes by underscoring the need for ongoing research and development in sentiment classification.']"
            ]
          },
          "metadata": {},
          "execution_count": 46
        }
      ]
    },
    {
      "cell_type": "code",
      "source": [
        "!pip install rogue"
      ],
      "metadata": {
        "colab": {
          "base_uri": "https://localhost:8080/"
        },
        "id": "OKjolzIm2VVt",
        "outputId": "0ed4a372-ec0a-40b3-8a13-1304639ef4de"
      },
      "execution_count": 34,
      "outputs": [
        {
          "output_type": "stream",
          "name": "stdout",
          "text": [
            "Collecting rogue\n",
            "  Downloading rogue-0.0.2.tar.gz (5.4 kB)\n",
            "  Preparing metadata (setup.py) ... \u001b[?25l\u001b[?25hdone\n",
            "Building wheels for collected packages: rogue\n",
            "  Building wheel for rogue (setup.py) ... \u001b[?25l\u001b[?25hdone\n",
            "  Created wheel for rogue: filename=rogue-0.0.2-py3-none-any.whl size=7210 sha256=83ed532cc263c2ff27ce7f27469179244473197e33f3c054ff20edadcce59f62\n",
            "  Stored in directory: /root/.cache/pip/wheels/11/db/ee/a44bd5d88bd4903f31c1f677a28ac79e354555bca48332f232\n",
            "Successfully built rogue\n",
            "Installing collected packages: rogue\n",
            "Successfully installed rogue-0.0.2\n"
          ]
        }
      ]
    },
    {
      "cell_type": "code",
      "source": [
        "print('Performance based on Rogue score: ')"
      ],
      "metadata": {
        "colab": {
          "base_uri": "https://localhost:8080/"
        },
        "id": "t-Pi7w20EPRx",
        "outputId": "dc5c53f9-b2a0-4963-f5a6-ca27da5badb8"
      },
      "execution_count": 149,
      "outputs": [
        {
          "output_type": "stream",
          "name": "stdout",
          "text": [
            "Performance based on Rogue score: \n"
          ]
        }
      ]
    },
    {
      "cell_type": "code",
      "source": [
        "from evaluate import load\n",
        "# Load the ROUGE metric\n",
        "import evaluate\n",
        "rouge = evaluate.load('rouge')\n",
        "candidates = get_segments(combined_summary)\n",
        "# print(len(candidates))\n",
        "references = []\n",
        "references.append(ref)\n",
        "# print(len(references[0])) #it should have more refernce summaries in order to analyze the summary generated by llm\n",
        "results = rouge.compute(predictions=candidates, references=references[0])\n",
        "print(results)"
      ],
      "metadata": {
        "id": "xwSpFUdzgqBb",
        "colab": {
          "base_uri": "https://localhost:8080/"
        },
        "outputId": "d06a13e9-939d-481d-f67a-31d6dc49615a"
      },
      "execution_count": 48,
      "outputs": [
        {
          "output_type": "stream",
          "name": "stdout",
          "text": [
            "{'rouge1': 0.1732908370911774, 'rouge2': 0.01763668430335097, 'rougeL': 0.14810922558140271, 'rougeLsum': 0.14608063084817047}\n"
          ]
        }
      ]
    },
    {
      "cell_type": "markdown",
      "source": [
        "I think, the generated summary was good enough, and the Rogue scores above are not the correct represenation of the comparision.\n",
        "\n",
        "It should have more summaries to compare, but due to lack of time I could not generate different refernce summaries to compare. I think having more reference summaries to compare might have resulted into better score."
      ],
      "metadata": {
        "id": "GZ0X0_Bxxgc8"
      }
    },
    {
      "cell_type": "code",
      "source": [],
      "metadata": {
        "id": "5BjgTqkpgpwz"
      },
      "execution_count": null,
      "outputs": []
    },
    {
      "cell_type": "code",
      "source": [],
      "metadata": {
        "id": "CEzVp81sgo_A"
      },
      "execution_count": null,
      "outputs": []
    },
    {
      "cell_type": "markdown",
      "source": [
        "Q2- passing in the whole text without removing the reference section, instead explicitly mentioning that in the promt template."
      ],
      "metadata": {
        "id": "TNJCIuFggRa_"
      }
    },
    {
      "cell_type": "markdown",
      "source": [
        "template = \"\"\"\n",
        "              Write a detailed summary of the following text delimited by triple backticks,\n",
        "              please ensure that the summary captures the main ideas, arguments, and findings presented in the text. As the text is lengthy and will be processed in batches, the summary should seamlessly integrate information from all batches to provide a cohesive summary of the entire content.\n",
        "              ```{text}```\n",
        "              SUMMARY:\n",
        "           \"\"\""
      ],
      "metadata": {
        "id": "EU08Jrs12aTX"
      }
    },
    {
      "cell_type": "code",
      "source": [
        "template2 = \"\"\"\n",
        "              Write a detailed summary of the following text delimited by triple backticks,\n",
        "              please ensure that the summary captures the main ideas, arguments, and findings presented in the text. As the text is lengthy and will be processed in batches, the summary should seamlessly integrate information from all batches to provide a cohesive summary of the entire content.\n",
        "              Ignore the references section if it appears in any batch of the text.\n",
        "              ```{text}```\n",
        "              SUMMARY:\n",
        "           \"\"\""
      ],
      "metadata": {
        "id": "8IDxU4apJPNS"
      },
      "execution_count": 105,
      "outputs": []
    },
    {
      "cell_type": "code",
      "source": [
        "prompt2 = PromptTemplate(template=template2, input_variables=[\"text\"])\n",
        "llm_chain2 = LLMChain(prompt=prompt2, llm=llm)"
      ],
      "metadata": {
        "id": "02XActVriCmh"
      },
      "execution_count": 106,
      "outputs": []
    },
    {
      "cell_type": "code",
      "source": [],
      "metadata": {
        "id": "gIPIRcw4z5Te"
      },
      "execution_count": null,
      "outputs": []
    },
    {
      "cell_type": "code",
      "source": [
        "def divide_into_batches(text,batch_size):\n",
        "  segments = get_segments(text)\n",
        "\n",
        "  batches = []\n",
        "  current_batch = []\n",
        "\n",
        "  for segment in segments:\n",
        "\n",
        "    if len(\" \".join(current_batch)) + len(segment) > batch_size:\n",
        "      batches.append(current_batch)\n",
        "      current_batch = []\n",
        "\n",
        "    current_batch.append(segment)\n",
        "\n",
        "\n",
        "  if current_batch:\n",
        "    batches.append(current_batch)\n",
        "\n",
        "  return batches\n",
        "\n",
        "def summarize_batches(batches):\n",
        "  summaries = []\n",
        "\n",
        "  for batch in batches:\n",
        "    batch_text = \" \".join(batch)\n",
        "\n",
        "    summary = llm_chain2.run(batch_text)  # defining the function again with llm_chain2\n",
        "\n",
        "    summaries.append(summary)\n",
        "\n",
        "  return summaries\n"
      ],
      "metadata": {
        "id": "uUJwJcs20Npg"
      },
      "execution_count": 107,
      "outputs": []
    },
    {
      "cell_type": "code",
      "source": [
        "text = ''\n",
        "for i in range(len(reader.pages)):\n",
        "    page = reader.pages[i]\n",
        "    text_temp = page.extract_text()\n",
        "    text = text + \"\\n\" + text_temp"
      ],
      "metadata": {
        "id": "VkglHwbE7k0e"
      },
      "execution_count": 108,
      "outputs": []
    },
    {
      "cell_type": "code",
      "source": [
        "len(text)"
      ],
      "metadata": {
        "colab": {
          "base_uri": "https://localhost:8080/"
        },
        "id": "vBiiAMNO8fwI",
        "outputId": "7cbcff4b-b2dd-45d7-8243-174607fc1b36"
      },
      "execution_count": 111,
      "outputs": [
        {
          "output_type": "execute_result",
          "data": {
            "text/plain": [
              "13768"
            ]
          },
          "metadata": {},
          "execution_count": 111
        }
      ]
    },
    {
      "cell_type": "code",
      "source": [
        "import gc\n",
        "gc.collect()\n",
        "torch.cuda.empty_cache()"
      ],
      "metadata": {
        "id": "1LIKNbcZ8wSl"
      },
      "execution_count": 114,
      "outputs": []
    },
    {
      "cell_type": "code",
      "source": [
        "batch_size = 1500\n",
        "batches = divide_into_batches(text, batch_size) # text - with references\n",
        "summaries2 = summarize_batches(batches)"
      ],
      "metadata": {
        "id": "eLPAlwBb0XH0"
      },
      "execution_count": 115,
      "outputs": []
    },
    {
      "cell_type": "code",
      "source": [
        "len(summaries2)"
      ],
      "metadata": {
        "colab": {
          "base_uri": "https://localhost:8080/"
        },
        "id": "nQMvl9z40nGK",
        "outputId": "38b9ce68-fc34-41cf-cce2-25fea50ef958"
      },
      "execution_count": 116,
      "outputs": [
        {
          "output_type": "execute_result",
          "data": {
            "text/plain": [
              "10"
            ]
          },
          "metadata": {},
          "execution_count": 116
        }
      ]
    },
    {
      "cell_type": "code",
      "source": [
        "# summaries2"
      ],
      "metadata": {
        "id": "KARro18c1q3M"
      },
      "execution_count": 150,
      "outputs": []
    },
    {
      "cell_type": "code",
      "source": [],
      "metadata": {
        "id": "GZob-Ep76E4Q"
      },
      "execution_count": null,
      "outputs": []
    },
    {
      "cell_type": "code",
      "source": [
        "import re\n",
        "\n",
        "def extract_summary(text):\n",
        "\n",
        "    # Regular expression pattern to match text after \"SUMMARY:\"\n",
        "  pattern = r'SUMMARY:(.*)'\n",
        "\n",
        "    # Extract text after \"SUMMARY:\"\n",
        "  match = re.search(pattern, text, re.DOTALL)\n",
        "  if match:\n",
        "      return match.group(1).strip()\n",
        "  else:\n",
        "      return \"No summary found\"\n",
        "\n",
        "\n",
        "final_summary2 = []\n",
        "# Apply function to each string in the list\n",
        "for text in summaries2:\n",
        "  # print(text)\n",
        "  summary = extract_summary(text)\n",
        "  final_summary2.append(summary)\n"
      ],
      "metadata": {
        "id": "nCgvt9d10xO2"
      },
      "execution_count": 118,
      "outputs": []
    },
    {
      "cell_type": "code",
      "source": [
        "final_summary2"
      ],
      "metadata": {
        "colab": {
          "base_uri": "https://localhost:8080/"
        },
        "id": "bFhtF-aG0xLh",
        "outputId": "698ee0a9-22f0-497e-b5ff-ec0dc147f0ae"
      },
      "execution_count": 119,
      "outputs": [
        {
          "output_type": "execute_result",
          "data": {
            "text/plain": [
              "['This survey provides an update on the state of the art in sentiment analysis, focusing on classification methods leveraging machine learning and deep learning techniques. The authors review various approaches, including feature extraction, classification algorithms, and deep learning models, and highlight the challenges associated with sentiment classification. They also provide an overview of the existing survey on sentiment analysis, including text pre-processing techniques and the importance of sentiment classification in various applications. The authors conclude by emphasizing the need for further research to improve the accuracy and efficiency of sentiment classification methods.',\n",
              " 'This paper focuses on comprehensive and recent approaches in sentiment analysis, particularly in the field of Subjective Commentary (SC). The authors aim to provide a detailed overview of various methods, including document-level sentiment classification, sentence-level sentiment classification, and topic-document embedding. The paper highlights the advantages of using recent learning approaches, such as CBOW, SkipGram, Word2Vec, GloVe, and FastText, to gain the polarity of a document. Additionally, the authors discuss the importance of sentence-level sentiment classification when dealing with documents that have a wide range of sentiments. Overall, the paper provides a thorough analysis of the current state of sentiment analysis in SC, providing insights into the most effective approaches and techniques.',\n",
              " 'The article discusses aspect-level sentiment classification, which involves fine-grained analysis of aspects in a sentence and categorizing them as positive, negative, or neutral. The process of sentiment classification involves multiple tasks, including data collection, pre-processing, feature selection and extraction, model development, and evaluation. The authors highlight the importance of feature selection and extraction in improving the accuracy and efficiency of sentiment classification models. They also discuss various tools and libraries available for NLP tasks, including tokenization, normalization, stop word removal, part of speech tagging, and stemming and lemmatization.',\n",
              " 'This text discusses various machine learning-based approaches for sentiment classification, including Naive Bayes, Support Vector Machine (SVM), and neural network-based methods like Word2Vec, GloVe, and BERT. The author presents a step-by-step sentiment classification process and compares the performance of different algorithms on a FakeNews dataset. The text also discusses a hierarchy-based mood classification approach for blogs that uses sentiment orientation features and outperforms flat classification. Finally, the author mentions the use of Decision Tree (DT) and Random Forest for improving accuracy.\\n\\nThe main ideas and arguments presented in the text are:\\n\\n1. Machine learning-based approaches are commonly used for sentiment classification.\\n2. Naive Bayes is a suitable algorithm for sentiment classification, especially for high-dimensional inputs.\\n3. SVM is a non-probabilistic supervised learning algorithm used for classification and regression.\\n4. Neural network-based methods like Word2Vec, GloVe, and BERT can improve accuracy in sentiment classification.\\n5. A hierarchy-based mood classification approach for blogs using sentiment orientation features outperforms flat classification.\\n6. Decision Tree (DT) and Random Forest can improve accuracy in sentiment classification.\\n\\nThe findings presented in the text are:\\n\\n1. The FakeNews dataset can be classified accurately using machine learning-based approaches.\\n2. The hierarchy-based mood classification approach for blogs outperforms flat classification.\\n3. Neural network-based methods can improve accuracy in sentiment classification.\\n4. SVM can be used for classification and regression.\\n5. Decision Tree (DT) and Random Forest can improve accuracy in sentiment classification.\\n\\nIn summary, the text provides an overview of various machine learning-based approaches for sentiment classification, including their strengths and limitations. The author also presents a step-by-step sentiment classification process and compares the performance of different algorithms on a FakeNews dataset.',\n",
              " 'The article discusses various machine learning techniques, including logistic regression, maximum entropy, and deep learning-based approaches, for sentiment classification (SC) tasks. Logistic regression is a popular method for SC that predicts one of two classes by multiplying input values with weight values and achieves high accuracy when combined with TF-IDF vectorizers. Maximum entropy is a probabilistic exponential classifier that selects the most likely label for a feature set. Deep learning methods, such as convolutional neural networks (CNNs), recurrent neural networks (RNNs), and transformer networks, are popular for SC due to their high performance and automated feature extraction capabilities. Aspect-based sentiment analysis (ABSA) is another subfield of SC that aims to identify the sentiment expressed towards a particular aspect in a text. ABSA involves aspect extraction, which can be explicit or implicit, depending on whether the aspect term is explicitly mentioned or inferred from the context. The article also discusses the use of k-fold to divide the training and test sets and the importance of feature extraction in SC.',\n",
              " 'The article discusses the use of pre-trained models like GPT-2 and BERT for sentiment analysis in Aspect-Based Sentiment Analysis (ABSA). Transfer learning is proposed as a solution to the challenges of extracting valuable information from text data. The article highlights the advantages of using pre-trained models, including accurate results with less training time. However, the increasing amount of text data and the challenges of irony, sarcasm, slang, and subjective emotional intensity pose challenges for Sentiment Classification (SC). A voting classifier gradient boosted SVM is proposed to tackle these challenges, and adversarial attacks are another challenge in SC that can manipulate the output of the classifier.',\n",
              " 'This review paper discusses various techniques for Sentiment Classification (SC), including data preparation and classification methods. The authors explore the effectiveness of different machine learning approaches, such as Naive Bayes, Support Vector Machines (SVM), and Random Forest, as well as deep learning methods like Long Short-Term Memory (LSTM) and BERT. While these techniques have shown promise in SC, the authors note that there is still much to be explored in this area, particularly in the realm of deep learning. The paper also references several previous studies on SC, including those on the impact of corpora on fake news classification and the use of features extraction in sentiment analysis. Overall, the authors conclude that SC is an area of ongoing research and development, with many opportunities for future work in both traditional and deep learning approaches.',\n",
              " 'This article presents several studies on sentiment analysis, a task that involves determining the emotional tone of a piece of text. The studies employ various approaches, including document-level sentiment analysis, feature representation, and topic-document embeddings. The authors propose a hierarchical approach to mood classification in blogs, which involves identifying the emotional tone of a blog entry based on its content and structure. Another study presents a classified feature representation three-way decision model for sentiment analysis, which combines different features to improve the accuracy of sentiment classification. The authors also discuss the use of pre-trained deep bidirectional transformers for language understanding, which can be used for sentiment analysis tasks. Finally, the article reviews several studies on implicit and explicit aspect extraction in sentiment analysis, which involves identifying the specific aspects of an opinion that contribute to its overall sentiment.',\n",
              " 'The text presents several research papers related to natural language processing and machine learning, specifically focusing on language understanding, sentiment analysis, and text classification. The papers explore the use of generative pre-training, LSTM with sentence representations, bidirectional gated temporal convolution with attention, and maximum entropy algorithm for improving language understanding and sentiment analysis. The authors also compare the performance of different machine learning models, including logistic regression, random forest, and KNN, for text classification. The papers demonstrate the effectiveness of these approaches in improving the accuracy of language understanding and sentiment analysis tasks.',\n",
              " 'The text discusses the application of hierarchical attention networks (HANs) in document classification, with a focus on their ability to capture long-range dependencies and improve performance. The authors propose a new architecture that combines HANs with convolutional neural networks (CNNs) to form a hierarchical attention network (HAN-CNN). They evaluate the HAN-CNN on several benchmark datasets and show that it outperforms state-of-the-art models. The authors also analyze the attention weights generated by the HAN-CNN and find that they are useful for identifying important phrases and sentences in a document.\\n\\nThe second part of the text discusses the concept of three-way decision in rough set theory and its interpretation in machine learning. The author proposes a new algorithm for three-way decision-making based on the concept of intuitionistic fuzzy sets. The author also discusses the application of rough set theory in sentiment analysis and opinion mining, highlighting its ability to handle imprecise and uncertain data.\\n\\nThe last part of the text provides an overview of sentiment analysis and opinion mining, including their definitions, applications, and challenges. The author discusses the different approaches to sentiment analysis, such as rule-based, machine learning, and hybrid methods, and highlights the importance of using appropriate features and algorithms for effective sentiment analysis.\\n\\nIn summary, the text presents two main topics: the application of hierarchical attention networks in document classification and the application of rough set theory in sentiment analysis and opinion mining. Both topics are discussed in detail, with a focus on the key concepts, algorithms, and findings in each area.']"
            ]
          },
          "metadata": {},
          "execution_count": 119
        }
      ]
    },
    {
      "cell_type": "code",
      "source": [
        "combined_summary2 = \" \".join(final_summary2)"
      ],
      "metadata": {
        "id": "45l1reVi0xIH"
      },
      "execution_count": 120,
      "outputs": []
    },
    {
      "cell_type": "code",
      "source": [
        "human_written_summary2 = 'The survey paper delves into the rapidly increasing challenges and opportunities presented by the exponential growth of internet-based applications and social media, leading to the generation of vast unstructured data. This growth leads to the generation of vast unstructured data. The paper aims to provide a comprehensive overview of recent state-of-the-art approaches in sentiment classification (SC), encompassing various techniques and methodologies. It categorizes sentiment levels into document, sentence, and aspect levels, providing an overview of related work within each. The approach section outlines the entire process of sentiment classification, from data collection and pre-processing to feature extraction and model development. It provides insights into the best practices for each stage in the process. The paper outlines three model development approaches: machine learning, deep learning, and transfer learning, providing insights into algorithms and related work for each approach. Challenges in sentiment classification, such as irony, sarcasm, and noise in unstructured data, are discussed. Proposed solutions like a voting classifier gradient boosted SVM and considerations for adversarial attacks are also mentioned. In conclusion, the paper emphasizes the effectiveness of machine learning methods like SVM and Naive Bayes. However, it highlights the preference for deep learning approaches such as LSTM and BERT due to their adeptness in handling complex problems with large datasets. The paper notes that sentiment classification remains an evolving area of study. It suggests future research avenues for expanding the comparison of deep learning methods. '"
      ],
      "metadata": {
        "id": "9SDDEast0xE5"
      },
      "execution_count": 137,
      "outputs": []
    },
    {
      "cell_type": "code",
      "source": [
        "human_written_summary2 = human_written_summary2*6   # to make it the same length as the generated summary"
      ],
      "metadata": {
        "id": "M0kYQtzd_tsf"
      },
      "execution_count": 141,
      "outputs": []
    },
    {
      "cell_type": "markdown",
      "source": [
        "adding one more sentence"
      ],
      "metadata": {
        "id": "bhUHRBWxCEEg"
      }
    },
    {
      "cell_type": "code",
      "source": [
        "new_sentence = 'It also notes that sentiment classification remains an evolving area of study, suggesting future research avenues for expanding the comparison of deep learning methods.'"
      ],
      "metadata": {
        "id": "VooOIArLCG6b"
      },
      "execution_count": 144,
      "outputs": []
    },
    {
      "cell_type": "code",
      "source": [
        "human_written_summary2 = human_written_summary2 + \" \" + new_sentence"
      ],
      "metadata": {
        "id": "hsAtMK3qBoCM"
      },
      "execution_count": 145,
      "outputs": []
    },
    {
      "cell_type": "code",
      "source": [
        "ref2 = get_segments(human_written_summary2)"
      ],
      "metadata": {
        "id": "nuYSq-AaA6fW"
      },
      "execution_count": 146,
      "outputs": []
    },
    {
      "cell_type": "code",
      "source": [
        "from evaluate import load\n",
        "# Load the ROUGE metric\n",
        "import evaluate\n",
        "rouge = evaluate.load('rouge')\n",
        "candidates = get_segments(combined_summary2)\n",
        "# print(len(candidates))\n",
        "references = []\n",
        "references.append(ref2)\n",
        "# print(len(references[0])) #it should have more refernce summaries in order to analyze the summary generated by llm\n",
        "results = rouge.compute(predictions=candidates, references=references[0])\n",
        "print('Performance based on Rogue score without removing references: ')\n",
        "print(results)"
      ],
      "metadata": {
        "id": "LjYeiI6NiCVw",
        "colab": {
          "base_uri": "https://localhost:8080/"
        },
        "outputId": "9a34555b-c9de-419a-f454-fbec8202fc88"
      },
      "execution_count": 148,
      "outputs": [
        {
          "output_type": "stream",
          "name": "stdout",
          "text": [
            "Performance based on Rogue score without removing references: \n",
            "{'rouge1': 0.12641146196552178, 'rouge2': 0.009422437278817771, 'rougeL': 0.10190180542513848, 'rougeLsum': 0.10157436087067259}\n"
          ]
        }
      ]
    },
    {
      "cell_type": "code",
      "source": [],
      "metadata": {
        "id": "rXSQEyfciCEZ"
      },
      "execution_count": null,
      "outputs": []
    }
  ]
}